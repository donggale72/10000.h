{
  "nbformat": 4,
  "nbformat_minor": 0,
  "metadata": {
    "colab": {
      "provenance": [],
      "include_colab_link": true
    },
    "kernelspec": {
      "name": "python3",
      "display_name": "Python 3"
    },
    "language_info": {
      "name": "python"
    }
  },
  "cells": [
    {
      "cell_type": "markdown",
      "metadata": {
        "id": "view-in-github",
        "colab_type": "text"
      },
      "source": [
        "<a href=\"https://colab.research.google.com/github/donggale72/10000.html/blob/main/6_1_%EB%9D%BC%EC%9D%B4%EB%B8%8C%EB%9F%AC%EB%A6%AC_%EB%9E%9C%EB%8D%A4_ipynb%EC%9D%98_%EC%82%AC%EB%B3%B8.ipynb\" target=\"_parent\"><img src=\"https://colab.research.google.com/assets/colab-badge.svg\" alt=\"Open In Colab\"/></a>"
      ]
    },
    {
      "cell_type": "markdown",
      "metadata": {
        "id": "jgFAOz-Tw1VI"
      },
      "source": [
        "# 6-1.라이브러리: 랜덤\n",
        "---\n",
        "* 날짜:2023-1-7\n",
        "* 이름:서동관\n"
      ]
    },
    {
      "cell_type": "markdown",
      "metadata": {
        "id": "roC8A6Ro6THT"
      },
      "source": [
        "## 개념정리\n",
        "---\n",
        "\n",
        "전세계의 파이썬 사용자들이 유용한 라이브러리를 만들어 놓았습니다. 수많은 파이썬 라이브러리가 있지만 그중에서도 유용하고 기본적인 라이브러리를 알아보도록 하겠습니다. \n",
        "\n",
        "주사위를 던지거나 복권추첨 등 난수를 이용해서 코드를 짜야할 때가 종종 있습니다. 파이썬에서 난수를 만드는 방법을 알아보도록 하겠습니다. 난수를 만드는 모듈은 **random** 을 이용합니다. "
      ]
    },
    {
      "cell_type": "markdown",
      "metadata": {
        "id": "HjPXsM8C5ULZ"
      },
      "source": [
        "### **(1) 라이브러리 임포트(import)**\n",
        "\n",
        "아래와 같이 `random` 모듈을 `import` 해줍니다.\n",
        "\n",
        "```\n",
        "import random\n",
        "```\n"
      ]
    },
    {
      "cell_type": "code",
      "metadata": {
        "id": "9pxx7Zy53xFz"
      },
      "source": [],
      "execution_count": null,
      "outputs": []
    },
    {
      "cell_type": "markdown",
      "source": [
        "### **(2) 기본 사용 : `random`**"
      ],
      "metadata": {
        "id": "4hBv297VxWGr"
      }
    },
    {
      "cell_type": "markdown",
      "metadata": {
        "id": "o4Y67BgLKmxO"
      },
      "source": [
        "#### **랜덤값 생성**\n",
        "\n"
      ]
    },
    {
      "cell_type": "markdown",
      "metadata": {
        "id": "zD6gfuVD3xwx"
      },
      "source": [
        "* `random.random` : 0과 1사이의 난수를 무작위로 생성합니다.\n",
        "\n",
        "```\n",
        "random.random()\n",
        "```\n",
        "\n"
      ]
    },
    {
      "cell_type": "code",
      "metadata": {
        "id": "OaowHk_83leh"
      },
      "source": [],
      "execution_count": null,
      "outputs": []
    },
    {
      "cell_type": "markdown",
      "metadata": {
        "id": "BOwMgkiC4RqB"
      },
      "source": [
        "* `random.randint`: 특정 범위 랜덤한 정수를 무작위로 생성합니다. (a이상 b 이하)\n",
        "\n",
        "```\n",
        "random.randint(a, b)\n",
        "```\n",
        "\n"
      ]
    },
    {
      "cell_type": "code",
      "metadata": {
        "id": "_zG33m-S4RqI"
      },
      "source": [],
      "execution_count": null,
      "outputs": []
    },
    {
      "cell_type": "markdown",
      "metadata": {
        "id": "CbpP-qatLAmI"
      },
      "source": [
        "#### **랜덤값 추출**"
      ]
    },
    {
      "cell_type": "markdown",
      "metadata": {
        "id": "uETLiTpC5OQd"
      },
      "source": [
        "* `random.choice`: 주어진 sequence 에서 랜덤으로 한개의 요소를 뽑습니다.\n",
        "\n",
        "```\n",
        "a = [1,2,3] # 리스트 a가 주어졌을 때 \n",
        "b = random.choice(a) # a의 요소 중 한개를 뽑아 b로 바인딩\n",
        "print(b)\n",
        "```\n",
        "\n"
      ]
    },
    {
      "cell_type": "code",
      "metadata": {
        "id": "MKMHr7p651mJ"
      },
      "source": [],
      "execution_count": null,
      "outputs": []
    },
    {
      "cell_type": "markdown",
      "metadata": {
        "id": "PbidqOm3z7sn"
      },
      "source": [
        "* `random.choices` : 주어진 sequence 에서 랜덤으로 k개의 요소를 뽑습니다. 중복이 가능합니다.\n",
        "\n",
        "```\n",
        "a = [1,2,3] # 리스트 a가 주어졌을 때 \n",
        "b = random.choices(a, k=2) # a의 요소 중 k개를 뽑아 b로 바인딩\n",
        "print(b)\n",
        "```\n",
        "\n"
      ]
    },
    {
      "cell_type": "code",
      "metadata": {
        "id": "sgyxjWvLz7sv"
      },
      "source": [],
      "execution_count": null,
      "outputs": []
    },
    {
      "cell_type": "markdown",
      "metadata": {
        "id": "A17ZgbqfK3lr"
      },
      "source": [
        "#### **기타**"
      ]
    },
    {
      "cell_type": "markdown",
      "metadata": {
        "id": "9od_vtK84u_4"
      },
      "source": [
        "* `random.shuffle` : 특정 시퀀스를 랜덤하게 섞는 함수입니다.\n",
        "\n",
        "```\n",
        "a = [1,2,3]\n",
        "random.shuffle(a)\n",
        "print(a)\n",
        "```\n",
        "\n"
      ]
    },
    {
      "cell_type": "code",
      "metadata": {
        "id": "_srXvBaG4Xmi"
      },
      "source": [],
      "execution_count": null,
      "outputs": []
    },
    {
      "cell_type": "markdown",
      "metadata": {
        "id": "qgwblcg16Qb7"
      },
      "source": [
        "# 예제\n",
        "---"
      ]
    },
    {
      "cell_type": "markdown",
      "metadata": {
        "id": "wEh21CAlIF5M"
      },
      "source": [
        "####**예제 01 여러번의 주사위**\n",
        "\n",
        "\n",
        "    - 주사위를 던지면 1에서 6까지 숫자가 랜덤으로 나옵니다.\n",
        "    - 주사위를 사용하가 입력한 만큼 돌리고 각숫자가 몇번씩 나왔는지 알려주는 함수를 작성하세요\n"
      ]
    },
    {
      "cell_type": "code",
      "source": [
        "import random\n",
        "c=[]\n",
        "c=[random.randint(1,6) for i in range(10)]\n",
        "print(c)\n",
        "c.count(1)\n"
      ],
      "metadata": {
        "colab": {
          "base_uri": "https://localhost:8080/"
        },
        "id": "4HPqb2CMCk5z",
        "outputId": "692fbda5-7d9d-4878-acc6-5f62f93cbbea"
      },
      "execution_count": null,
      "outputs": [
        {
          "output_type": "stream",
          "name": "stdout",
          "text": [
            "[2, 3, 6, 6, 4, 6, 5, 2, 2, 5]\n"
          ]
        },
        {
          "output_type": "execute_result",
          "data": {
            "text/plain": [
              "0"
            ]
          },
          "metadata": {},
          "execution_count": 14
        }
      ]
    },
    {
      "cell_type": "code",
      "metadata": {
        "id": "kv4kbTMuAoLN",
        "colab": {
          "base_uri": "https://localhost:8080/"
        },
        "outputId": "db1aa73f-1ae7-4c7b-8832-e0f36b813688"
      },
      "source": [
        "import random\n",
        "a=[]\n",
        "def jusawi(b):\n",
        "  for j in range(b):\n",
        "    a.append(random.randint(1,6))\n",
        "  for i in range(1,7):\n",
        "    print(f'{i}은 {a.count(i)}번 나왔습니다')\n",
        "\n",
        "jusawi(5)\n",
        "print(len(a),a)"
      ],
      "execution_count": null,
      "outputs": [
        {
          "output_type": "stream",
          "name": "stdout",
          "text": [
            "1은 1번 나왔습니다\n",
            "2은 0번 나왔습니다\n",
            "3은 0번 나왔습니다\n",
            "4은 1번 나왔습니다\n",
            "5은 1번 나왔습니다\n",
            "6은 2번 나왔습니다\n",
            "5 [4, 6, 5, 1, 6]\n"
          ]
        }
      ]
    },
    {
      "cell_type": "markdown",
      "metadata": {
        "id": "R_v3MPkG6zci"
      },
      "source": [
        "####**예제 02 업다운게임**\n",
        "\n",
        "    - 1~100까지 값이 랜덤하게 지정됩니다.\n",
        "    - 랜덤값(정답)이 사용자가 찍은 답보다 높으면 UP\n",
        "    - 랜덤값이 낮으면 DOWN\n",
        "    - 랜덤값을 맞추면 \"CORRECT\"를 출력합니다.\n",
        "    - 사용자가 랜덤값을 맞출 때까지 진행됩니다.\n"
      ]
    },
    {
      "cell_type": "code",
      "metadata": {
        "id": "rchkDnZE6y10",
        "colab": {
          "base_uri": "https://localhost:8080/"
        },
        "outputId": "28b0296a-d6e0-48f6-ae77-17104763f56c"
      },
      "source": [
        "def ran_dom():\n",
        "  a=random.randint(1,100)\n",
        "  while True:\n",
        "    c=int(input('정답을 맟추어 보세요 양수입니다.'))\n",
        "    if a>c:\n",
        "      print('up')\n",
        "    elif a<c:\n",
        "      print('down')\n",
        "    elif a==c:\n",
        "      print('CORRECT')\n",
        "      break\n",
        "ran_dom()"
      ],
      "execution_count": null,
      "outputs": [
        {
          "output_type": "stream",
          "name": "stdout",
          "text": [
            "정답을 맟추어 보세요 양수입니다.100\n",
            "down\n",
            "정답을 맟추어 보세요 양수입니다.90\n",
            "down\n",
            "정답을 맟추어 보세요 양수입니다.70\n",
            "down\n",
            "정답을 맟추어 보세요 양수입니다.50\n",
            "down\n",
            "정답을 맟추어 보세요 양수입니다.20\n",
            "up\n",
            "정답을 맟추어 보세요 양수입니다.30\n",
            "up\n",
            "정답을 맟추어 보세요 양수입니다.35\n",
            "down\n",
            "정답을 맟추어 보세요 양수입니다.33\n",
            "down\n",
            "정답을 맟추어 보세요 양수입니다.31\n",
            "up\n",
            "정답을 맟추어 보세요 양수입니다.32\n",
            "CORRECT\n"
          ]
        }
      ]
    },
    {
      "cell_type": "markdown",
      "metadata": {
        "id": "l3NBAKiG7sD8"
      },
      "source": [
        "####**예제 03 숫자야구**\n",
        "\n",
        "    - 0~9까지 값을 지닌 3자리 숫자가 랜덤하게 지정됩니다.\n",
        "    - 각 자리 숫자는 중복되지 않아야 합니다.\n",
        "    - 맞춰야할 랜덤값 3개중 자리수에 상관없이 맞추면 \"볼\", 자리수까지 맞추면 \"홈런\" 입니다.\n",
        "    - 사용자가 지정된 랜덤값을 맞출 때까지 진행됩니다.\n",
        "\n",
        "\n",
        "\n",
        "* 아래 표는 랜덤값이 123일 때 사용자의 입력과 그에 따른 출력을 나타낸 표입니다. \n",
        "\n",
        "입력|출력\n",
        "---|---\n",
        "123| 3볼 3홈런\n",
        "132| 3볼 1홈런\n",
        "231| 3볼 0홈런 \n",
        "125| 2볼 2홈런\n",
        "\n"
      ]
    },
    {
      "cell_type": "code",
      "source": [],
      "metadata": {
        "id": "eFwTfA7ffX7d"
      },
      "execution_count": null,
      "outputs": []
    },
    {
      "cell_type": "code",
      "source": [
        "a=['1','2','1']\n",
        "print(a[0])\n",
        "s=a.count('1')\n",
        "print(s, type(s))\n",
        "c=['1','3','1']\n",
        "\n",
        "d=[]\n",
        "\n",
        "for i in range(0,3):\n",
        "    if a[i]==c[i]:\n",
        "        d.append(i)\n",
        "print(d,len(d))\n",
        "e=[1,2,3]\n",
        "sum(e)"
      ],
      "metadata": {
        "colab": {
          "base_uri": "https://localhost:8080/"
        },
        "id": "M4a_6YoSWESr",
        "outputId": "17247d6d-d193-40cf-dba8-61ab4fa372cf"
      },
      "execution_count": null,
      "outputs": [
        {
          "output_type": "stream",
          "name": "stdout",
          "text": [
            "1\n",
            "2 <class 'int'>\n",
            "[0, 2] 2\n"
          ]
        },
        {
          "output_type": "execute_result",
          "data": {
            "text/plain": [
              "6"
            ]
          },
          "metadata": {},
          "execution_count": 23
        }
      ]
    },
    {
      "cell_type": "code",
      "metadata": {
        "id": "T6yhNpAT6RsJ",
        "colab": {
          "base_uri": "https://localhost:8080/"
        },
        "outputId": "d47124a5-43ef-422c-d038-a8f85996307d"
      },
      "source": [
        "import random\n",
        "for i in range(10):\n",
        "  a=random.randint(100,999)\n",
        "  a=list(str(a))\n",
        "  if a[0]==a[1] or a[0]==a[2] or a[1]==a[2]:\n",
        "    continue\n",
        "  else:\n",
        "    print(a)\n",
        "    break\n",
        "    \n",
        "\n",
        "def baseball():\n",
        "  l=0\n",
        "  \n",
        "  while l<=3:\n",
        "    l+=1\n",
        "    c=input('값을 맟추세요')\n",
        "    print(c)\n",
        "    d=[0]\n",
        "    e=[]\n",
        "    for i in range(0,3):\n",
        "      if a[i]==c[i]:\n",
        "         d.append(i)\n",
        "      elif a[i]!=c[i]:\n",
        "        e.append(a.count(c[i]))        \n",
        "      elif c<0:\n",
        "        break\n",
        "    \n",
        "    print(f'{sum(e)}볼 {len(d)-1}홈런')\n",
        "baseball()"
      ],
      "execution_count": null,
      "outputs": [
        {
          "output_type": "stream",
          "name": "stdout",
          "text": [
            "['1', '6', '7']\n",
            "값을 맟추세요175\n",
            "175\n",
            "1볼 1홈런\n",
            "값을 맟추세요761\n",
            "761\n",
            "2볼 1홈런\n",
            "값을 맟추세요333\n",
            "333\n",
            "0볼 0홈런\n",
            "값을 맟추세요123\n",
            "123\n",
            "0볼 1홈런\n"
          ]
        }
      ]
    },
    {
      "cell_type": "markdown",
      "metadata": {
        "id": "Mal9fB6ZmXXV"
      },
      "source": [
        "####**예제 04 같은 그림 맞추기**\n",
        "\n",
        "    - 숫자가 1부터 16까지 순서대로 나열됩니다. (4x4 크기).\n",
        "    - 숫자 두개를 고르면 고른 숫자카드 두개는 알파벳이 보여집니다. \n",
        "    - 두 알파벳이 동일하면 알파벳이 보여진채로 다음 숫자 두개를 고릅니다.\n",
        "    - 두 알파벳이 다르면 다시 숫자카드가 보인채로 다음 숫자 두개를 고릅니다.\n",
        "    - 알파벳이 모두 보여지면 게임이 끝납니다.\n",
        "\n",
        "* 예시\n",
        "\n",
        "```\n",
        ">> 같은그림 맞추기 시작! \n",
        "\n",
        "| 1| 2| 3| 4|\n",
        "| 5| 6| 7| 8|\n",
        "| 9|10|11|12|\n",
        "|13|14|15|16|\n",
        "\n",
        ">> 숫자1: 5\n",
        ">> 숫자2: 10\n",
        "\n",
        "| 1| 2| 3| 4|\n",
        "| A| 6| 7| 8|\n",
        "| 9| A|11|12|\n",
        "|13|14|15|16|\n",
        "\n",
        "```\n"
      ]
    },
    {
      "cell_type": "code",
      "source": [
        "import random\n",
        "b=[]\n",
        "for i in range(1,17):\n",
        "  b.append(i)\n",
        "random.shuffle(b)\n",
        "a=['A','B','C','D','E','F','G','H']*2\n",
        "dic_1=dict(zip(b,a))\n",
        "print(dic_1)\n",
        "dic_11=dic_1.keys()\n",
        "dic_12=dic_1.values()\n",
        "print(dic_11)\n",
        "print(dic_12)\n"
      ],
      "metadata": {
        "id": "hHpcw4MOJgjU",
        "colab": {
          "base_uri": "https://localhost:8080/"
        },
        "outputId": "bf0db80b-5a88-4868-d669-55db2832c467"
      },
      "execution_count": null,
      "outputs": [
        {
          "output_type": "stream",
          "name": "stdout",
          "text": [
            "{2: 'A', 8: 'B', 1: 'C', 14: 'D', 10: 'E', 5: 'F', 12: 'G', 3: 'H', 7: 'A', 6: 'B', 4: 'C', 16: 'D', 15: 'E', 9: 'F', 11: 'G', 13: 'H'}\n",
            "dict_keys([2, 8, 1, 14, 10, 5, 12, 3, 7, 6, 4, 16, 15, 9, 11, 13])\n",
            "dict_values(['A', 'B', 'C', 'D', 'E', 'F', 'G', 'H', 'A', 'B', 'C', 'D', 'E', 'F', 'G', 'H'])\n"
          ]
        }
      ]
    },
    {
      "cell_type": "code",
      "source": [
        "print('같은 그림 맞추기 시작')\n",
        "stack = []\n",
        "while True:\n",
        "  if len(stack) >= 3:\n",
        "    break\n",
        "  for i in range(1,17):\n",
        "    if dic_1[i] in stack:\n",
        "      print('| %2s ' % dic_1[i],end='')\n",
        "    else:\n",
        "      print('| %2d '%i,end='')\n",
        "    if i%4==0:\n",
        "      print('|')\n",
        "  a = int(input('숫자 1 :'))\n",
        "  b = int(input('숫자 2 :'))\n",
        "  print(dic_1[a], dic_1[b])\n",
        "  if dic_1[a] == dic_1[b]:\n",
        "    stack.append(dic_1[a])\n",
        "    stack.append(dic_1[b])\n",
        "  \n",
        "\n",
        "\n"
      ],
      "metadata": {
        "id": "Crt57k9kQy5W",
        "colab": {
          "base_uri": "https://localhost:8080/"
        },
        "outputId": "9ba53d0b-61c1-44b0-af59-1e1e8f606d22"
      },
      "execution_count": null,
      "outputs": [
        {
          "output_type": "stream",
          "name": "stdout",
          "text": [
            "같은 그림 맞추기 시작\n",
            "|  1 |  2 |  3 |  4 |\n",
            "|  5 |  6 |  7 |  8 |\n",
            "|  9 | 10 | 11 | 12 |\n",
            "| 13 | 14 | 15 | 16 |\n",
            "숫자 1 :6\n",
            "숫자 2 :8\n",
            "B B\n",
            "|  1 |  2 |  3 |  4 |\n",
            "|  5 |  B |  7 |  B |\n",
            "|  9 | 10 | 11 | 12 |\n",
            "| 13 | 14 | 15 | 16 |\n",
            "숫자 1 :3\n",
            "숫자 2 :4\n",
            "H C\n",
            "|  1 |  2 |  3 |  4 |\n",
            "|  5 |  B |  7 |  B |\n",
            "|  9 | 10 | 11 | 12 |\n",
            "| 13 | 14 | 15 | 16 |\n",
            "숫자 1 :5\n",
            "숫자 2 :6\n",
            "F B\n",
            "|  1 |  2 |  3 |  4 |\n",
            "|  5 |  B |  7 |  B |\n",
            "|  9 | 10 | 11 | 12 |\n",
            "| 13 | 14 | 15 | 16 |\n",
            "숫자 1 :7\n",
            "숫자 2 :8\n",
            "A B\n",
            "|  1 |  2 |  3 |  4 |\n",
            "|  5 |  B |  7 |  B |\n",
            "|  9 | 10 | 11 | 12 |\n",
            "| 13 | 14 | 15 | 16 |\n",
            "숫자 1 :9\n",
            "숫자 2 :10\n",
            "F E\n",
            "|  1 |  2 |  3 |  4 |\n",
            "|  5 |  B |  7 |  B |\n",
            "|  9 | 10 | 11 | 12 |\n",
            "| 13 | 14 | 15 | 16 |\n",
            "숫자 1 :5\n",
            "숫자 2 :9\n",
            "F F\n"
          ]
        }
      ]
    }
  ]
}
