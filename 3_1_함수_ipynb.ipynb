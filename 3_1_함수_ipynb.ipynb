{
  "nbformat": 4,
  "nbformat_minor": 0,
  "metadata": {
    "colab": {
      "provenance": [],
      "include_colab_link": true
    },
    "kernelspec": {
      "name": "python3",
      "display_name": "Python 3"
    },
    "language_info": {
      "name": "python"
    }
  },
  "cells": [
    {
      "cell_type": "markdown",
      "metadata": {
        "id": "view-in-github",
        "colab_type": "text"
      },
      "source": [
        "<a href=\"https://colab.research.google.com/github/donggale72/10000.html/blob/main/3_1_%ED%95%A8%EC%88%98_ipynb%EC%9D%98_%EC%82%AC%EB%B3%B8.ipynb\" target=\"_parent\"><img src=\"https://colab.research.google.com/assets/colab-badge.svg\" alt=\"Open In Colab\"/></a>"
      ]
    },
    {
      "cell_type": "markdown",
      "source": [
        "# 3. 함수\n",
        "---\n",
        "* 날짜:2022-12-29\n",
        "* 이름:서동관"
      ],
      "metadata": {
        "id": "kB5IciXEm6o4"
      }
    },
    {
      "cell_type": "markdown",
      "source": [
        "## 개념정리\n",
        "---\n"
      ],
      "metadata": {
        "id": "4iN8NFzHRJ2D"
      }
    },
    {
      "cell_type": "markdown",
      "source": [
        "### **(1) 기본 사용**\n",
        "\n",
        "\n",
        "함수는 아래와 같이 정의 할 수 있습니다. 함수의 이름을 선언한 후 이름 아래에 코드를 작성합니다. 아래 코드에서 함수의 이름은`plus`이고 이 함수는 `plus`를 출력하는 함수입니다. \n",
        "\n",
        "\n",
        "```\n",
        "def plus():\n",
        "  print('plus')\n",
        "```\n",
        "\n",
        "코드를 작성하고 셸을 실행하세요. 아무런 일도 일어나지 않습니다. 우리는 함수를 `정의`만 했을 뿐 아직 실행하지 않았습니다.\n"
      ],
      "metadata": {
        "id": "MAM8MDnfw68b"
      }
    },
    {
      "cell_type": "code",
      "source": [
        "def plus():\n",
        "  print('plus')"
      ],
      "metadata": {
        "id": "mtAw3UNponv3"
      },
      "execution_count": null,
      "outputs": []
    },
    {
      "cell_type": "markdown",
      "source": [
        "### **(2) 실행**\n",
        "\n",
        "\n",
        "\n",
        "함수를 실행하기 위해서는 함수의 이름과 괄호를 써줍니다.\n",
        "\n",
        "```\n",
        "plus()\n",
        "```\n",
        "\n"
      ],
      "metadata": {
        "id": "gaTRb9qYopc_"
      }
    },
    {
      "cell_type": "code",
      "source": [
        "plus()"
      ],
      "metadata": {
        "id": "aN-Mr7VMoqeN",
        "colab": {
          "base_uri": "https://localhost:8080/"
        },
        "outputId": "a920de41-c4e1-4ac4-8433-036aeb1a5377"
      },
      "execution_count": null,
      "outputs": [
        {
          "output_type": "stream",
          "name": "stdout",
          "text": [
            "plus\n"
          ]
        }
      ]
    },
    {
      "cell_type": "markdown",
      "source": [
        "### **(3) 매개변수와 인수**\n",
        "\n",
        "매개변수와 인수는 함수의 인풋이라고 볼 수 있습니다. 파이썬 함수에는 인풋과 아웃풋이 존재하지 않을 수도 있고, 하나 또는 그 이상도 가능합니다. \n"
      ],
      "metadata": {
        "id": "D2DPCKvuopYy"
      }
    },
    {
      "cell_type": "markdown",
      "source": [
        "#### **매개변수 (parameter)**\n",
        "\n",
        "매개변수(parameter)는 함수를 정의할 때 입력하는 파라미터 입니다. 함수 정의시 괄호 안에 아래와 같이 작성합니다. 아래 함수에서 매개변수는 `input`과 `input2`에 해당합니다.\n",
        "\n",
        "```\n",
        "def plus(input1, input2):\n",
        "  print(f'{input1} + {input2}')\n",
        "```\n"
      ],
      "metadata": {
        "id": "sZpxCwOWqT7t"
      }
    },
    {
      "cell_type": "code",
      "source": [
        "def plus(input1,input2):\n",
        "  print(f'{input1} + {input2}')"
      ],
      "metadata": {
        "id": "sUDgnWmbqWX_"
      },
      "execution_count": null,
      "outputs": []
    },
    {
      "cell_type": "markdown",
      "source": [
        "#### **인수 (argument)**\n",
        "\n",
        "이제 이 함수는 매개변수 두개, 즉 인풋으로 두개의 값을  필요로 합니다. 인수(argument)란 이 함수를 실행할 때 필요로 하는 파라미터 입니다. 아래 코드에서는 함수를 실행하고 있고 이때 인수로 1과 2가 들어갑니다.\n",
        "\n",
        "```\n",
        "plus(1, 2)\n",
        "```"
      ],
      "metadata": {
        "id": "cQfhMFjbqWeT"
      }
    },
    {
      "cell_type": "code",
      "source": [
        "plus(1,2)"
      ],
      "metadata": {
        "id": "FdfMHSbvqZdK",
        "colab": {
          "base_uri": "https://localhost:8080/"
        },
        "outputId": "c752704c-d6a7-4ff3-bf2b-d0320711cabc"
      },
      "execution_count": null,
      "outputs": [
        {
          "output_type": "stream",
          "name": "stdout",
          "text": [
            "1 + 2\n"
          ]
        }
      ]
    },
    {
      "cell_type": "markdown",
      "source": [
        "### **(4) 함수의 반환**\n",
        "\n",
        "함수에는 인풋과 마찬가지로 아웃풋도 존재합니다. 만약 함수를 통해 반환하는 값을 원한다면 `return` 을 이용합니다.\n",
        "\n",
        "```\n",
        "def plus(input1, input2):\n",
        "  plus_value = input1+input2\n",
        "  return plus_value\n",
        "```\n"
      ],
      "metadata": {
        "id": "XJc026HEqbNX"
      }
    },
    {
      "cell_type": "code",
      "source": [
        "def plus(input1, input2):\n",
        "  plus_value = input1 + input2\n",
        "  return plus_value"
      ],
      "metadata": {
        "id": "Wti0TzI2qaGf"
      },
      "execution_count": null,
      "outputs": []
    },
    {
      "cell_type": "markdown",
      "source": [
        "이제 이 함수는 `plus_value` 을 반환합니다. 이 함수를 사용한 후 `plus_value`라는 값을 바인딩하려면 아래와 같이 적어줍니다.\n",
        "\n",
        "```\n",
        "a = plus(5, 5)\n",
        "print(a)\n",
        "```"
      ],
      "metadata": {
        "id": "s1II1HFdqf5X"
      }
    },
    {
      "cell_type": "code",
      "source": [
        "a=plus(5,5)\n",
        "print(a)"
      ],
      "metadata": {
        "id": "c9HL3cwPqe0X",
        "colab": {
          "base_uri": "https://localhost:8080/"
        },
        "outputId": "be32c521-e7fe-4c58-8912-245e8cddbb81"
      },
      "execution_count": null,
      "outputs": [
        {
          "output_type": "stream",
          "name": "stdout",
          "text": [
            "10\n"
          ]
        }
      ]
    },
    {
      "cell_type": "markdown",
      "source": [
        "#### **여러개의 반환**\n",
        "\n",
        "여러개의 반환 값을 원한다면 아래와 같이 작성합니다.\n",
        "\n",
        "```\n",
        "def plus_minus(input1, input2):\n",
        "  plus_value = input1+input2\n",
        "  minus_value = input1-input2\n",
        "  return plus_value, minus_value\n",
        "```"
      ],
      "metadata": {
        "id": "rVGVIl5vqiZd"
      }
    },
    {
      "cell_type": "code",
      "source": [
        "def plus_minus(input1,input2):\n",
        "  plus_value=input1 + input2\n",
        "  minus_value=input1-input2\n",
        "  return plus_value, minus_value\n"
      ],
      "metadata": {
        "id": "QTeSZkH-qgsu"
      },
      "execution_count": 1,
      "outputs": []
    },
    {
      "cell_type": "markdown",
      "source": [
        "함수를 사용할 때는 아래와 같이 써줍니다.\n",
        "\n",
        "```\n",
        "a = plus_minus(5, 5)\n",
        "print(a)\n",
        "```"
      ],
      "metadata": {
        "id": "yqITb4FcqmEf"
      }
    },
    {
      "cell_type": "code",
      "source": [
        "a=plus_minus(5,5)\n",
        "print(a)"
      ],
      "metadata": {
        "id": "9rJEadzxqlRw",
        "colab": {
          "base_uri": "https://localhost:8080/"
        },
        "outputId": "c2df9d93-cffc-4cea-d20a-bc7c4dd9304c"
      },
      "execution_count": 2,
      "outputs": [
        {
          "output_type": "stream",
          "name": "stdout",
          "text": [
            "(10, 0)\n"
          ]
        }
      ]
    },
    {
      "cell_type": "markdown",
      "source": [
        "이 때 `a` 의 값이 튜플 형식으로 지정되어 있는 것을 볼 수 있습니다. 반환값을 여러개의 변수로 바인딩 하고 싶으면 아래와 같이 작성해줍니다. \n",
        "\n",
        "```\n",
        "a_pi, a_mi = plus_minus(5,5)\n",
        "print(a_pi)\n",
        "print(a_mi)\n",
        "```\n",
        "\n"
      ],
      "metadata": {
        "id": "cbLQp5KWqpmQ"
      }
    },
    {
      "cell_type": "code",
      "source": [
        "a_pi, a_mi=plus_minus(5,5)\n",
        "print(a_pi)\n",
        "print(a_mi)"
      ],
      "metadata": {
        "id": "bVBWRHM8qn1P",
        "colab": {
          "base_uri": "https://localhost:8080/"
        },
        "outputId": "20edfaa0-587c-4820-8b9d-b83f242d729f"
      },
      "execution_count": 3,
      "outputs": [
        {
          "output_type": "stream",
          "name": "stdout",
          "text": [
            "10\n",
            "0\n"
          ]
        }
      ]
    },
    {
      "cell_type": "markdown",
      "source": [
        "### **(5) 여러가지 매개변수**\n"
      ],
      "metadata": {
        "id": "I2nXtSe1qvFh"
      }
    },
    {
      "cell_type": "markdown",
      "source": [
        "#### **디폴트 값이 있는 매개변수**\n",
        "\n",
        "특정 인수의 디폴드 값을 아래와 같이 지정 할 수 있습니다.\n",
        "\n",
        "```\n",
        "def plus(input1, input2, bias=0):\n",
        "  print(input1+input2+bias)\n",
        "```"
      ],
      "metadata": {
        "id": "2Nq7NkdLqvMF"
      }
    },
    {
      "cell_type": "code",
      "source": [
        "def plus(input1, input2, bias=0):\n",
        "  print(input1+input2+bias)"
      ],
      "metadata": {
        "id": "A9V9N606qreB"
      },
      "execution_count": 4,
      "outputs": []
    },
    {
      "cell_type": "markdown",
      "source": [
        "\n",
        "디폴트로 매개변수를 지정했다면 함수를 실행할 때 인수를 입력하지 않아도 디폴트값이 작동됩니다. 아래 함수에서 `bias`값이 디폴트값인 0으로 작동합니다. \n",
        "\n",
        "```\n",
        "plus(1, 3)\n",
        "```\n"
      ],
      "metadata": {
        "id": "7SZm0zoPq5LZ"
      }
    },
    {
      "cell_type": "code",
      "source": [
        "plus(1,3)"
      ],
      "metadata": {
        "id": "JPnFtvMxq3Zp",
        "colab": {
          "base_uri": "https://localhost:8080/"
        },
        "outputId": "c79be641-cbaf-4ba2-d8da-84ab73d733bf"
      },
      "execution_count": 5,
      "outputs": [
        {
          "output_type": "stream",
          "name": "stdout",
          "text": [
            "4\n"
          ]
        }
      ]
    },
    {
      "cell_type": "markdown",
      "source": [
        "디폴트값을 조정 하고 싶다면 아래와 같이 함수를 작성합니다.\n",
        "\n",
        "```\n",
        "plus(1, 3, bias=1)\n",
        "```\n"
      ],
      "metadata": {
        "id": "o_p948MDq8hR"
      }
    },
    {
      "cell_type": "code",
      "source": [
        "plus(1,3,bias=1)"
      ],
      "metadata": {
        "id": "EP_Y1x5jq7N3",
        "colab": {
          "base_uri": "https://localhost:8080/"
        },
        "outputId": "65facd94-e75d-4139-bd65-2d594c01ea61"
      },
      "execution_count": 6,
      "outputs": [
        {
          "output_type": "stream",
          "name": "stdout",
          "text": [
            "5\n"
          ]
        }
      ]
    },
    {
      "cell_type": "markdown",
      "source": [
        "이 때 디폴트 값이 있는 매개변수는 항상 마지막에 작성해야 하며 그렇지 않으면 에러 메시지가 출력됩니다.\n",
        "\n",
        "\n",
        "```\n",
        "def plus(input1, bias=0, input2):\n",
        "  print(input1+input2+bias)\n",
        "```"
      ],
      "metadata": {
        "id": "hhMDtFogq2PE"
      }
    },
    {
      "cell_type": "code",
      "source": [
        "def plus(input1, bias=0, input2):\n",
        "  print(input1+input2+bias)"
      ],
      "metadata": {
        "id": "rZCE2F15q1In",
        "colab": {
          "base_uri": "https://localhost:8080/",
          "height": 137
        },
        "outputId": "34c3a095-ff6d-453d-a0aa-accde8d9ff41"
      },
      "execution_count": 7,
      "outputs": [
        {
          "output_type": "error",
          "ename": "SyntaxError",
          "evalue": "ignored",
          "traceback": [
            "\u001b[0;36m  File \u001b[0;32m\"<ipython-input-7-950ef9985c72>\"\u001b[0;36m, line \u001b[0;32m1\u001b[0m\n\u001b[0;31m    def plus(input1, bias=0, input2):\u001b[0m\n\u001b[0m             ^\u001b[0m\n\u001b[0;31mSyntaxError\u001b[0m\u001b[0;31m:\u001b[0m non-default argument follows default argument\n"
          ]
        }
      ]
    },
    {
      "cell_type": "markdown",
      "source": [
        "#### **정해지지 않은 개수의 인풋 받기** \n",
        "\n",
        "\n",
        "인풋의 개수가 지정되어 있지 않는 함수를 만들어야 할 때가 있습니다. 이를 해결하기 위해서는 두가지 방법이 있습니다. \n",
        "\n",
        "\n",
        "* `args`\n",
        "\n",
        "`args`를 사용시에는 앞에 별 하나 `*` 를 붙입니다. 인풋을 몇개든 상관없이 받아 `args` 라는 변수로 반환합니다. \n",
        "\n",
        "\n",
        "```\n",
        "def many_input(*args):\n",
        "  print(args)\n",
        "\n",
        "many_input(1,2,3,4)\n",
        "```"
      ],
      "metadata": {
        "id": "S7CEd14Kq-zs"
      }
    },
    {
      "cell_type": "code",
      "source": [
        "def many_input(*args):\n",
        "  print(args)\n",
        "\n",
        "many_input(1,2,3,4)\n"
      ],
      "metadata": {
        "id": "P45CzJ6_q9vg",
        "colab": {
          "base_uri": "https://localhost:8080/"
        },
        "outputId": "77565d74-51be-4711-ba1a-c9a23e5431d4"
      },
      "execution_count": 8,
      "outputs": [
        {
          "output_type": "stream",
          "name": "stdout",
          "text": [
            "(1, 2, 3, 4)\n"
          ]
        }
      ]
    },
    {
      "cell_type": "markdown",
      "source": [
        "\n",
        "* `kwargs`\n",
        "\n",
        "`kwargs`를 사용시에는 앞에 별 두개 `**` 를 붙입니다. `key`와 `value`를 함께 받아 `kwargs`라는 이름의 딕셔너리를 반환합니다. . \n",
        "\n",
        "```\n",
        "def my_func(**kwargs):\n",
        "  print(kwargs)\n",
        "\n",
        "my_func(a=1, b=2, c=3)\n",
        "```\n"
      ],
      "metadata": {
        "id": "03ZXBFQ-rJm7"
      }
    },
    {
      "cell_type": "code",
      "source": [
        "def my_func(**kwargs):\n",
        "  print(kwargs)\n",
        "\n",
        "my_func(a=1,b=2,c=3)"
      ],
      "metadata": {
        "id": "MqjVQcjMrGin",
        "colab": {
          "base_uri": "https://localhost:8080/"
        },
        "outputId": "bd8504c9-edae-4963-f18c-fd932c498dc6"
      },
      "execution_count": 9,
      "outputs": [
        {
          "output_type": "stream",
          "name": "stdout",
          "text": [
            "{'a': 1, 'b': 2, 'c': 3}\n"
          ]
        }
      ]
    },
    {
      "cell_type": "markdown",
      "source": [
        "\n",
        "### **(6) 지역변수와 전역변수**\n",
        "\n",
        "`전역변수`는 프로그램 전체에서 사용되는 변수이고 `지역변수`는 특정 코드 블록 내에서만 사용되는 변수입니다. 함수 내에서 코드를 작성하고 변수를 지정하면 지역변수가 생성됩니다. 아래 코드에서 처음 선언된  `a`,`b`,`c`는 전역변수이고 함수내에 있는 `a`,`b`,`c`는 지역변수입니다. 함수내의 a,b,c,d는 전역변수에 영향을 미치지 않습니다. \n",
        "\n",
        "```\n",
        "a = 1\n",
        "b = 1\n",
        "c = 1\n",
        "\n",
        "def my_func(a, b):\n",
        "  c = a+b\n",
        "  d = a-b\n",
        "  return c\n",
        "\n",
        "my_out = my_func(5,5)\n",
        "print(a,b,c)\n",
        "```"
      ],
      "metadata": {
        "id": "yajec2TZxmGP"
      }
    },
    {
      "cell_type": "code",
      "source": [
        "a=1\n",
        "b=1\n",
        "c=1\n",
        "def my_func(a,b):\n",
        "  c=a+b\n",
        "  d=a-c\n",
        "  return c\n",
        "\n",
        "my_out=my_func(5,5)\n",
        "print(my_out)\n",
        "print(a,b,c)"
      ],
      "metadata": {
        "id": "beqPrLnUxkIf",
        "colab": {
          "base_uri": "https://localhost:8080/"
        },
        "outputId": "6ef368b6-ae1f-4256-8264-d8c3274790b2"
      },
      "execution_count": 11,
      "outputs": [
        {
          "output_type": "stream",
          "name": "stdout",
          "text": [
            "10\n",
            "1 1 1\n"
          ]
        }
      ]
    },
    {
      "cell_type": "markdown",
      "source": [
        "함수 실행시에는 반환 값이 전역변수로 지정됩니다.\n",
        "\n",
        "```\n",
        "c = my_func(5,5)\n",
        "print(a,b,c)\n",
        "```\n"
      ],
      "metadata": {
        "id": "hOeGWRv_xqJJ"
      }
    },
    {
      "cell_type": "code",
      "source": [
        "c=my_func(5,5)\n",
        "print(a,b,c)\n",
        "print(c)"
      ],
      "metadata": {
        "id": "v1MFcQ6ZxpUH",
        "colab": {
          "base_uri": "https://localhost:8080/"
        },
        "outputId": "22a19b74-c3f7-48dc-c7c8-5e124c34baab"
      },
      "execution_count": 13,
      "outputs": [
        {
          "output_type": "stream",
          "name": "stdout",
          "text": [
            "1 1 10\n",
            "10\n"
          ]
        }
      ]
    },
    {
      "cell_type": "markdown",
      "source": [
        "함수내에서 선언했던 모든 변수들은 함수 밖에서 실행되지 않습니다.\n",
        "\n",
        "```\n",
        "print(d)\n",
        "```"
      ],
      "metadata": {
        "id": "KsiQATG9xr_-"
      }
    },
    {
      "cell_type": "code",
      "source": [
        "print(d)"
      ],
      "metadata": {
        "id": "izP8b1B5xsvR",
        "colab": {
          "base_uri": "https://localhost:8080/",
          "height": 173
        },
        "outputId": "aadf7bdb-828c-48f7-b194-6c648b5a64e7"
      },
      "execution_count": 14,
      "outputs": [
        {
          "output_type": "error",
          "ename": "NameError",
          "evalue": "ignored",
          "traceback": [
            "\u001b[0;31m---------------------------------------------------------------------------\u001b[0m",
            "\u001b[0;31mNameError\u001b[0m                                 Traceback (most recent call last)",
            "\u001b[0;32m<ipython-input-14-85549cb1de5f>\u001b[0m in \u001b[0;36m<module>\u001b[0;34m\u001b[0m\n\u001b[0;32m----> 1\u001b[0;31m \u001b[0mprint\u001b[0m\u001b[0;34m(\u001b[0m\u001b[0md\u001b[0m\u001b[0;34m)\u001b[0m\u001b[0;34m\u001b[0m\u001b[0;34m\u001b[0m\u001b[0m\n\u001b[0m",
            "\u001b[0;31mNameError\u001b[0m: name 'd' is not defined"
          ]
        }
      ]
    },
    {
      "cell_type": "markdown",
      "source": [
        "#### **함수 내에서 전역변수 설정하기**\n",
        "\n",
        "* `global`\n",
        "\n",
        "만약 함수내 지역변수를 전역변수로 지정하고 싶다면 `global` 을 사용합니다.\n",
        "\n",
        "```\n",
        "def my_func(a, b):\n",
        "  global d\n",
        "  c = a+b\n",
        "  d = a-b\n",
        "  return c\n",
        "\n",
        "print(d)\n",
        "```\n"
      ],
      "metadata": {
        "id": "P2x721rGxvix"
      }
    },
    {
      "cell_type": "code",
      "source": [
        "def my_func(a,b):\n",
        "  global d\n",
        "  c=a+b\n",
        "  d=a-b\n",
        "  return c\n",
        "\n",
        "print(d)"
      ],
      "metadata": {
        "id": "FasjPCKAxrnv",
        "colab": {
          "base_uri": "https://localhost:8080/",
          "height": 210
        },
        "outputId": "b1dc9e33-391c-4df8-f8d9-9474bbdd2734"
      },
      "execution_count": 15,
      "outputs": [
        {
          "output_type": "error",
          "ename": "NameError",
          "evalue": "ignored",
          "traceback": [
            "\u001b[0;31m---------------------------------------------------------------------------\u001b[0m",
            "\u001b[0;31mNameError\u001b[0m                                 Traceback (most recent call last)",
            "\u001b[0;32m<ipython-input-15-ba9aeae4ea02>\u001b[0m in \u001b[0;36m<module>\u001b[0;34m\u001b[0m\n\u001b[1;32m      5\u001b[0m   \u001b[0;32mreturn\u001b[0m \u001b[0mc\u001b[0m\u001b[0;34m\u001b[0m\u001b[0;34m\u001b[0m\u001b[0m\n\u001b[1;32m      6\u001b[0m \u001b[0;34m\u001b[0m\u001b[0m\n\u001b[0;32m----> 7\u001b[0;31m \u001b[0mprint\u001b[0m\u001b[0;34m(\u001b[0m\u001b[0md\u001b[0m\u001b[0;34m)\u001b[0m\u001b[0;34m\u001b[0m\u001b[0;34m\u001b[0m\u001b[0m\n\u001b[0m",
            "\u001b[0;31mNameError\u001b[0m: name 'd' is not defined"
          ]
        }
      ]
    },
    {
      "cell_type": "markdown",
      "source": [
        "여전히 에러가 뜨나요? `global`을 사용할 때는 주의사항이 있습니다. 생성한 함수를 실행을 해야 `global` 값이 적용됩니다.\n",
        "```\n",
        "my_func(1,2)\n",
        "print(d)\n",
        "```"
      ],
      "metadata": {
        "id": "G4l2cJGxyJdQ"
      }
    },
    {
      "cell_type": "code",
      "source": [
        "my_func(1,2)\n",
        "print(d)"
      ],
      "metadata": {
        "id": "RZrpTa17xttw",
        "colab": {
          "base_uri": "https://localhost:8080/"
        },
        "outputId": "f0251376-7c5a-4f52-9518-fcddeed16e5a"
      },
      "execution_count": 16,
      "outputs": [
        {
          "output_type": "stream",
          "name": "stdout",
          "text": [
            "-1\n"
          ]
        }
      ]
    },
    {
      "cell_type": "markdown",
      "source": [
        "## 문제 풀이\n",
        "---"
      ],
      "metadata": {
        "id": "QZaG85aOyhDc"
      }
    },
    {
      "cell_type": "markdown",
      "source": [
        "\n",
        "\n",
        "**예제 01**\n",
        "\n",
        "정수 n 을 받아서 python!을 n번 반복해서 출력하는 함수 `call_python()` 을 작성하세요\n",
        "\n",
        "```\n",
        "call_python(4)\n",
        "```"
      ],
      "metadata": {
        "id": "bnO7hxUJygQy"
      }
    },
    {
      "cell_type": "code",
      "source": [
        "def call_python(a):\n",
        "  print(a*4)\n",
        "call_python(a=input('문자를 입력하시요'))"
      ],
      "metadata": {
        "id": "SqNDqJ5XyMty",
        "colab": {
          "base_uri": "https://localhost:8080/"
        },
        "outputId": "48cc1dbe-0a07-4cfd-8ac7-7ec3d4980b5f"
      },
      "execution_count": 17,
      "outputs": [
        {
          "output_type": "stream",
          "name": "stdout",
          "text": [
            "문자를 입력하시요python\n",
            "pythonpythonpythonpython\n"
          ]
        }
      ]
    },
    {
      "cell_type": "markdown",
      "source": [
        "**예제 02**\n",
        "\n",
        "아래 이차함수를 파이썬 함수로 구현하세요\n",
        "\n",
        "\n",
        "$y = x^2 + 2x -1$"
      ],
      "metadata": {
        "id": "88qQp7O9yjg-"
      }
    },
    {
      "cell_type": "code",
      "source": [
        "def two_func(x):\n",
        "  y=x**2+2*x-1\n",
        "  return y\n",
        "\n",
        "two_func(3)"
      ],
      "metadata": {
        "id": "3AjXYRf4yj-x",
        "colab": {
          "base_uri": "https://localhost:8080/"
        },
        "outputId": "40a96eb2-1f83-4065-cf8d-9c593e3b0fa3"
      },
      "execution_count": 18,
      "outputs": [
        {
          "output_type": "execute_result",
          "data": {
            "text/plain": [
              "14"
            ]
          },
          "metadata": {},
          "execution_count": 18
        }
      ]
    },
    {
      "cell_type": "markdown",
      "source": [
        "**예제 03**\n",
        "\n",
        "삼각형의 넓이를 구하는 식은 아래와 같습니다. 함수로 구현하세요\n",
        "\n",
        "$ a = width · height · 0.5$\n"
      ],
      "metadata": {
        "id": "PCXgawYjykDQ"
      }
    },
    {
      "cell_type": "code",
      "source": [
        "def tryangle(width, height, bias=0.5):\n",
        "  a=width*height*bias\n",
        "  return a\n",
        "\n",
        "tryangle(4,5)"
      ],
      "metadata": {
        "id": "z5UdFfWbylVS",
        "colab": {
          "base_uri": "https://localhost:8080/"
        },
        "outputId": "92d13b48-1968-4ca9-95f8-fcea88967cd3"
      },
      "execution_count": 19,
      "outputs": [
        {
          "output_type": "execute_result",
          "data": {
            "text/plain": [
              "10.0"
            ]
          },
          "metadata": {},
          "execution_count": 19
        }
      ]
    },
    {
      "cell_type": "markdown",
      "source": [
        "\n",
        "**예제 04**\n",
        "\n",
        "문자열 s와 정수 n 을 입력하면 문자열의 n번째와 n-1번째 문자가 출력되는 함수 `split_string()` 을 작성하세요\n",
        "\n",
        "* 예시\n",
        "```\n",
        ">> split_string(\"코스모스\", 1)\n",
        "스코\n",
        "```\n",
        "\n",
        "* 예시\n",
        "```\n",
        ">> split_string(\"충분히긴문자\", 5)\n",
        "자문\n",
        "```\n"
      ],
      "metadata": {
        "id": "csqMSp6Nylib"
      }
    },
    {
      "cell_type": "code",
      "source": [
        "def split_string(a,b):\n",
        "  c=a[::-1]\n",
        "  c=c[:2]\n",
        "  return c\n",
        "\n",
        "split_string('충분히긴문자',1)\n"
      ],
      "metadata": {
        "id": "8ZgkxmeSynXP",
        "colab": {
          "base_uri": "https://localhost:8080/",
          "height": 35
        },
        "outputId": "f310817e-bda4-44c3-a532-5b2f638f265e"
      },
      "execution_count": 24,
      "outputs": [
        {
          "output_type": "execute_result",
          "data": {
            "text/plain": [
              "'자문'"
            ],
            "application/vnd.google.colaboratory.intrinsic+json": {
              "type": "string"
            }
          },
          "metadata": {},
          "execution_count": 24
        }
      ]
    },
    {
      "cell_type": "markdown",
      "source": [
        "**예제 05**\n",
        "\n",
        "물건의 할인가는 가격의 70%입니다. 물건의 원래가격 d를 인풋으로하고 할인가를 아웃풋으로 하는 함수 `cal_sale()`을 작성하세요\n",
        "\n",
        "* 예시\n",
        "```\n",
        ">> 할인가 = cal_up_low(100)\n",
        ">> print(할인가)\n",
        "70\n",
        "```"
      ],
      "metadata": {
        "id": "kNl46OS1yncT"
      }
    },
    {
      "cell_type": "code",
      "source": [
        "def cal_sale(d):\n",
        "  cal_up_low=0.7\n",
        "  할인가=cal_up_low*d\n",
        "  print(할인가)\n",
        "\n",
        "cal_sale(d=int(input('금액을 입력하시요')))"
      ],
      "metadata": {
        "id": "9MtLyDnLy35w",
        "colab": {
          "base_uri": "https://localhost:8080/"
        },
        "outputId": "bd420241-5dff-4643-8d5f-42c37a31b401"
      },
      "execution_count": 27,
      "outputs": [
        {
          "output_type": "stream",
          "name": "stdout",
          "text": [
            "금액을 입력하시요3500\n",
            "2450.0\n"
          ]
        }
      ]
    },
    {
      "cell_type": "markdown",
      "source": [
        "**예제 06**\n",
        "\n",
        "리스트 a가 주어지면 a의 평균이 몇인지 출력하는 함수를 구현하세요\n",
        "\n",
        "* 예시\n",
        "```\n",
        ">> cal_mean([1,2,3])\n",
        "평균은 2 입니다. \n",
        "```\n",
        "\n",
        "* 예시\n",
        "```\n",
        ">> cal_mean([1,2,3,4,5])\n",
        "평균은 3 입니다. \n",
        "```\n"
      ],
      "metadata": {
        "id": "iA6rQROhy5He"
      }
    },
    {
      "cell_type": "code",
      "source": [
        "a=[1,2,3]\n",
        "sum(a)/len(a)"
      ],
      "metadata": {
        "colab": {
          "base_uri": "https://localhost:8080/"
        },
        "id": "LNgl8IHIs2Kl",
        "outputId": "767b30ec-cda9-47fb-d51a-124c254aa681"
      },
      "execution_count": 35,
      "outputs": [
        {
          "output_type": "execute_result",
          "data": {
            "text/plain": [
              "2.0"
            ]
          },
          "metadata": {},
          "execution_count": 35
        }
      ]
    },
    {
      "cell_type": "code",
      "source": [
        "def cal_mean(*args):\n",
        "  #c=args\n",
        "  #d=len(c)\n",
        "  #e=sum(c)\n",
        "  print(f'평균은 {int(sum(*args)/len(*args))} 입니다')\n",
        "\n",
        "cal_mean([1,2,3])"
      ],
      "metadata": {
        "id": "mAzL6XCVy7on",
        "colab": {
          "base_uri": "https://localhost:8080/"
        },
        "outputId": "35b39e48-18b8-40d7-d7ac-cface9904628"
      },
      "execution_count": 43,
      "outputs": [
        {
          "output_type": "stream",
          "name": "stdout",
          "text": [
            "평균은 2 입니다\n"
          ]
        }
      ]
    },
    {
      "cell_type": "markdown",
      "source": [
        "**예제 07**\n",
        "\n",
        "\n",
        "리스트 a가 주어지면 a의 평균이 몇인지 출력하는 함수를 구현하세요\n",
        "\n",
        "* 예시\n",
        "```\n",
        ">> cal_mean(1,2,3)\n",
        "평균은 2 입니다. \n",
        "```\n",
        "* 예시\n",
        "```\n",
        ">> cal_mean(1,2,3,4,5)\n",
        "평균은 3 입니다. \n",
        "```\n",
        "\n"
      ],
      "metadata": {
        "id": "o96WO90vzJxn"
      }
    },
    {
      "cell_type": "code",
      "source": [
        "def cal_mean(*args):\n",
        "  #c=args\n",
        "  #d=len(c)\n",
        "  #e=sum(c)\n",
        "  print(f'평균은 {int(sum(args)/len(args))} 입니다')\n",
        "\n",
        "cal_mean(1,2,3,4,5)"
      ],
      "metadata": {
        "id": "IVYvnDEszJxo",
        "colab": {
          "base_uri": "https://localhost:8080/"
        },
        "outputId": "c0abbf5b-eea3-40fd-9e52-9807299b43c0"
      },
      "execution_count": 46,
      "outputs": [
        {
          "output_type": "stream",
          "name": "stdout",
          "text": [
            "평균은 3 입니다\n"
          ]
        }
      ]
    },
    {
      "cell_type": "markdown",
      "source": [
        "\n",
        "**예제 08**\n",
        "\n",
        "\n",
        "무작위 숫자들을 입력하면 최소값, 최대값을 반환하는 함수`numbers()`를 작성하세요. \n",
        "\n",
        "* 예시\n",
        "```\n",
        ">> mn, mx = numbers(1,3,2,1,1)\n",
        ">> print(mn, mx)\n",
        "1 3\n",
        "```\n"
      ],
      "metadata": {
        "id": "lGF7nVBezSPn"
      }
    },
    {
      "cell_type": "code",
      "source": [
        "def numbers(*args):\n",
        "  mn=min(args)\n",
        "  mx=max(args)\n",
        "  print(mn, mx)\n",
        "\n",
        "numbers(1,3,2,1,5)\n"
      ],
      "metadata": {
        "id": "H3rAyjJQzSx4",
        "colab": {
          "base_uri": "https://localhost:8080/"
        },
        "outputId": "57d13fcd-371e-4c8c-baec-1a2b8b79076b"
      },
      "execution_count": 47,
      "outputs": [
        {
          "output_type": "stream",
          "name": "stdout",
          "text": [
            "1 5\n"
          ]
        }
      ]
    },
    {
      "cell_type": "markdown",
      "source": [
        "\n",
        "**예제 09**\n",
        "\n",
        "길동이는 아래와 같이 코드를 작성하였으나 실행하자 에러 메시지가 떴습니다.  코드의 문제를 설명하세요\n",
        "\n",
        "```\n",
        "def my_func():\n",
        "  aa = 1\n",
        "  bb = 2\n",
        "  cc = 3\n",
        "  return aa+bb+cc\n",
        "\n",
        "o = my_func()\n",
        "print(o,aa,bb,cc)\n",
        "```"
      ],
      "metadata": {
        "id": "dPoJjFdkzaY2"
      }
    },
    {
      "cell_type": "markdown",
      "source": [
        "##aa,bb,cc를 함수 밖에서는 변수로 인식하지 않고 문자로 인식함(''가 필요함)"
      ],
      "metadata": {
        "id": "fGAt2VlsxZSs"
      }
    },
    {
      "cell_type": "code",
      "source": [
        "def my_func():\n",
        "  aa=1\n",
        "  bb=2\n",
        "  cc=3\n",
        "  return aa+bb+cc\n",
        "\n",
        "o=my_func()\n",
        "print(o,aa,bb,cc)"
      ],
      "metadata": {
        "id": "j3PLJinMzbeX",
        "colab": {
          "base_uri": "https://localhost:8080/",
          "height": 210
        },
        "outputId": "16713e0e-39ac-44fa-df10-39fb1775e1aa"
      },
      "execution_count": 49,
      "outputs": [
        {
          "output_type": "error",
          "ename": "NameError",
          "evalue": "ignored",
          "traceback": [
            "\u001b[0;31m---------------------------------------------------------------------------\u001b[0m",
            "\u001b[0;31mNameError\u001b[0m                                 Traceback (most recent call last)",
            "\u001b[0;32m<ipython-input-49-a7fe342f4cc2>\u001b[0m in \u001b[0;36m<module>\u001b[0;34m\u001b[0m\n\u001b[1;32m      6\u001b[0m \u001b[0;34m\u001b[0m\u001b[0m\n\u001b[1;32m      7\u001b[0m \u001b[0mo\u001b[0m\u001b[0;34m=\u001b[0m\u001b[0mmy_func\u001b[0m\u001b[0;34m(\u001b[0m\u001b[0;34m)\u001b[0m\u001b[0;34m\u001b[0m\u001b[0;34m\u001b[0m\u001b[0m\n\u001b[0;32m----> 8\u001b[0;31m \u001b[0mprint\u001b[0m\u001b[0;34m(\u001b[0m\u001b[0mo\u001b[0m\u001b[0;34m,\u001b[0m\u001b[0maa\u001b[0m\u001b[0;34m,\u001b[0m\u001b[0mbb\u001b[0m\u001b[0;34m,\u001b[0m\u001b[0mcc\u001b[0m\u001b[0;34m)\u001b[0m\u001b[0;34m\u001b[0m\u001b[0;34m\u001b[0m\u001b[0m\n\u001b[0m",
            "\u001b[0;31mNameError\u001b[0m: name 'aa' is not defined"
          ]
        }
      ]
    },
    {
      "cell_type": "markdown",
      "source": [
        "**예제 10**\n",
        "\n",
        "에러가 뜨지 않도록 위의 함수 `my_func()`를 수정하세요\n",
        "\n"
      ],
      "metadata": {
        "id": "hexc4vsEzcXB"
      }
    },
    {
      "cell_type": "code",
      "source": [
        "def my_func():\n",
        "  aa=1\n",
        "  bb=2\n",
        "  cc=3\n",
        "  return aa+bb+cc\n",
        "\n",
        "o=my_func()\n",
        "print(o)"
      ],
      "metadata": {
        "id": "WF7PeJEIzoBq"
      },
      "execution_count": null,
      "outputs": []
    }
  ]
}
