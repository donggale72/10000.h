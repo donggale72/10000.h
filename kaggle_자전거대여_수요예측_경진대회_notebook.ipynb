{
  "metadata": {
    "kernelspec": {
      "language": "python",
      "display_name": "Python 3",
      "name": "python3"
    },
    "language_info": {
      "name": "python",
      "version": "3.7.10",
      "mimetype": "text/x-python",
      "codemirror_mode": {
        "name": "ipython",
        "version": 3
      },
      "pygments_lexer": "ipython3",
      "nbconvert_exporter": "python",
      "file_extension": ".py"
    },
    "colab": {
      "provenance": [],
      "include_colab_link": true
    }
  },
  "nbformat_minor": 0,
  "nbformat": 4,
  "cells": [
    {
      "cell_type": "markdown",
      "metadata": {
        "id": "view-in-github",
        "colab_type": "text"
      },
      "source": [
        "<a href=\"https://colab.research.google.com/github/donggale72/10000.html/blob/main/kaggle_%EC%9E%90%EC%A0%84%EA%B1%B0%EB%8C%80%EC%97%AC_%EC%88%98%EC%9A%94%EC%98%88%EC%B8%A1_%EA%B2%BD%EC%A7%84%EB%8C%80%ED%9A%8C_notebook.ipynb\" target=\"_parent\"><img src=\"https://colab.research.google.com/assets/colab-badge.svg\" alt=\"Open In Colab\"/></a>"
      ]
    },
    {
      "cell_type": "markdown",
      "source": [
        "# 자전거 대여 수요 예측 경진대회"
      ],
      "metadata": {
        "papermill": {
          "duration": 0.026639,
          "end_time": "2021-08-16T04:01:01.662249",
          "exception": false,
          "start_time": "2021-08-16T04:01:01.63561",
          "status": "completed"
        },
        "tags": [],
        "id": "3RL-o3AYQ0RC"
      }
    },
    {
      "cell_type": "code",
      "source": [
        "import numpy as np\n",
        "import pandas as pd\n",
        "import seaborn as sns\n",
        "import matplotlib as mpl\n",
        "import matplotlib.pyplot as plt\n",
        "%matplotlib inline\n",
        "\n",
        "data_path = '/kaggle/input/bike-sharing-demand/'\n",
        "\n",
        "train =pd.read_csv(data_path + 'train.csv')\n",
        "test = pd.read_csv(data_path + 'test.csv')\n",
        "submission = pd.read_csv(data_path + 'sampleSubmission.csv')"
      ],
      "metadata": {
        "execution": {
          "iopub.status.busy": "2023-06-01T03:33:22.471339Z",
          "iopub.execute_input": "2023-06-01T03:33:22.471640Z",
          "iopub.status.idle": "2023-06-01T03:33:22.517679Z",
          "shell.execute_reply.started": "2023-06-01T03:33:22.471605Z",
          "shell.execute_reply": "2023-06-01T03:33:22.516562Z"
        },
        "trusted": true,
        "id": "gFFXUrn8Q0RE"
      },
      "execution_count": null,
      "outputs": []
    },
    {
      "cell_type": "code",
      "source": [
        "train.shape, test.shape"
      ],
      "metadata": {
        "execution": {
          "iopub.status.busy": "2023-06-01T03:33:22.519459Z",
          "iopub.execute_input": "2023-06-01T03:33:22.519699Z",
          "iopub.status.idle": "2023-06-01T03:33:22.525918Z",
          "shell.execute_reply.started": "2023-06-01T03:33:22.519668Z",
          "shell.execute_reply": "2023-06-01T03:33:22.524963Z"
        },
        "trusted": true,
        "id": "x6jsfPSOQ0RG"
      },
      "execution_count": null,
      "outputs": []
    },
    {
      "cell_type": "code",
      "source": [
        "train.head()"
      ],
      "metadata": {
        "execution": {
          "iopub.status.busy": "2023-06-01T03:33:22.527410Z",
          "iopub.execute_input": "2023-06-01T03:33:22.527625Z",
          "iopub.status.idle": "2023-06-01T03:33:22.553452Z",
          "shell.execute_reply.started": "2023-06-01T03:33:22.527601Z",
          "shell.execute_reply": "2023-06-01T03:33:22.552295Z"
        },
        "trusted": true,
        "id": "Ria9JMUkQ0RG"
      },
      "execution_count": null,
      "outputs": []
    },
    {
      "cell_type": "code",
      "source": [
        "test.head()"
      ],
      "metadata": {
        "execution": {
          "iopub.status.busy": "2023-06-01T03:33:22.556072Z",
          "iopub.execute_input": "2023-06-01T03:33:22.556335Z",
          "iopub.status.idle": "2023-06-01T03:33:22.575186Z",
          "shell.execute_reply.started": "2023-06-01T03:33:22.556312Z",
          "shell.execute_reply": "2023-06-01T03:33:22.574437Z"
        },
        "trusted": true,
        "id": "J2PUV4geQ0RG"
      },
      "execution_count": null,
      "outputs": []
    },
    {
      "cell_type": "code",
      "source": [
        "submission.head()"
      ],
      "metadata": {
        "execution": {
          "iopub.status.busy": "2023-06-01T03:33:22.576504Z",
          "iopub.execute_input": "2023-06-01T03:33:22.576766Z",
          "iopub.status.idle": "2023-06-01T03:33:22.596646Z",
          "shell.execute_reply.started": "2023-06-01T03:33:22.576737Z",
          "shell.execute_reply": "2023-06-01T03:33:22.595802Z"
        },
        "trusted": true,
        "id": "3t7kl45-Q0RH"
      },
      "execution_count": null,
      "outputs": []
    },
    {
      "cell_type": "code",
      "source": [
        "train.info()"
      ],
      "metadata": {
        "execution": {
          "iopub.status.busy": "2023-06-01T03:33:22.597799Z",
          "iopub.execute_input": "2023-06-01T03:33:22.598442Z",
          "iopub.status.idle": "2023-06-01T03:33:22.621587Z",
          "shell.execute_reply.started": "2023-06-01T03:33:22.598400Z",
          "shell.execute_reply": "2023-06-01T03:33:22.620669Z"
        },
        "trusted": true,
        "id": "kER9n2IDQ0RH"
      },
      "execution_count": null,
      "outputs": []
    },
    {
      "cell_type": "code",
      "source": [
        "test.info()"
      ],
      "metadata": {
        "execution": {
          "iopub.status.busy": "2023-06-01T03:33:22.622927Z",
          "iopub.execute_input": "2023-06-01T03:33:22.623388Z",
          "iopub.status.idle": "2023-06-01T03:33:22.638927Z",
          "shell.execute_reply.started": "2023-06-01T03:33:22.623359Z",
          "shell.execute_reply": "2023-06-01T03:33:22.638106Z"
        },
        "trusted": true,
        "id": "w4efgdL0Q0RH"
      },
      "execution_count": null,
      "outputs": []
    },
    {
      "cell_type": "code",
      "source": [
        "train['date']=train['datetime'].apply(lambda x: x.split()[0])\n",
        "train['year']=train['datetime'].apply(lambda x: x.split()[0].split('-')[0])\n",
        "train['month']=train['datetime'].apply(lambda x: x.split()[0].split('-')[1])\n",
        "train['day']=train['datetime'].apply(lambda x: x.split()[0].split('-')[2])\n",
        "train['hour']=train['datetime'].apply(lambda x: x.split()[1].split(':')[0])\n",
        "train['min']=train['datetime'].apply(lambda x: x.split()[1].split(':')[1])\n",
        "train['second']=train['datetime'].apply(lambda x: x.split()[1].split(':')[2])\n"
      ],
      "metadata": {
        "execution": {
          "iopub.status.busy": "2023-06-01T03:33:22.640172Z",
          "iopub.execute_input": "2023-06-01T03:33:22.640723Z",
          "iopub.status.idle": "2023-06-01T03:33:22.696125Z",
          "shell.execute_reply.started": "2023-06-01T03:33:22.640693Z",
          "shell.execute_reply": "2023-06-01T03:33:22.695518Z"
        },
        "trusted": true,
        "id": "IxlJvU_BQ0RI"
      },
      "execution_count": null,
      "outputs": []
    },
    {
      "cell_type": "code",
      "source": [
        "from datetime import datetime\n",
        "import calendar\n",
        "train['date']=train['datetime'].apply(lambda x: x.split()[0])\n",
        "train['year']=train['datetime'].apply(lambda x: x.split()[0].split('-')[0])\n",
        "train['month']=train['datetime'].apply(lambda x: x.split()[0].split('-')[1])\n",
        "train['day']=train['datetime'].apply(lambda x: x.split()[0].split('-')[2])\n",
        "train['hour']=train['datetime'].apply(lambda x: x.split()[1].split(':')[0])\n",
        "train['weekday']=train['date'].apply(lambda dateString: calendar.day_name[datetime.strptime(dateString, '%Y-%m-%d').weekday()])"
      ],
      "metadata": {
        "execution": {
          "iopub.status.busy": "2023-06-01T03:33:22.697089Z",
          "iopub.execute_input": "2023-06-01T03:33:22.698097Z",
          "iopub.status.idle": "2023-06-01T03:33:22.869390Z",
          "shell.execute_reply.started": "2023-06-01T03:33:22.698003Z",
          "shell.execute_reply": "2023-06-01T03:33:22.868747Z"
        },
        "trusted": true,
        "id": "s1G2E5qbQ0RI"
      },
      "execution_count": null,
      "outputs": []
    },
    {
      "cell_type": "code",
      "source": [
        "from datetime import datetime\n",
        "import calendar\n",
        "\n",
        "print(train['date'][100])\n",
        "print(datetime.strptime(train['date'][100], '%Y-%m-%d'))\n",
        "print(datetime.strptime(train['date'][100], '%Y-%m-%d').weekday())\n",
        "print(calendar.day_name[datetime.strptime(train['date'][100], '%Y-%m-%d').weekday()])\n"
      ],
      "metadata": {
        "execution": {
          "iopub.status.busy": "2023-06-01T03:33:22.872056Z",
          "iopub.execute_input": "2023-06-01T03:33:22.872654Z",
          "iopub.status.idle": "2023-06-01T03:33:22.880207Z",
          "shell.execute_reply.started": "2023-06-01T03:33:22.872625Z",
          "shell.execute_reply": "2023-06-01T03:33:22.879405Z"
        },
        "trusted": true,
        "id": "0eISnygoQ0RI"
      },
      "execution_count": null,
      "outputs": []
    },
    {
      "cell_type": "code",
      "source": [
        "train['weekday']=train['date'].apply(lambda dateString: calendar.day_name[datetime.strptime(dateString, '%Y-%m-%d').weekday()])"
      ],
      "metadata": {
        "execution": {
          "iopub.status.busy": "2023-06-01T03:33:22.881313Z",
          "iopub.execute_input": "2023-06-01T03:33:22.881546Z",
          "iopub.status.idle": "2023-06-01T03:33:23.028443Z",
          "shell.execute_reply.started": "2023-06-01T03:33:22.881516Z",
          "shell.execute_reply": "2023-06-01T03:33:23.026745Z"
        },
        "trusted": true,
        "id": "43wGqO2rQ0RJ"
      },
      "execution_count": null,
      "outputs": []
    },
    {
      "cell_type": "code",
      "source": [
        "train['season'] = train['season'].map({1: 'Spring', 2: 'Summer', 3: 'Fall', 4: 'Winter'})\n",
        "train['weather']= train['weather'].map({1: 'Clear', 2: 'Mist, Few clouds', 3: 'Light Snow, RAin, Thunderstorm', 4: 'Heavy Rain, Thunderstorm, Snow, Fog'})"
      ],
      "metadata": {
        "execution": {
          "iopub.status.busy": "2023-06-01T03:33:23.030222Z",
          "iopub.execute_input": "2023-06-01T03:33:23.030490Z",
          "iopub.status.idle": "2023-06-01T03:33:23.042615Z",
          "shell.execute_reply.started": "2023-06-01T03:33:23.030460Z",
          "shell.execute_reply": "2023-06-01T03:33:23.041240Z"
        },
        "trusted": true,
        "id": "EqoNo0iXQ0RJ"
      },
      "execution_count": null,
      "outputs": []
    },
    {
      "cell_type": "code",
      "source": [
        "train.head()"
      ],
      "metadata": {
        "execution": {
          "iopub.status.busy": "2023-06-01T03:33:23.043930Z",
          "iopub.execute_input": "2023-06-01T03:33:23.044199Z",
          "iopub.status.idle": "2023-06-01T03:33:23.075255Z",
          "shell.execute_reply.started": "2023-06-01T03:33:23.044170Z",
          "shell.execute_reply": "2023-06-01T03:33:23.074025Z"
        },
        "trusted": true,
        "id": "RqJB0n6KQ0RJ"
      },
      "execution_count": null,
      "outputs": []
    },
    {
      "cell_type": "code",
      "source": [
        "import seaborn as sns\n",
        "import matplotlib as mpl\n",
        "import matplotlib.pyplot as plt\n",
        "%matplotlib inline\n",
        "mpl.rc('font', size=15)\n",
        "sns.displot(train['count'])"
      ],
      "metadata": {
        "execution": {
          "iopub.status.busy": "2023-06-01T03:33:23.076593Z",
          "iopub.execute_input": "2023-06-01T03:33:23.076969Z",
          "iopub.status.idle": "2023-06-01T03:33:23.388326Z",
          "shell.execute_reply.started": "2023-06-01T03:33:23.076935Z",
          "shell.execute_reply": "2023-06-01T03:33:23.387431Z"
        },
        "trusted": true,
        "id": "r5u_ALKXQ0RJ"
      },
      "execution_count": null,
      "outputs": []
    },
    {
      "cell_type": "code",
      "source": [
        "sns.displot(np.log(train['count']))"
      ],
      "metadata": {
        "execution": {
          "iopub.status.busy": "2023-06-01T03:33:23.389213Z",
          "iopub.execute_input": "2023-06-01T03:33:23.389400Z",
          "iopub.status.idle": "2023-06-01T03:33:23.676877Z",
          "shell.execute_reply.started": "2023-06-01T03:33:23.389377Z",
          "shell.execute_reply": "2023-06-01T03:33:23.675508Z"
        },
        "trusted": true,
        "id": "9or9Fd4iQ0RK"
      },
      "execution_count": null,
      "outputs": []
    },
    {
      "cell_type": "code",
      "source": [
        "mpl.rc('font', size=14)\n",
        "mpl.rc('axes', titlesize=15)\n",
        "figure, axes = plt.subplots(3,2)\n",
        "plt.tight_layout()\n",
        "figure.set_size_inches(10,9)\n",
        "\n",
        "sns.barplot(x='year', y='count', data=train, ax=axes[0,0])\n",
        "sns.barplot(x='month', y='count', data=train, ax=axes[0,1])\n",
        "sns.barplot(x='day', y='count', data=train, ax=axes[1,0])\n",
        "sns.barplot(x='hour', y='count', data=train, ax=axes[1,1])\n",
        "sns.barplot(x='min', y='count', data=train, ax=axes[2,0])\n",
        "sns.barplot(x='second', y='count', data=train, ax=axes[2,1])\n",
        "axes[0,0].set(title='Rental amounts by year')\n",
        "axes[0,1].set(title='Rental amounts by month')\n",
        "axes[1,0].set(title='Rental amounts by day')\n",
        "axes[1,1].set(title='Rental amounts by hour')\n",
        "axes[2,0].set(title='Rental amounts by minute')\n",
        "axes[2,1].set(title='Rental amounts by second')\n",
        "\n",
        "axes[1,0].tick_params(axis='x', labelrotation=90)\n",
        "axes[1,1].tick_params(axis='x', labelrotation=90)"
      ],
      "metadata": {
        "execution": {
          "iopub.status.busy": "2023-06-01T03:33:23.679585Z",
          "iopub.execute_input": "2023-06-01T03:33:23.679801Z",
          "iopub.status.idle": "2023-06-01T03:33:26.290304Z",
          "shell.execute_reply.started": "2023-06-01T03:33:23.679776Z",
          "shell.execute_reply": "2023-06-01T03:33:26.289488Z"
        },
        "trusted": true,
        "id": "U6y4mPrgQ0RK"
      },
      "execution_count": null,
      "outputs": []
    },
    {
      "cell_type": "code",
      "source": [
        "figure, axes = plt.subplots(nrows=2, ncols= 2)\n",
        "plt.tight_layout()\n",
        "figure.set_size_inches(10,10)\n",
        "\n",
        "sns.boxplot(x='season', y= 'count', data= train, ax= axes[0,0])\n",
        "sns.boxplot(x='weather', y= 'count', data= train, ax= axes[0,1])\n",
        "sns.boxplot(x='holiday', y= 'count', data= train, ax= axes[1,0])\n",
        "sns.boxplot(x='workingday', y= 'count', data= train, ax= axes[1,1])\n",
        "\n",
        "axes[0,0].set(title= 'Box Plot On Count Across Season')\n",
        "axes[0,1].set(title= 'Box Plot On Count Across Weather')\n",
        "axes[1,0].set(title= 'Box Plot On Count Across Holiday')\n",
        "axes[1,1].set(title= 'Box Plot On Count Across Working Day')\n",
        "axes[0,1].tick_params(axis= 'x', labelrotation=10)"
      ],
      "metadata": {
        "execution": {
          "iopub.status.busy": "2023-06-01T03:33:26.291382Z",
          "iopub.execute_input": "2023-06-01T03:33:26.291587Z",
          "iopub.status.idle": "2023-06-01T03:33:27.393529Z",
          "shell.execute_reply.started": "2023-06-01T03:33:26.291560Z",
          "shell.execute_reply": "2023-06-01T03:33:27.392606Z"
        },
        "trusted": true,
        "id": "UAwczy7KQ0RK"
      },
      "execution_count": null,
      "outputs": []
    },
    {
      "cell_type": "code",
      "source": [
        "mpl.rc('font', size=11)\n",
        "figure, axes = plt.subplots(5)\n",
        "figure.set_size_inches(12, 18)\n",
        "\n",
        "sns.pointplot(x='hour', y='count', data=train, hue= 'workingday', ax= axes[0])\n",
        "sns.pointplot(x='hour', y='count', data=train, hue= 'holiday', ax= axes[1])\n",
        "sns.pointplot(x='hour', y='count', data=train, hue= 'weekday', ax= axes[2])\n",
        "sns.pointplot(x='hour', y='count', data=train, hue= 'season', ax= axes[3])\n",
        "sns.pointplot(x='hour', y='count', data=train, hue= 'weather', ax= axes[4])"
      ],
      "metadata": {
        "execution": {
          "iopub.status.busy": "2023-06-01T03:33:27.395108Z",
          "iopub.execute_input": "2023-06-01T03:33:27.395409Z",
          "iopub.status.idle": "2023-06-01T03:33:38.857234Z",
          "shell.execute_reply.started": "2023-06-01T03:33:27.395378Z",
          "shell.execute_reply": "2023-06-01T03:33:38.856205Z"
        },
        "trusted": true,
        "id": "auEikRRJQ0RK"
      },
      "execution_count": null,
      "outputs": []
    },
    {
      "cell_type": "code",
      "source": [
        "mpl.rc('font', size=15)\n",
        "figure, axes = plt.subplots(2,2)\n",
        "plt.tight_layout()\n",
        "figure.set_size_inches(7,6)\n",
        "\n",
        "sns.regplot(x='temp', y='count', data= train, ax=axes[0,0], scatter_kws={'alpha': 0.2}, line_kws={'color': 'blue'})\n",
        "sns.regplot(x='atemp', y='count', data= train, ax=axes[0,1], scatter_kws={'alpha': 0.2}, line_kws={'color': 'blue'})\n",
        "sns.regplot(x='windspeed', y='count', data= train, ax=axes[1,0], scatter_kws={'alpha': 0.2}, line_kws={'color': 'blue'})\n",
        "sns.regplot(x='humidity', y='count', data= train, ax=axes[1,1], scatter_kws={'alpha': 0.2}, line_kws={'color': 'blue'})"
      ],
      "metadata": {
        "execution": {
          "iopub.status.busy": "2023-06-01T03:33:38.858295Z",
          "iopub.execute_input": "2023-06-01T03:33:38.858492Z",
          "iopub.status.idle": "2023-06-01T03:33:41.218911Z",
          "shell.execute_reply.started": "2023-06-01T03:33:38.858468Z",
          "shell.execute_reply": "2023-06-01T03:33:41.218003Z"
        },
        "trusted": true,
        "id": "Cmnc1mTMQ0RK"
      },
      "execution_count": null,
      "outputs": []
    },
    {
      "cell_type": "code",
      "source": [
        "train[['temp', 'atemp', 'humidity', 'windspeed', 'count']].corr()"
      ],
      "metadata": {
        "execution": {
          "iopub.status.busy": "2023-06-01T03:33:41.220254Z",
          "iopub.execute_input": "2023-06-01T03:33:41.220674Z",
          "iopub.status.idle": "2023-06-01T03:33:41.240302Z",
          "shell.execute_reply.started": "2023-06-01T03:33:41.220635Z",
          "shell.execute_reply": "2023-06-01T03:33:41.238259Z"
        },
        "trusted": true,
        "id": "Frnz75OQQ0RL"
      },
      "execution_count": null,
      "outputs": []
    },
    {
      "cell_type": "code",
      "source": [
        "corrMat = train[['temp', 'atemp', 'humidity', 'windspeed', 'count']].corr()\n",
        "fig, ax = plt.subplots()\n",
        "fig.set_size_inches(10,10)\n",
        "sns.heatmap(corrMat, annot=True)\n",
        "ax.set(title= 'Heatmap of Numerical Data')"
      ],
      "metadata": {
        "execution": {
          "iopub.status.busy": "2023-06-01T03:33:41.241546Z",
          "iopub.execute_input": "2023-06-01T03:33:41.241781Z",
          "iopub.status.idle": "2023-06-01T03:33:41.552478Z",
          "shell.execute_reply.started": "2023-06-01T03:33:41.241750Z",
          "shell.execute_reply": "2023-06-01T03:33:41.551823Z"
        },
        "trusted": true,
        "id": "hjrZjTIcQ0RL"
      },
      "execution_count": null,
      "outputs": []
    },
    {
      "cell_type": "code",
      "source": [],
      "metadata": {
        "id": "2Yw6sLc1Q0RL"
      },
      "execution_count": null,
      "outputs": []
    },
    {
      "cell_type": "code",
      "source": [
        "import pandas as pd\n",
        "data_path ='/kaggle/input/bike-sharing-demand/'\n",
        "\n",
        "train = pd.read_csv(data_path + 'train.csv')\n",
        "test = pd.read_csv(data_path + 'test.csv')\n",
        "submission = pd.read_csv(data_path +'sampleSubmission.csv')\n",
        "\n",
        "train.shape, test.shape, submission.shape\n",
        "\n"
      ],
      "metadata": {
        "execution": {
          "iopub.status.busy": "2023-06-01T03:33:41.553672Z",
          "iopub.execute_input": "2023-06-01T03:33:41.554031Z",
          "iopub.status.idle": "2023-06-01T03:33:41.591365Z",
          "shell.execute_reply.started": "2023-06-01T03:33:41.553998Z",
          "shell.execute_reply": "2023-06-01T03:33:41.590369Z"
        },
        "trusted": true,
        "id": "oTS_OrDrQ0RL"
      },
      "execution_count": null,
      "outputs": []
    },
    {
      "cell_type": "code",
      "source": [
        "train=train[train['weather'] != 4]"
      ],
      "metadata": {
        "execution": {
          "iopub.status.busy": "2023-06-01T03:33:41.592723Z",
          "iopub.execute_input": "2023-06-01T03:33:41.592963Z",
          "iopub.status.idle": "2023-06-01T03:33:41.601007Z",
          "shell.execute_reply.started": "2023-06-01T03:33:41.592932Z",
          "shell.execute_reply": "2023-06-01T03:33:41.600115Z"
        },
        "trusted": true,
        "id": "Fq16d6oJQ0RL"
      },
      "execution_count": null,
      "outputs": []
    },
    {
      "cell_type": "code",
      "source": [
        "all_data_temp = pd.concat([train, test])\n",
        "all_data_temp"
      ],
      "metadata": {
        "execution": {
          "iopub.status.busy": "2023-06-01T03:33:41.602232Z",
          "iopub.execute_input": "2023-06-01T03:33:41.602462Z",
          "iopub.status.idle": "2023-06-01T03:33:41.639129Z",
          "shell.execute_reply.started": "2023-06-01T03:33:41.602434Z",
          "shell.execute_reply": "2023-06-01T03:33:41.638421Z"
        },
        "trusted": true,
        "id": "6CYMIN-QQ0RL"
      },
      "execution_count": null,
      "outputs": []
    },
    {
      "cell_type": "code",
      "source": [
        "\n",
        "\n",
        "all_data = pd.concat([train, test], ignore_index = True)\n",
        "all_data\n",
        "\n"
      ],
      "metadata": {
        "execution": {
          "iopub.status.busy": "2023-06-01T03:33:41.640065Z",
          "iopub.execute_input": "2023-06-01T03:33:41.640276Z",
          "iopub.status.idle": "2023-06-01T03:33:41.663408Z",
          "shell.execute_reply.started": "2023-06-01T03:33:41.640250Z",
          "shell.execute_reply": "2023-06-01T03:33:41.662911Z"
        },
        "trusted": true,
        "id": "B53uhaERQ0RL"
      },
      "execution_count": null,
      "outputs": []
    },
    {
      "cell_type": "code",
      "source": [
        "from datetime import datetime\n",
        "all_data['date']=all_data['datetime'].apply(lambda x: x.split()[0])\n",
        "all_data['year']=all_data['datetime'].apply(lambda x: x.split()[0].split('-')[0])\n",
        "all_data['month']=all_data['datetime'].apply(lambda x: x.split()[0].split('-')[1])\n",
        "all_data['hour']=all_data['datetime'].apply(lambda x: x.split()[1].split(':')[0])\n",
        "all_data['weekday']=all_data['date'].apply(lambda dateString: datetime.strptime(dateString, '%Y-%m-%d').weekday())\n",
        "\n"
      ],
      "metadata": {
        "execution": {
          "iopub.status.busy": "2023-06-01T03:33:41.664308Z",
          "iopub.execute_input": "2023-06-01T03:33:41.664995Z",
          "iopub.status.idle": "2023-06-01T03:33:41.858718Z",
          "shell.execute_reply.started": "2023-06-01T03:33:41.664952Z",
          "shell.execute_reply": "2023-06-01T03:33:41.857470Z"
        },
        "trusted": true,
        "id": "G3C6tGBvQ0RM"
      },
      "execution_count": null,
      "outputs": []
    },
    {
      "cell_type": "code",
      "source": [
        "drop_features= ['casual', 'registered', 'datetime', 'date', 'windspeed', 'month']\n",
        "all_data = all_data.drop(drop_features, axis =1)\n",
        "\n",
        "X_train = all_data[~pd.isnull(all_data['count'])]\n",
        "X_test = all_data[pd.isnull(all_data['count'])]\n",
        "\n"
      ],
      "metadata": {
        "execution": {
          "iopub.status.busy": "2023-06-01T03:33:41.860021Z",
          "iopub.execute_input": "2023-06-01T03:33:41.860307Z",
          "iopub.status.idle": "2023-06-01T03:33:41.870048Z",
          "shell.execute_reply.started": "2023-06-01T03:33:41.860278Z",
          "shell.execute_reply": "2023-06-01T03:33:41.869479Z"
        },
        "trusted": true,
        "id": "UtmMg46WQ0RM"
      },
      "execution_count": null,
      "outputs": []
    },
    {
      "cell_type": "code",
      "source": [
        "X_train =X_train.drop(['count'], axis = 1)\n",
        "X_test = X_test.drop(['count'], axis = 1)\n",
        "\n",
        "y= train['count']"
      ],
      "metadata": {
        "execution": {
          "iopub.status.busy": "2023-06-01T03:33:41.872988Z",
          "iopub.execute_input": "2023-06-01T03:33:41.873948Z",
          "iopub.status.idle": "2023-06-01T03:33:41.881822Z",
          "shell.execute_reply.started": "2023-06-01T03:33:41.873858Z",
          "shell.execute_reply": "2023-06-01T03:33:41.880990Z"
        },
        "trusted": true,
        "id": "MX12EaQRQ0RM"
      },
      "execution_count": null,
      "outputs": []
    },
    {
      "cell_type": "code",
      "source": [
        "X_train.head()"
      ],
      "metadata": {
        "execution": {
          "iopub.status.busy": "2023-06-01T03:33:41.882810Z",
          "iopub.execute_input": "2023-06-01T03:33:41.883044Z",
          "iopub.status.idle": "2023-06-01T03:33:41.909334Z",
          "shell.execute_reply.started": "2023-06-01T03:33:41.883015Z",
          "shell.execute_reply": "2023-06-01T03:33:41.908630Z"
        },
        "trusted": true,
        "id": "H7UZwyzlQ0RM"
      },
      "execution_count": null,
      "outputs": []
    },
    {
      "cell_type": "markdown",
      "source": [
        "# **단순선형모델"
      ],
      "metadata": {
        "id": "GYXTXQ4AQ0RM"
      }
    },
    {
      "cell_type": "code",
      "source": [
        "import numpy as np\n",
        "\n",
        "def rmsle(y_true, y_pred, convertExp= True):\n",
        "    # 지수 변환 target 값이 정규분포가 아니라서 로그변환해야됨\n",
        "    if convertExp:\n",
        "        y_ture = np.exp(y_true)\n",
        "        y_pred = np.exp(y_pred)\n",
        "    \n",
        "    # 로그변환후 결측값을 0로 변환 np.nan_to_num(x, copy=True, nan=0.0, posinf=None, neginf=None)\n",
        "    log_true = np.nan_to_num(np.log(y_true+1))\n",
        "    log_pred = np.nan_to_num(np.log(y_pred+1))\n",
        "    \n",
        "    output = np.sqrt(np.mean((log_true - log_pred)**2))\n",
        "    return output"
      ],
      "metadata": {
        "execution": {
          "iopub.status.busy": "2023-06-01T03:33:41.910404Z",
          "iopub.execute_input": "2023-06-01T03:33:41.910661Z",
          "iopub.status.idle": "2023-06-01T03:33:41.924231Z",
          "shell.execute_reply.started": "2023-06-01T03:33:41.910631Z",
          "shell.execute_reply": "2023-06-01T03:33:41.923483Z"
        },
        "trusted": true,
        "id": "PkHoq0KAQ0RM"
      },
      "execution_count": null,
      "outputs": []
    },
    {
      "cell_type": "code",
      "source": [
        "from sklearn.linear_model import LinearRegression\n",
        "\n",
        "linear_reg_model = LinearRegression()"
      ],
      "metadata": {
        "execution": {
          "iopub.status.busy": "2023-06-01T03:33:41.925080Z",
          "iopub.execute_input": "2023-06-01T03:33:41.925333Z",
          "iopub.status.idle": "2023-06-01T03:33:41.938626Z",
          "shell.execute_reply.started": "2023-06-01T03:33:41.925309Z",
          "shell.execute_reply": "2023-06-01T03:33:41.937748Z"
        },
        "trusted": true,
        "id": "v2yWrb8xQ0RN"
      },
      "execution_count": null,
      "outputs": []
    },
    {
      "cell_type": "code",
      "source": [
        "log_y = np.log(y)\n",
        "linear_reg_model.fit(X_train, log_y)"
      ],
      "metadata": {
        "execution": {
          "iopub.status.busy": "2023-06-01T03:33:41.940488Z",
          "iopub.execute_input": "2023-06-01T03:33:41.940798Z",
          "iopub.status.idle": "2023-06-01T03:33:41.965797Z",
          "shell.execute_reply.started": "2023-06-01T03:33:41.940759Z",
          "shell.execute_reply": "2023-06-01T03:33:41.965143Z"
        },
        "trusted": true,
        "id": "OXzNmN-RQ0RN"
      },
      "execution_count": null,
      "outputs": []
    },
    {
      "cell_type": "code",
      "source": [
        "preds = linear_reg_model.predict(X_train)"
      ],
      "metadata": {
        "execution": {
          "iopub.status.busy": "2023-06-01T03:33:41.967197Z",
          "iopub.execute_input": "2023-06-01T03:33:41.967419Z",
          "iopub.status.idle": "2023-06-01T03:33:41.988299Z",
          "shell.execute_reply.started": "2023-06-01T03:33:41.967394Z",
          "shell.execute_reply": "2023-06-01T03:33:41.987487Z"
        },
        "trusted": true,
        "id": "gcJ3GxLqQ0RN"
      },
      "execution_count": null,
      "outputs": []
    },
    {
      "cell_type": "code",
      "source": [
        "print(f'선형 회귀의 RMSLE 값 :{rmsle(log_y, preds, True):.4f}')"
      ],
      "metadata": {
        "execution": {
          "iopub.status.busy": "2023-06-01T03:33:41.989373Z",
          "iopub.execute_input": "2023-06-01T03:33:41.989595Z",
          "iopub.status.idle": "2023-06-01T03:33:41.999614Z",
          "shell.execute_reply.started": "2023-06-01T03:33:41.989569Z",
          "shell.execute_reply": "2023-06-01T03:33:41.998587Z"
        },
        "trusted": true,
        "id": "NaWkVGVnQ0RN"
      },
      "execution_count": null,
      "outputs": []
    },
    {
      "cell_type": "markdown",
      "source": [],
      "metadata": {
        "id": "F-_tLZOMQ0RN"
      }
    },
    {
      "cell_type": "code",
      "source": [
        "linearreg_preds = linear_reg_model.predict(X_test)\n",
        "\n",
        "submission['count'] = np.exp(linearreg_preds)\n",
        "submission.to_csv('submission.csv', index= False)"
      ],
      "metadata": {
        "execution": {
          "iopub.status.busy": "2023-06-01T03:33:42.000927Z",
          "iopub.execute_input": "2023-06-01T03:33:42.001179Z",
          "iopub.status.idle": "2023-06-01T03:33:42.046177Z",
          "shell.execute_reply.started": "2023-06-01T03:33:42.001150Z",
          "shell.execute_reply": "2023-06-01T03:33:42.045151Z"
        },
        "trusted": true,
        "id": "jc2G8T7VQ0RN"
      },
      "execution_count": null,
      "outputs": []
    },
    {
      "cell_type": "markdown",
      "source": [
        "# **릿지회귀모델"
      ],
      "metadata": {
        "id": "nqa6QCY-Q0Rb"
      }
    },
    {
      "cell_type": "code",
      "source": [
        "from sklearn.linear_model import Ridge\n",
        "from sklearn.model_selection import GridSearchCV\n",
        "from sklearn import metrics\n",
        "\n",
        "ridge_model = Ridge()"
      ],
      "metadata": {
        "execution": {
          "iopub.status.busy": "2023-06-01T03:33:42.047686Z",
          "iopub.execute_input": "2023-06-01T03:33:42.048265Z",
          "iopub.status.idle": "2023-06-01T03:33:42.053562Z",
          "shell.execute_reply.started": "2023-06-01T03:33:42.048226Z",
          "shell.execute_reply": "2023-06-01T03:33:42.052233Z"
        },
        "trusted": true,
        "id": "DkxCOh-TQ0Rb"
      },
      "execution_count": null,
      "outputs": []
    },
    {
      "cell_type": "code",
      "source": [
        "import numpy as np\n",
        "\n",
        "def rmsle(y_true, y_pred, convertExp= True):\n",
        "    # 지수 변환 target 값이 정규분포가 아니라서 로그변환해야됨\n",
        "    if convertExp:\n",
        "        y_ture = np.exp(y_true)\n",
        "        y_pred = np.exp(y_pred)\n",
        "    \n",
        "    # 로그변환후 결측값을 0로 변환 np.nan_to_num(x, copy=True, nan=0.0, posinf=None, neginf=None)\n",
        "    log_true = np.nan_to_num(np.log(y_true+1))\n",
        "    log_pred = np.nan_to_num(np.log(y_pred+1))\n",
        "    \n",
        "    output = np.sqrt(np.mean((log_true - log_pred)**2))\n",
        "    return output"
      ],
      "metadata": {
        "execution": {
          "iopub.status.busy": "2023-06-01T03:33:42.055454Z",
          "iopub.execute_input": "2023-06-01T03:33:42.058359Z",
          "iopub.status.idle": "2023-06-01T03:33:42.067958Z",
          "shell.execute_reply.started": "2023-06-01T03:33:42.058304Z",
          "shell.execute_reply": "2023-06-01T03:33:42.067342Z"
        },
        "trusted": true,
        "id": "qqo8-_ZvQ0Rc"
      },
      "execution_count": null,
      "outputs": []
    },
    {
      "cell_type": "code",
      "source": [
        "ridge_params = {'max_iter': [3000], 'alpha':[0.1,1,2,3,4,10,30,100,200,300,400,800,900,1000]}\n",
        "\n",
        "rmsle_scorer = metrics.make_scorer(rmsle, greater_is_better=False)\n"
      ],
      "metadata": {
        "execution": {
          "iopub.status.busy": "2023-06-01T03:33:42.071927Z",
          "iopub.execute_input": "2023-06-01T03:33:42.073592Z",
          "iopub.status.idle": "2023-06-01T03:33:42.083648Z",
          "shell.execute_reply.started": "2023-06-01T03:33:42.073552Z",
          "shell.execute_reply": "2023-06-01T03:33:42.083076Z"
        },
        "trusted": true,
        "id": "TIiRlOSzQ0Rc"
      },
      "execution_count": null,
      "outputs": []
    },
    {
      "cell_type": "code",
      "source": [
        "gridsearch_ridge_model = GridSearchCV(estimator = ridge_model, \n",
        "                                        param_grid = ridge_params,\n",
        "                                        scoring = rmsle_scorer,\n",
        "                                        cv=5)"
      ],
      "metadata": {
        "execution": {
          "iopub.status.busy": "2023-06-01T03:33:42.087098Z",
          "iopub.execute_input": "2023-06-01T03:33:42.088774Z",
          "iopub.status.idle": "2023-06-01T03:33:42.094811Z",
          "shell.execute_reply.started": "2023-06-01T03:33:42.088741Z",
          "shell.execute_reply": "2023-06-01T03:33:42.094261Z"
        },
        "trusted": true,
        "id": "0AW_gUtmQ0Rc"
      },
      "execution_count": null,
      "outputs": []
    },
    {
      "cell_type": "code",
      "source": [
        "log_y= np.log(y)\n",
        "gridsearch_ridge_model.fit(X_train, log_y)"
      ],
      "metadata": {
        "execution": {
          "iopub.status.busy": "2023-06-01T03:33:42.099126Z",
          "iopub.execute_input": "2023-06-01T03:33:42.101328Z",
          "iopub.status.idle": "2023-06-01T03:33:43.228347Z",
          "shell.execute_reply.started": "2023-06-01T03:33:42.101289Z",
          "shell.execute_reply": "2023-06-01T03:33:43.227801Z"
        },
        "trusted": true,
        "id": "c_tfBnpwQ0Rc"
      },
      "execution_count": null,
      "outputs": []
    },
    {
      "cell_type": "code",
      "source": [
        "print('최적 하이퍼파라미터:', gridsearch_ridge_model.best_params_)"
      ],
      "metadata": {
        "execution": {
          "iopub.status.busy": "2023-06-01T03:33:43.231518Z",
          "iopub.execute_input": "2023-06-01T03:33:43.233019Z",
          "iopub.status.idle": "2023-06-01T03:33:43.239774Z",
          "shell.execute_reply.started": "2023-06-01T03:33:43.232967Z",
          "shell.execute_reply": "2023-06-01T03:33:43.239242Z"
        },
        "trusted": true,
        "id": "TLKihnyrQ0Rc"
      },
      "execution_count": null,
      "outputs": []
    },
    {
      "cell_type": "code",
      "source": [
        "preds = gridsearch_ridge_model.best_estimator_.predict(X_train)\n",
        "\n",
        "print(f'릿지 회귀 RMSLE 값: {rmsle(log_y, preds, True):.4f}')"
      ],
      "metadata": {
        "execution": {
          "iopub.status.busy": "2023-06-01T03:33:43.242790Z",
          "iopub.execute_input": "2023-06-01T03:33:43.244537Z",
          "iopub.status.idle": "2023-06-01T03:33:43.266321Z",
          "shell.execute_reply.started": "2023-06-01T03:33:43.244493Z",
          "shell.execute_reply": "2023-06-01T03:33:43.265742Z"
        },
        "trusted": true,
        "id": "7ld--BRxQ0Rc"
      },
      "execution_count": null,
      "outputs": []
    },
    {
      "cell_type": "markdown",
      "source": [
        "# 라쏘 회귀"
      ],
      "metadata": {
        "id": "uA0bJ4GPQ0Rc"
      }
    },
    {
      "cell_type": "code",
      "source": [
        "from sklearn.linear_model import Lasso\n",
        "\n",
        "lasso_model= Lasso()\n",
        "\n",
        "lasso_alpha = 1/np.array([0.1,1,2,3,4,10,30,100,200,300,400,800,900,1000])\n",
        "\n",
        "lasso_params = {'max_iter':[3000], 'alpha': lasso_alpha}\n",
        "\n",
        "gridsearch_lasso_model = GridSearchCV(estimator = lasso_model, \n",
        "                                        param_grid = lasso_params,\n",
        "                                        scoring = rmsle_scorer,\n",
        "                                        cv=5)\n",
        "\n",
        "log_y= np.log(y)\n",
        "gridsearch_lasso_model.fit(X_train, log_y)\n",
        "\n",
        "print('최적 하이퍼파라미터:', gridsearch_lasso_model.best_params_)"
      ],
      "metadata": {
        "execution": {
          "iopub.status.busy": "2023-06-01T03:33:43.269652Z",
          "iopub.execute_input": "2023-06-01T03:33:43.271297Z",
          "iopub.status.idle": "2023-06-01T03:33:45.014641Z",
          "shell.execute_reply.started": "2023-06-01T03:33:43.271259Z",
          "shell.execute_reply": "2023-06-01T03:33:45.014079Z"
        },
        "trusted": true,
        "id": "n101Pn2lQ0Rd"
      },
      "execution_count": null,
      "outputs": []
    },
    {
      "cell_type": "code",
      "source": [
        "preds = gridsearch_lasso_model.best_estimator_.predict(X_train)\n",
        "\n",
        "print(f'라쏘 회귀 RMSLE 의 값: {rmsle(log_y, preds, True):.4f}')"
      ],
      "metadata": {
        "execution": {
          "iopub.status.busy": "2023-06-01T03:33:45.017709Z",
          "iopub.execute_input": "2023-06-01T03:33:45.019223Z",
          "iopub.status.idle": "2023-06-01T03:33:45.040634Z",
          "shell.execute_reply.started": "2023-06-01T03:33:45.019190Z",
          "shell.execute_reply": "2023-06-01T03:33:45.040033Z"
        },
        "trusted": true,
        "id": "j-51WdPKQ0Rd"
      },
      "execution_count": null,
      "outputs": []
    },
    {
      "cell_type": "markdown",
      "source": [
        "# 랜덤포레스트"
      ],
      "metadata": {
        "id": "UWlVsKHRQ0Rd"
      }
    },
    {
      "cell_type": "code",
      "source": [
        "from sklearn.ensemble import RandomForestRegressor\n",
        "\n",
        "randomforest_model = RandomForestRegressor()\n",
        "\n",
        "rf_params={'random_state': [42], 'n_estimators':[100,120,140]}\n",
        "\n",
        "gridsearch_randomforest_model = GridSearchCV(estimator = randomforest_model, \n",
        "                                        param_grid =rf_params,\n",
        "                                        scoring = rmsle_scorer,\n",
        "                                        cv=5)\n",
        "\n",
        "log_y= np.log(y)\n",
        "gridsearch_randomforest_model.fit(X_train, log_y)\n",
        "\n",
        "print('최적 하이퍼파라미터:', gridsearch_randomforest_model.best_params_)"
      ],
      "metadata": {
        "execution": {
          "iopub.status.busy": "2023-06-01T03:33:45.044386Z",
          "iopub.execute_input": "2023-06-01T03:33:45.046112Z",
          "iopub.status.idle": "2023-06-01T03:34:28.016807Z",
          "shell.execute_reply.started": "2023-06-01T03:33:45.046069Z",
          "shell.execute_reply": "2023-06-01T03:34:28.015954Z"
        },
        "trusted": true,
        "id": "u5xMgjc8Q0Rd"
      },
      "execution_count": null,
      "outputs": []
    },
    {
      "cell_type": "code",
      "source": [
        "preds = gridsearch_randomforest_model.best_estimator_.predict(X_train)\n",
        "\n",
        "print(f'랜덤 포레스트 회귀 RMSLE 의 값: {rmsle(log_y, preds, True):.4f}')"
      ],
      "metadata": {
        "execution": {
          "iopub.status.busy": "2023-06-01T03:34:28.017956Z",
          "iopub.execute_input": "2023-06-01T03:34:28.018186Z",
          "iopub.status.idle": "2023-06-01T03:34:28.197265Z",
          "shell.execute_reply.started": "2023-06-01T03:34:28.018160Z",
          "shell.execute_reply": "2023-06-01T03:34:28.196205Z"
        },
        "trusted": true,
        "id": "Nyj2QdDGQ0Rd"
      },
      "execution_count": null,
      "outputs": []
    },
    {
      "cell_type": "markdown",
      "source": [
        "# 성능평가지표 변경 r2, mean_squared_error"
      ],
      "metadata": {
        "id": "xvC8P6LcQ0Rd"
      }
    },
    {
      "cell_type": "code",
      "source": [
        "from sklearn.ensemble import RandomForestRegressor\n",
        "from sklearn.metrics import make_scorer, mean_squared_error, r2_score\n",
        "\n",
        "scoring = {\n",
        "    'mse': make_scorer(mean_squared_error),\n",
        "    'r2': make_scorer(r2_score) }\n",
        "    \n",
        "randomforest_model = RandomForestRegressor()\n",
        "\n",
        "rf_params={'random_state': [42], 'n_estimators':[100,120,140]}\n",
        "\n",
        "gridsearch_randomforest_model = GridSearchCV(estimator=randomforest_model, \n",
        "                                            param_grid=rf_params,\n",
        "                                            scoring=scoring,\n",
        "                                            cv=5,\n",
        "                                            refit='mse')\n",
        "\n",
        "log_y= np.log(y)\n",
        "gridsearch_randomforest_model.fit(X_train, log_y)\n",
        "\n",
        "print('최적 하이퍼파라미터:', gridsearch_randomforest_model.best_params_)"
      ],
      "metadata": {
        "execution": {
          "iopub.status.busy": "2023-06-01T03:34:28.198243Z",
          "iopub.execute_input": "2023-06-01T03:34:28.198435Z",
          "iopub.status.idle": "2023-06-01T03:35:10.992324Z",
          "shell.execute_reply.started": "2023-06-01T03:34:28.198412Z",
          "shell.execute_reply": "2023-06-01T03:35:10.991298Z"
        },
        "trusted": true,
        "id": "M5g0arOPQ0Re"
      },
      "execution_count": null,
      "outputs": []
    },
    {
      "cell_type": "code",
      "source": [
        "preds = gridsearch_randomforest_model.best_estimator_.predict(X_train)\n",
        "\n",
        "print(f'랜덤 포레스트 회귀 mse 의 값: {mean_squared_error(log_y, preds):.4f}')"
      ],
      "metadata": {
        "execution": {
          "iopub.status.busy": "2023-06-01T03:35:10.993573Z",
          "iopub.execute_input": "2023-06-01T03:35:10.993822Z",
          "iopub.status.idle": "2023-06-01T03:35:11.172034Z",
          "shell.execute_reply.started": "2023-06-01T03:35:10.993790Z",
          "shell.execute_reply": "2023-06-01T03:35:11.170921Z"
        },
        "trusted": true,
        "id": "92o9pTO3Q0Re"
      },
      "execution_count": null,
      "outputs": []
    },
    {
      "cell_type": "code",
      "source": [
        "import seaborn as sns\n",
        "import matplotlib.pyplot as plt\n",
        "\n",
        "randomforest_preds = gridsearch_randomforest_model.best_estimator_.predict(X_test)\n",
        "\n",
        "figure, axes =plt.subplots(ncols =2)\n",
        "figure.set_size_inches(10,4)\n",
        "\n",
        "sns.histplot(y, bins=50, ax=axes[0])\n",
        "axes[0].set_title('Train Data Distribution')\n",
        "sns.histplot(np.exp(randomforest_preds), bins = 50, ax =axes[1])\n",
        "axes[1].set_title('Predicted Test Data Distribution');"
      ],
      "metadata": {
        "execution": {
          "iopub.status.busy": "2023-06-01T03:39:19.067444Z",
          "iopub.execute_input": "2023-06-01T03:39:19.068239Z",
          "iopub.status.idle": "2023-06-01T03:39:19.640490Z",
          "shell.execute_reply.started": "2023-06-01T03:39:19.068165Z",
          "shell.execute_reply": "2023-06-01T03:39:19.639995Z"
        },
        "trusted": true,
        "id": "Uib9Xym0Q0Re"
      },
      "execution_count": null,
      "outputs": []
    },
    {
      "cell_type": "code",
      "source": [
        "submission['count'] =np.exp(randomforest_preds)\n",
        "submission.to_csv('submission.csv', index= False)"
      ],
      "metadata": {
        "execution": {
          "iopub.status.busy": "2023-06-01T03:40:52.536138Z",
          "iopub.execute_input": "2023-06-01T03:40:52.536436Z",
          "iopub.status.idle": "2023-06-01T03:40:52.560377Z",
          "shell.execute_reply.started": "2023-06-01T03:40:52.536408Z",
          "shell.execute_reply": "2023-06-01T03:40:52.558688Z"
        },
        "trusted": true,
        "id": "hRAquMKPQ0Re"
      },
      "execution_count": null,
      "outputs": []
    }
  ]
}