{
  "cells": [
    {
      "cell_type": "markdown",
      "metadata": {
        "id": "view-in-github",
        "colab_type": "text"
      },
      "source": [
        "<a href=\"https://colab.research.google.com/github/donggale72/10000.html/blob/main/DeepLearning.ipynb\" target=\"_parent\"><img src=\"https://colab.research.google.com/assets/colab-badge.svg\" alt=\"Open In Colab\"/></a>"
      ]
    },
    {
      "cell_type": "code",
      "execution_count": null,
      "metadata": {
        "id": "aGHH2kr5ykng"
      },
      "outputs": [],
      "source": [
        "import numpy as np\n",
        "import pandas as pd\n",
        "import tensorflow as tf\n",
        "import matplotlib.pyplot as plt\n",
        "import seaborn as sns\n",
        "seed=1\n",
        "np.random.seed(seed)\n",
        "tf.random.set_seed(seed)\n"
      ]
    },
    {
      "cell_type": "code",
      "execution_count": null,
      "metadata": {
        "colab": {
          "base_uri": "https://localhost:8080/"
        },
        "id": "5RKjPVCjzHIw",
        "outputId": "dbe2c584-2db1-4c27-cbd5-d229fb75f76d"
      },
      "outputs": [
        {
          "name": "stdout",
          "output_type": "stream",
          "text": [
            "Cloning into 'SkillTreePython-DeepLearning'...\n",
            "remote: Enumerating objects: 379, done.\u001b[K\n",
            "remote: Counting objects: 100% (201/201), done.\u001b[K\n",
            "remote: Compressing objects: 100% (121/121), done.\u001b[K\n",
            "remote: Total 379 (delta 126), reused 120 (delta 78), pack-reused 178\u001b[K\n",
            "Receiving objects: 100% (379/379), 22.46 MiB | 24.13 MiB/s, done.\n",
            "Resolving deltas: 100% (161/161), done.\n"
          ]
        }
      ],
      "source": [
        "! git clone https://github.com/yebiny/SkillTreePython-DeepLearning.git"
      ]
    },
    {
      "cell_type": "code",
      "execution_count": null,
      "metadata": {
        "colab": {
          "base_uri": "https://localhost:8080/",
          "height": 424
        },
        "id": "EmnahLZYzOPA",
        "outputId": "f32b180f-01a9-4692-b283-c2569b3b4e11"
      },
      "outputs": [
        {
          "data": {
            "text/html": [
              "\n",
              "  <div id=\"df-4ddf7f7e-0306-4d47-ad39-4bb79e18ced3\">\n",
              "    <div class=\"colab-df-container\">\n",
              "      <div>\n",
              "<style scoped>\n",
              "    .dataframe tbody tr th:only-of-type {\n",
              "        vertical-align: middle;\n",
              "    }\n",
              "\n",
              "    .dataframe tbody tr th {\n",
              "        vertical-align: top;\n",
              "    }\n",
              "\n",
              "    .dataframe thead th {\n",
              "        text-align: right;\n",
              "    }\n",
              "</style>\n",
              "<table border=\"1\" class=\"dataframe\">\n",
              "  <thead>\n",
              "    <tr style=\"text-align: right;\">\n",
              "      <th></th>\n",
              "      <th>0</th>\n",
              "      <th>1</th>\n",
              "      <th>2</th>\n",
              "      <th>3</th>\n",
              "      <th>4</th>\n",
              "    </tr>\n",
              "  </thead>\n",
              "  <tbody>\n",
              "    <tr>\n",
              "      <th>0</th>\n",
              "      <td>5.1</td>\n",
              "      <td>3.5</td>\n",
              "      <td>1.4</td>\n",
              "      <td>0.2</td>\n",
              "      <td>Iris-setosa</td>\n",
              "    </tr>\n",
              "    <tr>\n",
              "      <th>1</th>\n",
              "      <td>4.9</td>\n",
              "      <td>3.0</td>\n",
              "      <td>1.4</td>\n",
              "      <td>0.2</td>\n",
              "      <td>Iris-setosa</td>\n",
              "    </tr>\n",
              "    <tr>\n",
              "      <th>2</th>\n",
              "      <td>4.7</td>\n",
              "      <td>3.2</td>\n",
              "      <td>1.3</td>\n",
              "      <td>0.2</td>\n",
              "      <td>Iris-setosa</td>\n",
              "    </tr>\n",
              "    <tr>\n",
              "      <th>3</th>\n",
              "      <td>4.6</td>\n",
              "      <td>3.1</td>\n",
              "      <td>1.5</td>\n",
              "      <td>0.2</td>\n",
              "      <td>Iris-setosa</td>\n",
              "    </tr>\n",
              "    <tr>\n",
              "      <th>4</th>\n",
              "      <td>5.0</td>\n",
              "      <td>3.6</td>\n",
              "      <td>1.4</td>\n",
              "      <td>0.2</td>\n",
              "      <td>Iris-setosa</td>\n",
              "    </tr>\n",
              "    <tr>\n",
              "      <th>...</th>\n",
              "      <td>...</td>\n",
              "      <td>...</td>\n",
              "      <td>...</td>\n",
              "      <td>...</td>\n",
              "      <td>...</td>\n",
              "    </tr>\n",
              "    <tr>\n",
              "      <th>145</th>\n",
              "      <td>6.7</td>\n",
              "      <td>3.0</td>\n",
              "      <td>5.2</td>\n",
              "      <td>2.3</td>\n",
              "      <td>Iris-virginica</td>\n",
              "    </tr>\n",
              "    <tr>\n",
              "      <th>146</th>\n",
              "      <td>6.3</td>\n",
              "      <td>2.5</td>\n",
              "      <td>5.0</td>\n",
              "      <td>1.9</td>\n",
              "      <td>Iris-virginica</td>\n",
              "    </tr>\n",
              "    <tr>\n",
              "      <th>147</th>\n",
              "      <td>6.5</td>\n",
              "      <td>3.0</td>\n",
              "      <td>5.2</td>\n",
              "      <td>2.0</td>\n",
              "      <td>Iris-virginica</td>\n",
              "    </tr>\n",
              "    <tr>\n",
              "      <th>148</th>\n",
              "      <td>6.2</td>\n",
              "      <td>3.4</td>\n",
              "      <td>5.4</td>\n",
              "      <td>2.3</td>\n",
              "      <td>Iris-virginica</td>\n",
              "    </tr>\n",
              "    <tr>\n",
              "      <th>149</th>\n",
              "      <td>5.9</td>\n",
              "      <td>3.0</td>\n",
              "      <td>5.1</td>\n",
              "      <td>1.8</td>\n",
              "      <td>Iris-virginica</td>\n",
              "    </tr>\n",
              "  </tbody>\n",
              "</table>\n",
              "<p>150 rows × 5 columns</p>\n",
              "</div>\n",
              "      <button class=\"colab-df-convert\" onclick=\"convertToInteractive('df-4ddf7f7e-0306-4d47-ad39-4bb79e18ced3')\"\n",
              "              title=\"Convert this dataframe to an interactive table.\"\n",
              "              style=\"display:none;\">\n",
              "        \n",
              "  <svg xmlns=\"http://www.w3.org/2000/svg\" height=\"24px\"viewBox=\"0 0 24 24\"\n",
              "       width=\"24px\">\n",
              "    <path d=\"M0 0h24v24H0V0z\" fill=\"none\"/>\n",
              "    <path d=\"M18.56 5.44l.94 2.06.94-2.06 2.06-.94-2.06-.94-.94-2.06-.94 2.06-2.06.94zm-11 1L8.5 8.5l.94-2.06 2.06-.94-2.06-.94L8.5 2.5l-.94 2.06-2.06.94zm10 10l.94 2.06.94-2.06 2.06-.94-2.06-.94-.94-2.06-.94 2.06-2.06.94z\"/><path d=\"M17.41 7.96l-1.37-1.37c-.4-.4-.92-.59-1.43-.59-.52 0-1.04.2-1.43.59L10.3 9.45l-7.72 7.72c-.78.78-.78 2.05 0 2.83L4 21.41c.39.39.9.59 1.41.59.51 0 1.02-.2 1.41-.59l7.78-7.78 2.81-2.81c.8-.78.8-2.07 0-2.86zM5.41 20L4 18.59l7.72-7.72 1.47 1.35L5.41 20z\"/>\n",
              "  </svg>\n",
              "      </button>\n",
              "      \n",
              "  <style>\n",
              "    .colab-df-container {\n",
              "      display:flex;\n",
              "      flex-wrap:wrap;\n",
              "      gap: 12px;\n",
              "    }\n",
              "\n",
              "    .colab-df-convert {\n",
              "      background-color: #E8F0FE;\n",
              "      border: none;\n",
              "      border-radius: 50%;\n",
              "      cursor: pointer;\n",
              "      display: none;\n",
              "      fill: #1967D2;\n",
              "      height: 32px;\n",
              "      padding: 0 0 0 0;\n",
              "      width: 32px;\n",
              "    }\n",
              "\n",
              "    .colab-df-convert:hover {\n",
              "      background-color: #E2EBFA;\n",
              "      box-shadow: 0px 1px 2px rgba(60, 64, 67, 0.3), 0px 1px 3px 1px rgba(60, 64, 67, 0.15);\n",
              "      fill: #174EA6;\n",
              "    }\n",
              "\n",
              "    [theme=dark] .colab-df-convert {\n",
              "      background-color: #3B4455;\n",
              "      fill: #D2E3FC;\n",
              "    }\n",
              "\n",
              "    [theme=dark] .colab-df-convert:hover {\n",
              "      background-color: #434B5C;\n",
              "      box-shadow: 0px 1px 3px 1px rgba(0, 0, 0, 0.15);\n",
              "      filter: drop-shadow(0px 1px 2px rgba(0, 0, 0, 0.3));\n",
              "      fill: #FFFFFF;\n",
              "    }\n",
              "  </style>\n",
              "\n",
              "      <script>\n",
              "        const buttonEl =\n",
              "          document.querySelector('#df-4ddf7f7e-0306-4d47-ad39-4bb79e18ced3 button.colab-df-convert');\n",
              "        buttonEl.style.display =\n",
              "          google.colab.kernel.accessAllowed ? 'block' : 'none';\n",
              "\n",
              "        async function convertToInteractive(key) {\n",
              "          const element = document.querySelector('#df-4ddf7f7e-0306-4d47-ad39-4bb79e18ced3');\n",
              "          const dataTable =\n",
              "            await google.colab.kernel.invokeFunction('convertToInteractive',\n",
              "                                                     [key], {});\n",
              "          if (!dataTable) return;\n",
              "\n",
              "          const docLinkHtml = 'Like what you see? Visit the ' +\n",
              "            '<a target=\"_blank\" href=https://colab.research.google.com/notebooks/data_table.ipynb>data table notebook</a>'\n",
              "            + ' to learn more about interactive tables.';\n",
              "          element.innerHTML = '';\n",
              "          dataTable['output_type'] = 'display_data';\n",
              "          await google.colab.output.renderOutput(dataTable, element);\n",
              "          const docLink = document.createElement('div');\n",
              "          docLink.innerHTML = docLinkHtml;\n",
              "          element.appendChild(docLink);\n",
              "        }\n",
              "      </script>\n",
              "    </div>\n",
              "  </div>\n",
              "  "
            ],
            "text/plain": [
              "       0    1    2    3               4\n",
              "0    5.1  3.5  1.4  0.2     Iris-setosa\n",
              "1    4.9  3.0  1.4  0.2     Iris-setosa\n",
              "2    4.7  3.2  1.3  0.2     Iris-setosa\n",
              "3    4.6  3.1  1.5  0.2     Iris-setosa\n",
              "4    5.0  3.6  1.4  0.2     Iris-setosa\n",
              "..   ...  ...  ...  ...             ...\n",
              "145  6.7  3.0  5.2  2.3  Iris-virginica\n",
              "146  6.3  2.5  5.0  1.9  Iris-virginica\n",
              "147  6.5  3.0  5.2  2.0  Iris-virginica\n",
              "148  6.2  3.4  5.4  2.3  Iris-virginica\n",
              "149  5.9  3.0  5.1  1.8  Iris-virginica\n",
              "\n",
              "[150 rows x 5 columns]"
            ]
          },
          "execution_count": 7,
          "metadata": {},
          "output_type": "execute_result"
        }
      ],
      "source": [
        "data_path='/content/SkillTreePython-DeepLearning/dataset/iris.csv'\n",
        "df=pd.read_csv(data_path, header=None)\n",
        "df"
      ]
    },
    {
      "cell_type": "code",
      "execution_count": null,
      "metadata": {
        "colab": {
          "base_uri": "https://localhost:8080/",
          "height": 313
        },
        "id": "l84U5K69zOHX",
        "outputId": "b78a0c1c-c423-4f8d-b77e-db95bc6194a7"
      },
      "outputs": [
        {
          "data": {
            "text/plain": [
              "Text(0.5, 1.0, 'all dataset')"
            ]
          },
          "execution_count": 8,
          "metadata": {},
          "output_type": "execute_result"
        },
        {
          "data": {
            "image/png": "[encoded data removed]",
            "text/plain": [
              "<Figure size 432x288 with 1 Axes>"
            ]
          },
          "metadata": {},
          "output_type": "display_data"
        }
      ],
      "source": [
        "sns.countplot(x=df[4]); plt.title('all dataset')"
      ]
    },
    {
      "cell_type": "code",
      "execution_count": null,
      "metadata": {
        "colab": {
          "base_uri": "https://localhost:8080/"
        },
        "id": "V9zrdG7_zOEI",
        "outputId": "464efd3b-4c04-458d-9d40-65607391df94"
      },
      "outputs": [
        {
          "name": "stdout",
          "output_type": "stream",
          "text": [
            "데이터형태: (105, 4), (45, 4), (105, 3), (45, 3)\n",
            "첫번째 샘플 x: [ 0.55333328 -0.58776353  0.76275864  0.39617188] y:[0. 0. 1.]\n"
          ]
        }
      ],
      "source": [
        "from sklearn.preprocessing import StandardScaler, OneHotEncoder\n",
        "from sklearn.model_selection import train_test_split\n",
        "\n",
        "def iris_preprocess(df, seed=1):\n",
        "  x=df.values[:, :-1]\n",
        "  y=df.values[:, -1]\n",
        "  ss=StandardScaler()\n",
        "  x=ss.fit_transform(x)\n",
        "  oh=OneHotEncoder(sparse=False)\n",
        "  y=oh.fit_transform(np.expand_dims(y,1))\n",
        "  x_train, x_test, y_train, y_test=train_test_split(x,y, test_size=0.3, random_state=seed, stratify=y)\n",
        "  return x_train, x_test, y_train, y_test\n",
        "\n",
        "\n",
        "x_train, x_test, y_train, y_test=iris_preprocess(df)\n",
        "print(f'데이터형태: {x_train.shape}, {x_test.shape}, {y_train.shape}, {y_test.shape}')\n",
        "print(f'첫번째 샘플 x: {x_train[0]} y:{y_train[0]}')"
      ]
    },
    {
      "cell_type": "code",
      "execution_count": null,
      "metadata": {
        "colab": {
          "base_uri": "https://localhost:8080/",
          "height": 299
        },
        "id": "hmPum2hQzOBP",
        "outputId": "ec0f118e-8026-4607-978f-e93ea43e27b4"
      },
      "outputs": [
        {
          "data": {
            "text/plain": [
              "Text(0.5, 1.0, 'test datas')"
            ]
          },
          "execution_count": 14,
          "metadata": {},
          "output_type": "execute_result"
        },
        {
          "data": {
            "image/png": "[encoded data removed]",
            "text/plain": [
              "<Figure size 432x288 with 2 Axes>"
            ]
          },
          "metadata": {},
          "output_type": "display_data"
        }
      ],
      "source": [
        "plt.subplot(121); sns.countplot(x=np.argmax(y_train, axis=1)); plt.title('train datas')\n",
        "plt.subplot(122); sns.countplot(x=np.argmax(y_test, axis=1)); plt.title('test datas')"
      ]
    },
    {
      "cell_type": "code",
      "execution_count": null,
      "metadata": {
        "id": "-s9fy3zlzN7y"
      },
      "outputs": [],
      "source": [
        "from tensorflow.keras import models, layers, utils\n",
        "\n",
        "def build_model():\n",
        "  x=layers.Input(shape=(4,))\n",
        "  y=layers.Dense(12, activation='relu')(x)\n",
        "  y=layers.Dense(8, activation='relu')(y)\n",
        "  y=layers.Dense(3, activation='softmax', name='OutputLayer')(y)\n",
        "  model=models.Model(x, y)\n",
        "  return model"
      ]
    },
    {
      "cell_type": "code",
      "execution_count": null,
      "metadata": {
        "colab": {
          "base_uri": "https://localhost:8080/",
          "height": 734
        },
        "id": "tHGXyE6kzN5I",
        "outputId": "dfbf9beb-cec5-4825-fe01-3264ef74d671"
      },
      "outputs": [
        {
          "name": "stdout",
          "output_type": "stream",
          "text": [
            "Model: \"model_4\"\n",
            "_________________________________________________________________\n",
            " Layer (type)                Output Shape              Param #   \n",
            "=================================================================\n",
            " input_5 (InputLayer)        [(None, 4)]               0         \n",
            "                                                                 \n",
            " dense_8 (Dense)             (None, 12)                60        \n",
            "                                                                 \n",
            " dense_9 (Dense)             (None, 8)                 104       \n",
            "                                                                 \n",
            " OutputLayer (Dense)         (None, 3)                 27        \n",
            "                                                                 \n",
            "=================================================================\n",
            "Total params: 191\n",
            "Trainable params: 191\n",
            "Non-trainable params: 0\n",
            "_________________________________________________________________\n"
          ]
        },
        {
          "data": {
            "image/png": "[encoded data removed]",
            "text/plain": [
              "<IPython.core.display.Image object>"
            ]
          },
          "execution_count": 24,
          "metadata": {},
          "output_type": "execute_result"
        }
      ],
      "source": [
        "model=build_model()\n",
        "model.summary()\n",
        "utils.plot_model(model, show_shapes=True)"
      ]
    },
    {
      "cell_type": "code",
      "execution_count": null,
      "metadata": {
        "id": "FGEI4CtRzN2P"
      },
      "outputs": [],
      "source": [
        "model.compile(loss='categorical_crossentropy',\n",
        "              optimizer='adam',\n",
        "              metrics=['accuracy'])"
      ]
    },
    {
      "cell_type": "code",
      "execution_count": null,
      "metadata": {
        "colab": {
          "base_uri": "https://localhost:8080/"
        },
        "id": "Q9JjX9zJzNzg",
        "outputId": "f6584528-5275-41ba-f0ed-3f81eaeb0dc9"
      },
      "outputs": [
        {
          "name": "stdout",
          "output_type": "stream",
          "text": [
            "Epoch 1/200\n",
            "14/14 [==============================] - 1s 5ms/step - loss: 1.3182 - accuracy: 0.0190\n",
            "Epoch 2/200\n",
            "14/14 [==============================] - 0s 3ms/step - loss: 1.1760 - accuracy: 0.1238\n",
            "Epoch 3/200\n",
            "14/14 [==============================] - 0s 3ms/step - loss: 1.0544 - accuracy: 0.3429\n",
            "Epoch 4/200\n",
            "14/14 [==============================] - 0s 3ms/step - loss: 0.9571 - accuracy: 0.5238\n",
            "Epoch 5/200\n",
            "14/14 [==============================] - 0s 3ms/step - loss: 0.8738 - accuracy: 0.6571\n",
            "Epoch 6/200\n",
            "14/14 [==============================] - 0s 4ms/step - loss: 0.8017 - accuracy: 0.7048\n",
            "Epoch 7/200\n",
            "14/14 [==============================] - 0s 3ms/step - loss: 0.7378 - accuracy: 0.7143\n",
            "Epoch 8/200\n",
            "14/14 [==============================] - 0s 3ms/step - loss: 0.6832 - accuracy: 0.7429\n",
            "Epoch 9/200\n",
            "14/14 [==============================] - 0s 4ms/step - loss: 0.6380 - accuracy: 0.7619\n",
            "Epoch 10/200\n",
            "14/14 [==============================] - 0s 4ms/step - loss: 0.5996 - accuracy: 0.7905\n",
            "Epoch 11/200\n",
            "14/14 [==============================] - 0s 3ms/step - loss: 0.5673 - accuracy: 0.8095\n",
            "Epoch 12/200\n",
            "14/14 [==============================] - 0s 3ms/step - loss: 0.5393 - accuracy: 0.8286\n",
            "Epoch 13/200\n",
            "14/14 [==============================] - 0s 4ms/step - loss: 0.5147 - accuracy: 0.8476\n",
            "Epoch 14/200\n",
            "14/14 [==============================] - 0s 3ms/step - loss: 0.4922 - accuracy: 0.8571\n",
            "Epoch 15/200\n",
            "14/14 [==============================] - 0s 3ms/step - loss: 0.4724 - accuracy: 0.8571\n",
            "Epoch 16/200\n",
            "14/14 [==============================] - 0s 3ms/step - loss: 0.4550 - accuracy: 0.8667\n",
            "Epoch 17/200\n",
            "14/14 [==============================] - 0s 3ms/step - loss: 0.4377 - accuracy: 0.8571\n",
            "Epoch 18/200\n",
            "14/14 [==============================] - 0s 3ms/step - loss: 0.4215 - accuracy: 0.8571\n",
            "Epoch 19/200\n",
            "14/14 [==============================] - 0s 3ms/step - loss: 0.4056 - accuracy: 0.8571\n",
            "Epoch 20/200\n",
            "14/14 [==============================] - 0s 3ms/step - loss: 0.3908 - accuracy: 0.8571\n",
            "Epoch 21/200\n",
            "14/14 [==============================] - 0s 3ms/step - loss: 0.3763 - accuracy: 0.8667\n",
            "Epoch 22/200\n",
            "14/14 [==============================] - 0s 3ms/step - loss: 0.3633 - accuracy: 0.8762\n",
            "Epoch 23/200\n",
            "14/14 [==============================] - 0s 3ms/step - loss: 0.3494 - accuracy: 0.8762\n",
            "Epoch 24/200\n",
            "14/14 [==============================] - 0s 3ms/step - loss: 0.3398 - accuracy: 0.8857\n",
            "Epoch 25/200\n",
            "14/14 [==============================] - 0s 3ms/step - loss: 0.3274 - accuracy: 0.9143\n",
            "Epoch 26/200\n",
            "14/14 [==============================] - 0s 4ms/step - loss: 0.3178 - accuracy: 0.9238\n",
            "Epoch 27/200\n",
            "14/14 [==============================] - 0s 3ms/step - loss: 0.3079 - accuracy: 0.9143\n",
            "Epoch 28/200\n",
            "14/14 [==============================] - 0s 3ms/step - loss: 0.2991 - accuracy: 0.9238\n",
            "Epoch 29/200\n",
            "14/14 [==============================] - 0s 3ms/step - loss: 0.2901 - accuracy: 0.9143\n",
            "Epoch 30/200\n",
            "14/14 [==============================] - 0s 3ms/step - loss: 0.2828 - accuracy: 0.9143\n",
            "Epoch 31/200\n",
            "14/14 [==============================] - 0s 4ms/step - loss: 0.2747 - accuracy: 0.9143\n",
            "Epoch 32/200\n",
            "14/14 [==============================] - 0s 4ms/step - loss: 0.2687 - accuracy: 0.9143\n",
            "Epoch 33/200\n",
            "14/14 [==============================] - 0s 4ms/step - loss: 0.2612 - accuracy: 0.9143\n",
            "Epoch 34/200\n",
            "14/14 [==============================] - 0s 3ms/step - loss: 0.2544 - accuracy: 0.9048\n",
            "Epoch 35/200\n",
            "14/14 [==============================] - 0s 3ms/step - loss: 0.2489 - accuracy: 0.9143\n",
            "Epoch 36/200\n",
            "14/14 [==============================] - 0s 3ms/step - loss: 0.2420 - accuracy: 0.9048\n",
            "Epoch 37/200\n",
            "14/14 [==============================] - 0s 3ms/step - loss: 0.2372 - accuracy: 0.9143\n",
            "Epoch 38/200\n",
            "14/14 [==============================] - 0s 3ms/step - loss: 0.2314 - accuracy: 0.9143\n",
            "Epoch 39/200\n",
            "14/14 [==============================] - 0s 3ms/step - loss: 0.2259 - accuracy: 0.9143\n",
            "Epoch 40/200\n",
            "14/14 [==============================] - 0s 3ms/step - loss: 0.2221 - accuracy: 0.9143\n",
            "Epoch 41/200\n",
            "14/14 [==============================] - 0s 3ms/step - loss: 0.2175 - accuracy: 0.9143\n",
            "Epoch 42/200\n",
            "14/14 [==============================] - 0s 3ms/step - loss: 0.2128 - accuracy: 0.9143\n",
            "Epoch 43/200\n",
            "14/14 [==============================] - 0s 3ms/step - loss: 0.2093 - accuracy: 0.9143\n",
            "Epoch 44/200\n",
            "14/14 [==============================] - 0s 3ms/step - loss: 0.2055 - accuracy: 0.9143\n",
            "Epoch 45/200\n",
            "14/14 [==============================] - 0s 3ms/step - loss: 0.2009 - accuracy: 0.9143\n",
            "Epoch 46/200\n",
            "14/14 [==============================] - 0s 3ms/step - loss: 0.1966 - accuracy: 0.9143\n",
            "Epoch 47/200\n",
            "14/14 [==============================] - 0s 3ms/step - loss: 0.1929 - accuracy: 0.9048\n",
            "Epoch 48/200\n",
            "14/14 [==============================] - 0s 4ms/step - loss: 0.1898 - accuracy: 0.9143\n",
            "Epoch 49/200\n",
            "14/14 [==============================] - 0s 3ms/step - loss: 0.1851 - accuracy: 0.9143\n",
            "Epoch 50/200\n",
            "14/14 [==============================] - 0s 2ms/step - loss: 0.1816 - accuracy: 0.9143\n",
            "Epoch 51/200\n",
            "14/14 [==============================] - 0s 3ms/step - loss: 0.1798 - accuracy: 0.9238\n",
            "Epoch 52/200\n",
            "14/14 [==============================] - 0s 3ms/step - loss: 0.1765 - accuracy: 0.9238\n",
            "Epoch 53/200\n",
            "14/14 [==============================] - 0s 3ms/step - loss: 0.1730 - accuracy: 0.9238\n",
            "Epoch 54/200\n",
            "14/14 [==============================] - 0s 3ms/step - loss: 0.1701 - accuracy: 0.9333\n",
            "Epoch 55/200\n",
            "14/14 [==============================] - 0s 3ms/step - loss: 0.1669 - accuracy: 0.9333\n",
            "Epoch 56/200\n",
            "14/14 [==============================] - 0s 3ms/step - loss: 0.1645 - accuracy: 0.9333\n",
            "Epoch 57/200\n",
            "14/14 [==============================] - 0s 4ms/step - loss: 0.1618 - accuracy: 0.9333\n",
            "Epoch 58/200\n",
            "14/14 [==============================] - 0s 3ms/step - loss: 0.1595 - accuracy: 0.9333\n",
            "Epoch 59/200\n",
            "14/14 [==============================] - 0s 4ms/step - loss: 0.1560 - accuracy: 0.9333\n",
            "Epoch 60/200\n",
            "14/14 [==============================] - 0s 7ms/step - loss: 0.1543 - accuracy: 0.9429\n",
            "Epoch 61/200\n",
            "14/14 [==============================] - 0s 3ms/step - loss: 0.1504 - accuracy: 0.9429\n",
            "Epoch 62/200\n",
            "14/14 [==============================] - 0s 3ms/step - loss: 0.1504 - accuracy: 0.9429\n",
            "Epoch 63/200\n",
            "14/14 [==============================] - 0s 2ms/step - loss: 0.1459 - accuracy: 0.9429\n",
            "Epoch 64/200\n",
            "14/14 [==============================] - 0s 2ms/step - loss: 0.1437 - accuracy: 0.9429\n",
            "Epoch 65/200\n",
            "14/14 [==============================] - 0s 3ms/step - loss: 0.1406 - accuracy: 0.9429\n",
            "Epoch 66/200\n",
            "14/14 [==============================] - 0s 2ms/step - loss: 0.1385 - accuracy: 0.9524\n",
            "Epoch 67/200\n",
            "14/14 [==============================] - 0s 3ms/step - loss: 0.1368 - accuracy: 0.9429\n",
            "Epoch 68/200\n",
            "14/14 [==============================] - 0s 3ms/step - loss: 0.1343 - accuracy: 0.9429\n",
            "Epoch 69/200\n",
            "14/14 [==============================] - 0s 2ms/step - loss: 0.1318 - accuracy: 0.9429\n",
            "Epoch 70/200\n",
            "14/14 [==============================] - 0s 3ms/step - loss: 0.1302 - accuracy: 0.9429\n",
            "Epoch 71/200\n",
            "14/14 [==============================] - 0s 3ms/step - loss: 0.1274 - accuracy: 0.9429\n",
            "Epoch 72/200\n",
            "14/14 [==============================] - 0s 3ms/step - loss: 0.1248 - accuracy: 0.9429\n",
            "Epoch 73/200\n",
            "14/14 [==============================] - 0s 2ms/step - loss: 0.1233 - accuracy: 0.9429\n",
            "Epoch 74/200\n",
            "14/14 [==============================] - 0s 3ms/step - loss: 0.1202 - accuracy: 0.9429\n",
            "Epoch 75/200\n",
            "14/14 [==============================] - 0s 3ms/step - loss: 0.1177 - accuracy: 0.9429\n",
            "Epoch 76/200\n",
            "14/14 [==============================] - 0s 3ms/step - loss: 0.1161 - accuracy: 0.9429\n",
            "Epoch 77/200\n",
            "14/14 [==============================] - 0s 4ms/step - loss: 0.1136 - accuracy: 0.9524\n",
            "Epoch 78/200\n",
            "14/14 [==============================] - 0s 3ms/step - loss: 0.1123 - accuracy: 0.9524\n",
            "Epoch 79/200\n",
            "14/14 [==============================] - 0s 3ms/step - loss: 0.1115 - accuracy: 0.9429\n",
            "Epoch 80/200\n",
            "14/14 [==============================] - 0s 3ms/step - loss: 0.1108 - accuracy: 0.9429\n",
            "Epoch 81/200\n",
            "14/14 [==============================] - 0s 3ms/step - loss: 0.1075 - accuracy: 0.9524\n",
            "Epoch 82/200\n",
            "14/14 [==============================] - 0s 3ms/step - loss: 0.1051 - accuracy: 0.9524\n",
            "Epoch 83/200\n",
            "14/14 [==============================] - 0s 3ms/step - loss: 0.1035 - accuracy: 0.9524\n",
            "Epoch 84/200\n",
            "14/14 [==============================] - 0s 3ms/step - loss: 0.1028 - accuracy: 0.9524\n",
            "Epoch 85/200\n",
            "14/14 [==============================] - 0s 3ms/step - loss: 0.1042 - accuracy: 0.9524\n",
            "Epoch 86/200\n",
            "14/14 [==============================] - 0s 3ms/step - loss: 0.1007 - accuracy: 0.9524\n",
            "Epoch 87/200\n",
            "14/14 [==============================] - 0s 3ms/step - loss: 0.0974 - accuracy: 0.9619\n",
            "Epoch 88/200\n",
            "14/14 [==============================] - 0s 3ms/step - loss: 0.0959 - accuracy: 0.9714\n",
            "Epoch 89/200\n",
            "14/14 [==============================] - 0s 3ms/step - loss: 0.0943 - accuracy: 0.9714\n",
            "Epoch 90/200\n",
            "14/14 [==============================] - 0s 3ms/step - loss: 0.0937 - accuracy: 0.9619\n",
            "Epoch 91/200\n",
            "14/14 [==============================] - 0s 3ms/step - loss: 0.0912 - accuracy: 0.9714\n",
            "Epoch 92/200\n",
            "14/14 [==============================] - 0s 3ms/step - loss: 0.0919 - accuracy: 0.9714\n",
            "Epoch 93/200\n",
            "14/14 [==============================] - 0s 3ms/step - loss: 0.0901 - accuracy: 0.9714\n",
            "Epoch 94/200\n",
            "14/14 [==============================] - 0s 3ms/step - loss: 0.0886 - accuracy: 0.9714\n",
            "Epoch 95/200\n",
            "14/14 [==============================] - 0s 5ms/step - loss: 0.0873 - accuracy: 0.9714\n",
            "Epoch 96/200\n",
            "14/14 [==============================] - 0s 3ms/step - loss: 0.0873 - accuracy: 0.9619\n",
            "Epoch 97/200\n",
            "14/14 [==============================] - 0s 3ms/step - loss: 0.0898 - accuracy: 0.9714\n",
            "Epoch 98/200\n",
            "14/14 [==============================] - 0s 3ms/step - loss: 0.0881 - accuracy: 0.9714\n",
            "Epoch 99/200\n",
            "14/14 [==============================] - 0s 3ms/step - loss: 0.0861 - accuracy: 0.9619\n",
            "Epoch 100/200\n",
            "14/14 [==============================] - 0s 3ms/step - loss: 0.0833 - accuracy: 0.9619\n",
            "Epoch 101/200\n",
            "14/14 [==============================] - 0s 3ms/step - loss: 0.0818 - accuracy: 0.9619\n",
            "Epoch 102/200\n",
            "14/14 [==============================] - 0s 3ms/step - loss: 0.0811 - accuracy: 0.9714\n",
            "Epoch 103/200\n",
            "14/14 [==============================] - 0s 3ms/step - loss: 0.0802 - accuracy: 0.9714\n",
            "Epoch 104/200\n",
            "14/14 [==============================] - 0s 3ms/step - loss: 0.0802 - accuracy: 0.9619\n",
            "Epoch 105/200\n",
            "14/14 [==============================] - 0s 3ms/step - loss: 0.0808 - accuracy: 0.9714\n",
            "Epoch 106/200\n",
            "14/14 [==============================] - 0s 3ms/step - loss: 0.0782 - accuracy: 0.9714\n",
            "Epoch 107/200\n",
            "14/14 [==============================] - 0s 3ms/step - loss: 0.0777 - accuracy: 0.9619\n",
            "Epoch 108/200\n",
            "14/14 [==============================] - 0s 3ms/step - loss: 0.0792 - accuracy: 0.9619\n",
            "Epoch 109/200\n",
            "14/14 [==============================] - 0s 3ms/step - loss: 0.0799 - accuracy: 0.9619\n",
            "Epoch 110/200\n",
            "14/14 [==============================] - 0s 3ms/step - loss: 0.0767 - accuracy: 0.9619\n",
            "Epoch 111/200\n",
            "14/14 [==============================] - 0s 3ms/step - loss: 0.0758 - accuracy: 0.9619\n",
            "Epoch 112/200\n",
            "14/14 [==============================] - 0s 4ms/step - loss: 0.0757 - accuracy: 0.9714\n",
            "Epoch 113/200\n",
            "14/14 [==============================] - 0s 4ms/step - loss: 0.0747 - accuracy: 0.9714\n",
            "Epoch 114/200\n",
            "14/14 [==============================] - 0s 4ms/step - loss: 0.0745 - accuracy: 0.9714\n",
            "Epoch 115/200\n",
            "14/14 [==============================] - 0s 2ms/step - loss: 0.0735 - accuracy: 0.9714\n",
            "Epoch 116/200\n",
            "14/14 [==============================] - 0s 3ms/step - loss: 0.0735 - accuracy: 0.9619\n",
            "Epoch 117/200\n",
            "14/14 [==============================] - 0s 3ms/step - loss: 0.0721 - accuracy: 0.9714\n",
            "Epoch 118/200\n",
            "14/14 [==============================] - 0s 3ms/step - loss: 0.0723 - accuracy: 0.9619\n",
            "Epoch 119/200\n",
            "14/14 [==============================] - 0s 3ms/step - loss: 0.0719 - accuracy: 0.9714\n",
            "Epoch 120/200\n",
            "14/14 [==============================] - 0s 3ms/step - loss: 0.0710 - accuracy: 0.9714\n",
            "Epoch 121/200\n",
            "14/14 [==============================] - 0s 3ms/step - loss: 0.0711 - accuracy: 0.9714\n",
            "Epoch 122/200\n",
            "14/14 [==============================] - 0s 3ms/step - loss: 0.0704 - accuracy: 0.9714\n",
            "Epoch 123/200\n",
            "14/14 [==============================] - 0s 3ms/step - loss: 0.0710 - accuracy: 0.9714\n",
            "Epoch 124/200\n",
            "14/14 [==============================] - 0s 3ms/step - loss: 0.0699 - accuracy: 0.9619\n",
            "Epoch 125/200\n",
            "14/14 [==============================] - 0s 3ms/step - loss: 0.0689 - accuracy: 0.9714\n",
            "Epoch 126/200\n",
            "14/14 [==============================] - 0s 3ms/step - loss: 0.0696 - accuracy: 0.9714\n",
            "Epoch 127/200\n",
            "14/14 [==============================] - 0s 3ms/step - loss: 0.0691 - accuracy: 0.9714\n",
            "Epoch 128/200\n",
            "14/14 [==============================] - 0s 4ms/step - loss: 0.0688 - accuracy: 0.9714\n",
            "Epoch 129/200\n",
            "14/14 [==============================] - 0s 3ms/step - loss: 0.0688 - accuracy: 0.9714\n",
            "Epoch 130/200\n",
            "14/14 [==============================] - 0s 4ms/step - loss: 0.0691 - accuracy: 0.9619\n",
            "Epoch 131/200\n",
            "14/14 [==============================] - 0s 3ms/step - loss: 0.0700 - accuracy: 0.9810\n",
            "Epoch 132/200\n",
            "14/14 [==============================] - 0s 3ms/step - loss: 0.0723 - accuracy: 0.9810\n",
            "Epoch 133/200\n",
            "14/14 [==============================] - 0s 3ms/step - loss: 0.0686 - accuracy: 0.9714\n",
            "Epoch 134/200\n",
            "14/14 [==============================] - 0s 3ms/step - loss: 0.0665 - accuracy: 0.9714\n",
            "Epoch 135/200\n",
            "14/14 [==============================] - 0s 3ms/step - loss: 0.0672 - accuracy: 0.9619\n",
            "Epoch 136/200\n",
            "14/14 [==============================] - 0s 3ms/step - loss: 0.0654 - accuracy: 0.9619\n",
            "Epoch 137/200\n",
            "14/14 [==============================] - 0s 3ms/step - loss: 0.0653 - accuracy: 0.9714\n",
            "Epoch 138/200\n",
            "14/14 [==============================] - 0s 3ms/step - loss: 0.0653 - accuracy: 0.9714\n",
            "Epoch 139/200\n",
            "14/14 [==============================] - 0s 3ms/step - loss: 0.0645 - accuracy: 0.9714\n",
            "Epoch 140/200\n",
            "14/14 [==============================] - 0s 3ms/step - loss: 0.0643 - accuracy: 0.9714\n",
            "Epoch 141/200\n",
            "14/14 [==============================] - 0s 3ms/step - loss: 0.0645 - accuracy: 0.9714\n",
            "Epoch 142/200\n",
            "14/14 [==============================] - 0s 2ms/step - loss: 0.0654 - accuracy: 0.9714\n",
            "Epoch 143/200\n",
            "14/14 [==============================] - 0s 2ms/step - loss: 0.0638 - accuracy: 0.9714\n",
            "Epoch 144/200\n",
            "14/14 [==============================] - 0s 3ms/step - loss: 0.0636 - accuracy: 0.9619\n",
            "Epoch 145/200\n",
            "14/14 [==============================] - 0s 3ms/step - loss: 0.0636 - accuracy: 0.9714\n",
            "Epoch 146/200\n",
            "14/14 [==============================] - 0s 4ms/step - loss: 0.0630 - accuracy: 0.9714\n",
            "Epoch 147/200\n",
            "14/14 [==============================] - 0s 3ms/step - loss: 0.0634 - accuracy: 0.9714\n",
            "Epoch 148/200\n",
            "14/14 [==============================] - 0s 3ms/step - loss: 0.0623 - accuracy: 0.9714\n",
            "Epoch 149/200\n",
            "14/14 [==============================] - 0s 3ms/step - loss: 0.0623 - accuracy: 0.9619\n",
            "Epoch 150/200\n",
            "14/14 [==============================] - 0s 3ms/step - loss: 0.0638 - accuracy: 0.9714\n",
            "Epoch 151/200\n",
            "14/14 [==============================] - 0s 3ms/step - loss: 0.0631 - accuracy: 0.9714\n",
            "Epoch 152/200\n",
            "14/14 [==============================] - 0s 3ms/step - loss: 0.0613 - accuracy: 0.9714\n",
            "Epoch 153/200\n",
            "14/14 [==============================] - 0s 3ms/step - loss: 0.0624 - accuracy: 0.9619\n",
            "Epoch 154/200\n",
            "14/14 [==============================] - 0s 3ms/step - loss: 0.0618 - accuracy: 0.9714\n",
            "Epoch 155/200\n",
            "14/14 [==============================] - 0s 3ms/step - loss: 0.0613 - accuracy: 0.9714\n",
            "Epoch 156/200\n",
            "14/14 [==============================] - 0s 3ms/step - loss: 0.0617 - accuracy: 0.9714\n",
            "Epoch 157/200\n",
            "14/14 [==============================] - 0s 3ms/step - loss: 0.0609 - accuracy: 0.9714\n",
            "Epoch 158/200\n",
            "14/14 [==============================] - 0s 3ms/step - loss: 0.0609 - accuracy: 0.9714\n",
            "Epoch 159/200\n",
            "14/14 [==============================] - 0s 5ms/step - loss: 0.0625 - accuracy: 0.9619\n",
            "Epoch 160/200\n",
            "14/14 [==============================] - 0s 3ms/step - loss: 0.0603 - accuracy: 0.9714\n",
            "Epoch 161/200\n",
            "14/14 [==============================] - 0s 3ms/step - loss: 0.0614 - accuracy: 0.9714\n",
            "Epoch 162/200\n",
            "14/14 [==============================] - 0s 3ms/step - loss: 0.0592 - accuracy: 0.9714\n",
            "Epoch 163/200\n",
            "14/14 [==============================] - 0s 3ms/step - loss: 0.0601 - accuracy: 0.9714\n",
            "Epoch 164/200\n",
            "14/14 [==============================] - 0s 5ms/step - loss: 0.0607 - accuracy: 0.9714\n",
            "Epoch 165/200\n",
            "14/14 [==============================] - 0s 3ms/step - loss: 0.0599 - accuracy: 0.9714\n",
            "Epoch 166/200\n",
            "14/14 [==============================] - 0s 3ms/step - loss: 0.0593 - accuracy: 0.9810\n",
            "Epoch 167/200\n",
            "14/14 [==============================] - 0s 3ms/step - loss: 0.0655 - accuracy: 0.9714\n",
            "Epoch 168/200\n",
            "14/14 [==============================] - 0s 6ms/step - loss: 0.0608 - accuracy: 0.9619\n",
            "Epoch 169/200\n",
            "14/14 [==============================] - 0s 5ms/step - loss: 0.0588 - accuracy: 0.9714\n",
            "Epoch 170/200\n",
            "14/14 [==============================] - 0s 3ms/step - loss: 0.0583 - accuracy: 0.9714\n",
            "Epoch 171/200\n",
            "14/14 [==============================] - 0s 3ms/step - loss: 0.0588 - accuracy: 0.9714\n",
            "Epoch 172/200\n",
            "14/14 [==============================] - 0s 3ms/step - loss: 0.0584 - accuracy: 0.9714\n",
            "Epoch 173/200\n",
            "14/14 [==============================] - 0s 3ms/step - loss: 0.0576 - accuracy: 0.9714\n",
            "Epoch 174/200\n",
            "14/14 [==============================] - 0s 2ms/step - loss: 0.0574 - accuracy: 0.9714\n",
            "Epoch 175/200\n",
            "14/14 [==============================] - 0s 3ms/step - loss: 0.0572 - accuracy: 0.9714\n",
            "Epoch 176/200\n",
            "14/14 [==============================] - 0s 3ms/step - loss: 0.0575 - accuracy: 0.9714\n",
            "Epoch 177/200\n",
            "14/14 [==============================] - 0s 3ms/step - loss: 0.0581 - accuracy: 0.9619\n",
            "Epoch 178/200\n",
            "14/14 [==============================] - 0s 4ms/step - loss: 0.0577 - accuracy: 0.9714\n",
            "Epoch 179/200\n",
            "14/14 [==============================] - 0s 3ms/step - loss: 0.0565 - accuracy: 0.9714\n",
            "Epoch 180/200\n",
            "14/14 [==============================] - 0s 5ms/step - loss: 0.0564 - accuracy: 0.9714\n",
            "Epoch 181/200\n",
            "14/14 [==============================] - 0s 3ms/step - loss: 0.0586 - accuracy: 0.9714\n",
            "Epoch 182/200\n",
            "14/14 [==============================] - 0s 3ms/step - loss: 0.0580 - accuracy: 0.9714\n",
            "Epoch 183/200\n",
            "14/14 [==============================] - 0s 3ms/step - loss: 0.0565 - accuracy: 0.9714\n",
            "Epoch 184/200\n",
            "14/14 [==============================] - 0s 3ms/step - loss: 0.0578 - accuracy: 0.9714\n",
            "Epoch 185/200\n",
            "14/14 [==============================] - 0s 3ms/step - loss: 0.0562 - accuracy: 0.9714\n",
            "Epoch 186/200\n",
            "14/14 [==============================] - 0s 3ms/step - loss: 0.0564 - accuracy: 0.9714\n",
            "Epoch 187/200\n",
            "14/14 [==============================] - 0s 3ms/step - loss: 0.0553 - accuracy: 0.9714\n",
            "Epoch 188/200\n",
            "14/14 [==============================] - 0s 3ms/step - loss: 0.0558 - accuracy: 0.9714\n",
            "Epoch 189/200\n",
            "14/14 [==============================] - 0s 3ms/step - loss: 0.0557 - accuracy: 0.9714\n",
            "Epoch 190/200\n",
            "14/14 [==============================] - 0s 3ms/step - loss: 0.0552 - accuracy: 0.9714\n",
            "Epoch 191/200\n",
            "14/14 [==============================] - 0s 4ms/step - loss: 0.0547 - accuracy: 0.9714\n",
            "Epoch 192/200\n",
            "14/14 [==============================] - 0s 5ms/step - loss: 0.0546 - accuracy: 0.9714\n",
            "Epoch 193/200\n",
            "14/14 [==============================] - 0s 3ms/step - loss: 0.0550 - accuracy: 0.9810\n",
            "Epoch 194/200\n",
            "14/14 [==============================] - 0s 4ms/step - loss: 0.0563 - accuracy: 0.9714\n",
            "Epoch 195/200\n",
            "14/14 [==============================] - 0s 3ms/step - loss: 0.0656 - accuracy: 0.9810\n",
            "Epoch 196/200\n",
            "14/14 [==============================] - 0s 11ms/step - loss: 0.0662 - accuracy: 0.9810\n",
            "Epoch 197/200\n",
            "14/14 [==============================] - 0s 8ms/step - loss: 0.0576 - accuracy: 0.9810\n",
            "Epoch 198/200\n",
            "14/14 [==============================] - 0s 7ms/step - loss: 0.0540 - accuracy: 0.9714\n",
            "Epoch 199/200\n",
            "14/14 [==============================] - 0s 4ms/step - loss: 0.0542 - accuracy: 0.9714\n",
            "Epoch 200/200\n",
            "14/14 [==============================] - 0s 10ms/step - loss: 0.0542 - accuracy: 0.9714\n"
          ]
        },
        {
          "data": {
            "text/plain": [
              "<keras.callbacks.History at 0x7f5a0f7bf950>"
            ]
          },
          "execution_count": 26,
          "metadata": {},
          "output_type": "execute_result"
        }
      ],
      "source": [
        "model.fit(x_train, y_train, epochs=200, batch_size=8)"
      ]
    },
    {
      "cell_type": "code",
      "execution_count": null,
      "metadata": {
        "colab": {
          "base_uri": "https://localhost:8080/"
        },
        "id": "eevDZzfGzNwY",
        "outputId": "2631e985-6345-4be4-d828-7273a680bd79"
      },
      "outputs": [
        {
          "name": "stdout",
          "output_type": "stream",
          "text": [
            "(45, 3) (45, 3)\n",
            "[1. 0. 0.] [9.9995053e-01 3.0237399e-05 1.9192328e-05]\n",
            "(45,) (45,)\n",
            "0 0\n"
          ]
        }
      ],
      "source": [
        "y_pred=model.predict(x_test)\n",
        "print(y_test.shape, y_pred.shape)\n",
        "print(y_test[0], y_pred[0])\n",
        "\n",
        "y_pred=np.argmax(y_pred, axis=1)\n",
        "y_test=np.argmax(y_test, axis=1)\n",
        "print(y_test.shape, y_pred.shape)\n",
        "print(y_test[0], y_pred[0])"
      ]
    },
    {
      "cell_type": "code",
      "execution_count": null,
      "metadata": {
        "colab": {
          "base_uri": "https://localhost:8080/",
          "height": 297
        },
        "id": "YZ_HqBCozNrZ",
        "outputId": "b4f9204b-1e8a-4024-89f7-9e889c5e88c9"
      },
      "outputs": [
        {
          "data": {
            "text/plain": [
              "<sklearn.metrics._plot.confusion_matrix.ConfusionMatrixDisplay at 0x7f5a0f844050>"
            ]
          },
          "execution_count": 29,
          "metadata": {},
          "output_type": "execute_result"
        },
        {
          "data": {
            "image/png": "[encoded data removed]",
            "text/plain": [
              "<Figure size 432x288 with 2 Axes>"
            ]
          },
          "metadata": {},
          "output_type": "display_data"
        }
      ],
      "source": [
        "from sklearn.metrics import confusion_matrix, ConfusionMatrixDisplay\n",
        "cm=confusion_matrix(y_test, y_pred)\n",
        "ConfusionMatrixDisplay(cm).plot(cmap='Blues')"
      ]
    },
    {
      "cell_type": "code",
      "execution_count": null,
      "metadata": {
        "colab": {
          "base_uri": "https://localhost:8080/"
        },
        "id": "wEf9RYLyzNoY",
        "outputId": "ee9b0c0d-3788-40cd-c39d-ced7c1980286"
      },
      "outputs": [
        {
          "name": "stdout",
          "output_type": "stream",
          "text": [
            "Downloading data from https://storage.googleapis.com/tensorflow/tf-keras-datasets/mnist.npz\n",
            "11493376/11490434 [==============================] - 0s 0us/step\n",
            "11501568/11490434 [==============================] - 0s 0us/step\n",
            "(60000, 28, 28) (60000,) (10000, 28, 28) (10000,)\n"
          ]
        }
      ],
      "source": [
        "mnist=tf.keras.datasets.mnist\n",
        "(x_train, y_train),(x_test, y_test)=mnist.load_data()\n",
        "x_train=x_train/255.\n",
        "x_test=x_test/255.\n",
        "print(x_train.shape, y_train.shape, x_test.shape, y_test.shape)"
      ]
    },
    {
      "cell_type": "code",
      "execution_count": null,
      "metadata": {
        "colab": {
          "base_uri": "https://localhost:8080/",
          "height": 262
        },
        "id": "zQ2hfWt7zNk4",
        "outputId": "93dcef0b-eac6-4908-cb03-4f7aa101101b"
      },
      "outputs": [
        {
          "data": {
            "image/png": "[encoded data removed]",
            "text/plain": [
              "<Figure size 432x288 with 15 Axes>"
            ]
          },
          "metadata": {},
          "output_type": "display_data"
        }
      ],
      "source": [
        "for i in range(15):\n",
        "  plt.subplot(3,5,i+1)\n",
        "  plt.imshow(x_train[i], cmap='gray')"
      ]
    },
    {
      "cell_type": "code",
      "execution_count": null,
      "metadata": {
        "id": "Oo_xYgNHzNhn"
      },
      "outputs": [],
      "source": [
        "from tensorflow.keras import models, layers, utils\n",
        "\n",
        "def build_mnistmodel():\n",
        "  x=layers.Input(shape=(28,28))\n",
        "  y=layers.Flatten()(x)\n",
        "  y=layers.Dense(784, activation='relu')(y)\n",
        "  y=layers.Dense(1000, activation='relu')(y)\n",
        "  y=layers.Dense(500, activation='relu')(y)\n",
        "  y=layers.Dense(10, activation='softmax', name='OutputLayer')(y)\n",
        "  model=models.Model(x, y)\n",
        "  return model"
      ]
    },
    {
      "cell_type": "code",
      "execution_count": null,
      "metadata": {
        "colab": {
          "base_uri": "https://localhost:8080/",
          "height": 1000
        },
        "id": "c8iHPJDYzNcQ",
        "outputId": "64f30e7e-a361-4470-f4bd-27833c1cd82e"
      },
      "outputs": [
        {
          "name": "stdout",
          "output_type": "stream",
          "text": [
            "Model: \"model\"\n",
            "_________________________________________________________________\n",
            " Layer (type)                Output Shape              Param #   \n",
            "=================================================================\n",
            " input_1 (InputLayer)        [(None, 28, 28)]          0         \n",
            "                                                                 \n",
            " flatten (Flatten)           (None, 784)               0         \n",
            "                                                                 \n",
            " dense (Dense)               (None, 784)               615440    \n",
            "                                                                 \n",
            " dense_1 (Dense)             (None, 1000)              785000    \n",
            "                                                                 \n",
            " dense_2 (Dense)             (None, 500)               500500    \n",
            "                                                                 \n",
            " OutputLayer (Dense)         (None, 10)                5010      \n",
            "                                                                 \n",
            "=================================================================\n",
            "Total params: 1,905,950\n",
            "Trainable params: 1,905,950\n",
            "Non-trainable params: 0\n",
            "_________________________________________________________________\n"
          ]
        },
        {
          "data": {
            "image/png": "[encoded data removed]",
            "text/plain": [
              "<IPython.core.display.Image object>"
            ]
          },
          "execution_count": 10,
          "metadata": {},
          "output_type": "execute_result"
        }
      ],
      "source": [
        "model=build_mnistmodel()\n",
        "model.summary()\n",
        "utils.plot_model(model, show_shapes=True)"
      ]
    },
    {
      "cell_type": "code",
      "execution_count": null,
      "metadata": {
        "id": "kzCwEch8zNZg"
      },
      "outputs": [],
      "source": [
        "from sklearn import metrics\n",
        "model.compile(loss='sparse_categorical_crossentropy',\n",
        "              optimizer='adam',\n",
        "              metrics=['accuracy'])"
      ]
    },
    {
      "cell_type": "code",
      "execution_count": null,
      "metadata": {
        "colab": {
          "background_save": true,
          "base_uri": "https://localhost:8080/"
        },
        "id": "v0iUMga8CEoh",
        "outputId": "97b69863-7299-41ff-9de8-88e9c3700889"
      },
      "outputs": [
        {
          "name": "stdout",
          "output_type": "stream",
          "text": [
            "Epoch 1/10\n",
            "6000/6000 [==============================] - 119s 20ms/step - loss: 0.1164 - accuracy: 0.9670\n",
            "Epoch 2/10\n",
            "6000/6000 [==============================] - 115s 19ms/step - loss: 0.0918 - accuracy: 0.9750\n",
            "Epoch 3/10\n",
            "6000/6000 [==============================] - 115s 19ms/step - loss: 0.0778 - accuracy: 0.9790\n",
            "Epoch 4/10\n",
            "6000/6000 [==============================] - 112s 19ms/step - loss: 0.0637 - accuracy: 0.9827\n",
            "Epoch 5/10\n",
            "6000/6000 [==============================] - 111s 18ms/step - loss: 0.0607 - accuracy: 0.9843\n",
            "Epoch 6/10\n",
            "6000/6000 [==============================] - 110s 18ms/step - loss: 0.0521 - accuracy: 0.9863\n",
            "Epoch 7/10\n",
            "6000/6000 [==============================] - 113s 19ms/step - loss: 0.0475 - accuracy: 0.9876\n",
            "Epoch 8/10\n",
            "6000/6000 [==============================] - 112s 19ms/step - loss: 0.0448 - accuracy: 0.9893\n",
            "Epoch 9/10\n",
            "6000/6000 [==============================] - 112s 19ms/step - loss: 0.0423 - accuracy: 0.9893\n",
            "Epoch 10/10\n",
            "6000/6000 [==============================] - 112s 19ms/step - loss: 0.0400 - accuracy: 0.9904\n"
          ]
        },
        {
          "data": {
            "text/plain": [
              "<keras.callbacks.History at 0x7f5a07783f10>"
            ]
          },
          "execution_count": null,
          "metadata": {},
          "output_type": "execute_result"
        }
      ],
      "source": [
        "model.fit(x_train, y_train, epochs=5, batch_size=10)"
      ]
    },
    {
      "cell_type": "code",
      "execution_count": null,
      "metadata": {
        "colab": {
          "base_uri": "https://localhost:8080/"
        },
        "id": "e4fCFIHfGGkg",
        "outputId": "40e1099f-9120-466d-fbaa-27ec72d5186e"
      },
      "outputs": [
        {
          "name": "stdout",
          "output_type": "stream",
          "text": [
            "313/313 [==============================] - 1s 3ms/step - loss: 0.1232 - accuracy: 0.9705\n"
          ]
        },
        {
          "data": {
            "text/plain": [
              "[0.12315034121274948, 0.9704999923706055]"
            ]
          },
          "execution_count": 13,
          "metadata": {},
          "output_type": "execute_result"
        }
      ],
      "source": [
        "model.evaluate(x_test, y_test)"
      ]
    },
    {
      "cell_type": "code",
      "source": [
        "y_pred=model.predict(x_test)\n",
        "print(y_pred[0], y_pred.shape)\n",
        "y_pred=np.argmax(y_pred, axis=1)\n",
        "print(y_pred[0], y_pred.shape)\n",
        "print(y_test[0], y_test.shape)"
      ],
      "metadata": {
        "colab": {
          "base_uri": "https://localhost:8080/"
        },
        "id": "Z5roYcovLEF4",
        "outputId": "1b7c8e0b-d315-4138-a119-96b16c74d7b4"
      },
      "execution_count": null,
      "outputs": [
        {
          "output_type": "stream",
          "name": "stdout",
          "text": [
            "[0.0000000e+00 2.0863268e-30 6.6229649e-26 5.6538570e-30 4.6568108e-21\n",
            " 0.0000000e+00 0.0000000e+00 1.0000000e+00 2.8411691e-31 1.4730441e-26] (10000, 10)\n",
            "7 (10000,)\n",
            "7 (10000,)\n"
          ]
        }
      ]
    },
    {
      "cell_type": "code",
      "execution_count": null,
      "metadata": {
        "id": "jkmx2x5fGMzp",
        "colab": {
          "base_uri": "https://localhost:8080/",
          "height": 297
        },
        "outputId": "09fe1a48-af54-4958-8075-5b823787d313"
      },
      "outputs": [
        {
          "output_type": "execute_result",
          "data": {
            "text/plain": [
              "<sklearn.metrics._plot.confusion_matrix.ConfusionMatrixDisplay at 0x7f98c0379850>"
            ]
          },
          "metadata": {},
          "execution_count": 20
        },
        {
          "output_type": "display_data",
          "data": {
            "text/plain": [
              "<Figure size 432x288 with 2 Axes>"
            ],
            "image/png": "[encoded data removed]"
          },
          "metadata": {
            "needs_background": "light"
          }
        }
      ],
      "source": [
        "from sklearn.metrics import confusion_matrix, ConfusionMatrixDisplay\n",
        "cm=confusion_matrix(y_test, y_pred)\n",
        "ConfusionMatrixDisplay(cm).plot(cmap='Blues')"
      ]
    },
    {
      "cell_type": "code",
      "source": [],
      "metadata": {
        "id": "vO2i2IHUJd5A"
      },
      "execution_count": null,
      "outputs": []
    }
  ],
  "metadata": {
    "accelerator": "GPU",
    "colab": {
      "provenance": [],
      "authorship_tag": "ABX9TyOGWho4fzN+wW+sLlukyo8G",
      "include_colab_link": true
    },
    "gpuClass": "standard",
    "kernelspec": {
      "display_name": "Python 3",
      "name": "python3"
    },
    "language_info": {
      "name": "python"
    }
  },
  "nbformat": 4,
  "nbformat_minor": 0
}