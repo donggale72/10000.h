{
 "cells": [
  {
   "cell_type": "code",
   "execution_count": 1,
   "id": "4911d6e9",
   "metadata": {},
   "outputs": [
    {
     "name": "stdout",
     "output_type": "stream",
     "text": [
      "Requirement already satisfied: matplotlib in c:\\users\\hkit\\anaconda3\\lib\\site-packages (3.7.0)\n",
      "Requirement already satisfied: pillow>=6.2.0 in c:\\users\\hkit\\anaconda3\\lib\\site-packages (from matplotlib) (9.4.0)\n",
      "Requirement already satisfied: contourpy>=1.0.1 in c:\\users\\hkit\\anaconda3\\lib\\site-packages (from matplotlib) (1.0.5)\n",
      "Requirement already satisfied: fonttools>=4.22.0 in c:\\users\\hkit\\anaconda3\\lib\\site-packages (from matplotlib) (4.25.0)\n",
      "Requirement already satisfied: packaging>=20.0 in c:\\users\\hkit\\anaconda3\\lib\\site-packages (from matplotlib) (22.0)\n",
      "Requirement already satisfied: python-dateutil>=2.7 in c:\\users\\hkit\\anaconda3\\lib\\site-packages (from matplotlib) (2.8.2)\n",
      "Requirement already satisfied: kiwisolver>=1.0.1 in c:\\users\\hkit\\anaconda3\\lib\\site-packages (from matplotlib) (1.4.4)\n",
      "Requirement already satisfied: pyparsing>=2.3.1 in c:\\users\\hkit\\anaconda3\\lib\\site-packages (from matplotlib) (3.0.9)\n",
      "Requirement already satisfied: cycler>=0.10 in c:\\users\\hkit\\anaconda3\\lib\\site-packages (from matplotlib) (0.11.0)\n",
      "Requirement already satisfied: numpy>=1.20 in c:\\users\\hkit\\anaconda3\\lib\\site-packages (from matplotlib) (1.23.5)\n",
      "Requirement already satisfied: six>=1.5 in c:\\users\\hkit\\anaconda3\\lib\\site-packages (from python-dateutil>=2.7->matplotlib) (1.16.0)\n"
     ]
    }
   ],
   "source": [
    "!pip install matplotlib"
   ]
  },
  {
   "cell_type": "code",
   "execution_count": 15,
   "id": "bbc74521",
   "metadata": {},
   "outputs": [
    {
     "data": {
      "image/png": "[encoded data removed]",
      "text/plain": [
       "<Figure size 640x480 with 1 Axes>"
      ]
     },
     "metadata": {},
     "output_type": "display_data"
    }
   ],
   "source": [
    "import numpy as np\n",
    "import matplotlib.pyplot as plt\n",
    "\n",
    "# 좌표 (4,3) 지정\n",
    "a = np.array([4,3])\n",
    "\n",
    "fig = plt.figure()\n",
    "ax = fig.add_subplot(1,1,1)\n",
    "\n",
    "ax.scatter(a[0],a[1],s=30)\n",
    "# 점 옆에 문자 a를 표시합니다. size는 문자열의 크기입니다. \n",
    "ax.text(a[0]+0.2, a[1]+0.2, 'a', size=15)\n",
    "\n",
    "\n",
    "\n",
    "# x축, y축 눈금 범위를 -5 ~ 5로 지정합니다. \n",
    "ax.set_xticks(range(-1, 7))\n",
    "ax.set_yticks(range(-1, 6))\n",
    "\n",
    "# 그리드를 좌표축 아래에 표시합니다. \n",
    "ax.grid()\n",
    "ax.set_axisbelow(True)\n",
    "\n",
    "# x축과 y측 눈금의 비율을 1:1로 합니다. \n",
    "# 창의 크기를 변경해도 비율이 유지됩니다. \n",
    "ax.set_aspect('equal', adjustable='box')\n",
    "\n",
    "\n",
    "# 다음 코드를 사용하여 원점에 좌표축이 보이게 합니다.\n",
    "# 왼쪽 y축과 아래 x축을 (0,0)으로 이동합니다. \n",
    "ax.spines['left'].set_position('zero')\n",
    "ax.spines['bottom'].set_position('zero')\n",
    "\n",
    "# 위쪽과 오른쪽 축을 제거합니다.\n",
    "ax.spines['right'].set_color('none')\n",
    "ax.spines['top'].set_color('none')\n",
    "\n",
    "\n",
    "# 화면에 그래프가 그려진 창을 보여줍니다. \n",
    "plt.show()"
   ]
  },
  {
   "cell_type": "code",
   "execution_count": 19,
   "id": "4e28ef94",
   "metadata": {},
   "outputs": [
    {
     "data": {
      "image/png": "[encoded data removed]",
      "text/plain": [
       "<Figure size 640x480 with 1 Axes>"
      ]
     },
     "metadata": {},
     "output_type": "display_data"
    }
   ],
   "source": [
    "import numpy as np\n",
    "import matplotlib.pyplot as plt\n",
    "\n",
    "# 좌표 (4,3) 지정\n",
    "a = np.array([4,3])\n",
    "\n",
    "fig = plt.figure()\n",
    "ax = fig.add_subplot(1,1,1)\n",
    "\n",
    "######################################\n",
    "# 벡터로 표현 : quiver\n",
    "\n",
    "ax.quiver(0,0, a[0],a[1],angles='xy', scale_units='xy', scale=1)\n",
    "ax.text(a[0]+0.1, a[1]+0.1, 'a', size=15)\n",
    "\n",
    "##########################################\n",
    "\n",
    "\n",
    "# x축, y축 눈금 범위를 -5 ~ 5로 지정합니다. \n",
    "ax.set_xticks(range(-0, 7))\n",
    "ax.set_yticks(range(-0, 6))\n",
    "\n",
    "# 그리드를 좌표축 아래에 표시합니다. \n",
    "ax.grid()\n",
    "ax.set_axisbelow(True)\n",
    "\n",
    "# x축과 y측 눈금의 비율을 1:1로 합니다. \n",
    "# 창의 크기를 변경해도 비율이 유지됩니다. \n",
    "ax.set_aspect('equal', adjustable='box')\n",
    "\n",
    "\n",
    "# 다음 코드를 사용하여 원점에 좌표축이 보이게 합니다.\n",
    "# 왼쪽 y축과 아래 x축을 (0,0)으로 이동합니다. \n",
    "ax.spines['left'].set_position('zero')\n",
    "ax.spines['bottom'].set_position('zero')\n",
    "\n",
    "# 위쪽과 오른쪽 축을 제거합니다.\n",
    "ax.spines['right'].set_color('none')\n",
    "ax.spines['top'].set_color('none')\n",
    "\n",
    "\n",
    "# 화면에 그래프가 그려진 창을 보여줍니다. \n",
    "plt.show()"
   ]
  },
  {
   "cell_type": "code",
   "execution_count": 26,
   "id": "341149b8",
   "metadata": {
    "scrolled": true
   },
   "outputs": [
    {
     "data": {
      "image/png": "[encoded data removed]",
      "text/plain": [
       "<Figure size 640x480 with 2 Axes>"
      ]
     },
     "metadata": {},
     "output_type": "display_data"
    }
   ],
   "source": [
    "import numpy as np\n",
    "import matplotlib.pyplot as plt\n",
    "\n",
    "\n",
    "a = np.array([4,3])\n",
    "b = np.array([1,-2])\n",
    "\n",
    "f, ax = plt.subplots(1,2)\n",
    "\n",
    "######################################\n",
    "# 벡터로 표현 : quiver\n",
    "\n",
    "ax[0].title.set_text('a')\n",
    "ax[1].title.set_text('b')\n",
    "\n",
    "ax[0].quiver(0,0, a[0],a[1],angles='xy', scale_units='xy', scale=1)\n",
    "ax[1].quiver(0,0, b[0],b[1],angles='xy', scale_units='xy', scale=1)\n",
    "\n",
    "##########################################\n",
    "\n",
    "start_x = -1; end_x = 5 \n",
    "start_y = -3; end_y = 4\n",
    "\n",
    "for i in range(2):\n",
    "    ax[i].axis([start_x,end_x,start_y,end_y])\n",
    "    ax[i].set_xticks(range(start_x, end_x))\n",
    "    ax[i].set_yticks(range(start_y, end_y))\n",
    "    ax[i].grid(True)\n",
    "    ax[i].set_axisbelow(True)\n",
    "    ax[i].set_aspect('equal', adjustable='box')\n",
    "#     ax[i].spines['left'].set_position('zero')\n",
    "#     ax[i].spines['bottom'].set_position('zero')\n",
    "#     ax[i].spines['right'].set_color('none')\n",
    "#     ax[i].spines['top'].set_color('none')\n",
    "\n",
    "plt.show()"
   ]
  },
  {
   "cell_type": "markdown",
   "id": "c357178f",
   "metadata": {},
   "source": [
    "## 벡터\n",
    "- 벡터 : 크기와 방향으로 양을 나타내는 방법\n",
    "- 스칼라 : 크기만으로 양을 나타내는 방법"
   ]
  },
  {
   "cell_type": "markdown",
   "id": "73f25c2e",
   "metadata": {},
   "source": [
    "### 벡터의 덧셈"
   ]
  },
  {
   "cell_type": "code",
   "execution_count": 27,
   "id": "9bc0b26b",
   "metadata": {},
   "outputs": [],
   "source": [
    "import numpy as np\n",
    "a = np.array([4,1])\n",
    "b = np.array([-2,3])"
   ]
  },
  {
   "cell_type": "code",
   "execution_count": 31,
   "id": "ffef3f94",
   "metadata": {},
   "outputs": [
    {
     "name": "stdout",
     "output_type": "stream",
     "text": [
      "[2 4]\n",
      "[2 4]\n"
     ]
    }
   ],
   "source": [
    "print(a+b)\n",
    "print(np.add(a,b))"
   ]
  },
  {
   "cell_type": "code",
   "execution_count": 33,
   "id": "a54cf486",
   "metadata": {},
   "outputs": [
    {
     "data": {
      "image/png": "[encoded data removed]",
      "text/plain": [
       "<Figure size 640x480 with 1 Axes>"
      ]
     },
     "metadata": {},
     "output_type": "display_data"
    }
   ],
   "source": [
    "import numpy as np\n",
    "import matplotlib.pyplot as plt\n",
    "\n",
    "\n",
    "a = np.array([4, 1])\n",
    "b = np.array([-2, 3])\n",
    "sum = a + b\n",
    "\n",
    "\n",
    "fig = plt.figure() \n",
    "ax = fig.add_subplot(1, 1, 1)\n",
    "\n",
    "\n",
    "# 벡터 a를 원점에서 시작하도록 그립니다.\n",
    "ax.quiver(0, 0, a[0], a[1], angles='xy', scale_units='xy', scale=1)\n",
    "ax.text(a[0], a[1], \"a\", size=15)\n",
    "\n",
    "# 벡터 b를 벡터 a의 끝점에서 시작하도록 그립니다.\n",
    "ax.quiver(a[0], a[1], b[0], b[1], angles='xy', scale_units='xy', scale=1)\n",
    "ax.text(a[0]+b[0], a[1]+b[1], \"b\", size=15)\n",
    "\n",
    "# 벡터의 합을 그리면 벡터 a의 시작점과 벡터 b의 끝점을 잇는 벡터가 그려집니다.\n",
    "ax.quiver(0, 0, sum[0], sum[1], angles='xy', scale_units='xy', scale=1, color='blue')\n",
    "ax.text(sum[0]*0.5+0.3, sum[1]*0.5, \"a+b\", size=15, color='blue')\n",
    "\n",
    "\n",
    "ax.set_xticks(range(0, 7))\n",
    "ax.set_yticks(range(0, 7))\n",
    "ax.grid()\n",
    "ax.set_axisbelow(True)\n",
    "ax.set_aspect('equal', adjustable='box')\n",
    "\n",
    "\n",
    "ax.spines['left'].set_position('zero')\n",
    "ax.spines['bottom'].set_position('zero')\n",
    "ax.spines['right'].set_color('none')\n",
    "ax.spines['top'].set_color('none')\n",
    "\n",
    "\n",
    "plt.show()"
   ]
  },
  {
   "cell_type": "markdown",
   "id": "d7e535d4",
   "metadata": {},
   "source": [
    "### 벡터의 뺄셈"
   ]
  },
  {
   "cell_type": "code",
   "execution_count": 34,
   "id": "644c432a",
   "metadata": {},
   "outputs": [],
   "source": [
    "import numpy as np\n",
    "import matplotlib.pyplot as plt\n",
    "\n",
    "\n",
    "a = np.array([4, 1])\n",
    "b = np.array([-2, 3])"
   ]
  },
  {
   "cell_type": "code",
   "execution_count": 35,
   "id": "89059a0c",
   "metadata": {},
   "outputs": [
    {
     "name": "stdout",
     "output_type": "stream",
     "text": [
      "[ 6 -2]\n",
      "[ 6 -2]\n"
     ]
    }
   ],
   "source": [
    "print(a-b)\n",
    "print(np.subtract(a,b))"
   ]
  },
  {
   "cell_type": "code",
   "execution_count": 40,
   "id": "5d76be63",
   "metadata": {},
   "outputs": [
    {
     "data": {
      "image/png": "[encoded data removed]",
      "text/plain": [
       "<Figure size 640x480 with 1 Axes>"
      ]
     },
     "metadata": {},
     "output_type": "display_data"
    }
   ],
   "source": [
    "import numpy as np\n",
    "import matplotlib.pyplot as plt\n",
    "\n",
    "\n",
    "a = np.array([4, 1])\n",
    "b = np.array([-2, 3])\n",
    "sum = a - b\n",
    "\n",
    "\n",
    "fig = plt.figure() \n",
    "ax = fig.add_subplot(1, 1, 1)\n",
    "\n",
    "\n",
    "# 벡터 a를 원점에서 시작하도록 그립니다.\n",
    "ax.quiver(0, 0, a[0], a[1], angles='xy', scale_units='xy', scale=1)\n",
    "ax.text(a[0], a[1], \"a\", size=15)\n",
    "\n",
    "# 벡터 b를 벡터 a의 끝점에서 시작하도록 그립니다.\n",
    "ax.quiver(a[0], a[1], -b[0], -b[1], angles='xy', scale_units='xy', scale=1)\n",
    "ax.text(a[0]-b[0], a[1]-b[1], \"b\", size=15)\n",
    "\n",
    "# 벡터의 합을 그리면 벡터 a의 시작점과 벡터 b의 끝점을 잇는 벡터가 그려집니다.\n",
    "ax.quiver(0, 0, sum[0], sum[1], angles='xy', scale_units='xy', scale=1, color='blue')\n",
    "ax.text(sum[0]*0.5+0.3, sum[1]*0.5, \"a+b\", size=15, color='blue')\n",
    "\n",
    "\n",
    "ax.set_xticks(range(-1, 8))\n",
    "ax.set_yticks(range(-4, 4))\n",
    "ax.grid()\n",
    "ax.set_axisbelow(True)\n",
    "ax.set_aspect('equal', adjustable='box')\n",
    "\n",
    "\n",
    "ax.spines['left'].set_position('zero')\n",
    "ax.spines['bottom'].set_position('zero')\n",
    "ax.spines['right'].set_color('none')\n",
    "ax.spines['top'].set_color('none')\n",
    "\n",
    "\n",
    "plt.show()"
   ]
  },
  {
   "cell_type": "markdown",
   "id": "1b6eb762",
   "metadata": {},
   "source": [
    "###  벡터의 곱"
   ]
  },
  {
   "cell_type": "code",
   "execution_count": 41,
   "id": "8697138b",
   "metadata": {},
   "outputs": [],
   "source": [
    "import numpy as np\n",
    "\n",
    "a = np.array([4,1])\n",
    "c = 3"
   ]
  },
  {
   "cell_type": "code",
   "execution_count": 42,
   "id": "c9b50c72",
   "metadata": {},
   "outputs": [
    {
     "name": "stdout",
     "output_type": "stream",
     "text": [
      "[12  3]\n",
      "[12  3]\n"
     ]
    }
   ],
   "source": [
    "print(a*c)\n",
    "print(np.multiply(a,c))"
   ]
  },
  {
   "cell_type": "code",
   "execution_count": 43,
   "id": "f9a18dc6",
   "metadata": {},
   "outputs": [
    {
     "data": {
      "image/png": "[encoded data removed]",
      "text/plain": [
       "<Figure size 640x480 with 1 Axes>"
      ]
     },
     "metadata": {},
     "output_type": "display_data"
    }
   ],
   "source": [
    "import numpy as np\n",
    "import matplotlib.pyplot as plt\n",
    "\n",
    "\n",
    "a = np.array([4, 1])\n",
    "c = 3\n",
    "ca = np.multiply(c, a)\n",
    "\n",
    "\n",
    "fig = plt.figure() \n",
    "ax = fig.add_subplot(1, 1, 1)\n",
    "\n",
    "\n",
    "# 벡터 a를 그립니다.\n",
    "plt.quiver(0, 0, a[0], a[1], angles='xy', scale_units='xy', scale=1)\n",
    "plt.text(a[0], a[1], 'a', size=15)\n",
    "\n",
    "# 벡터 a에 3을 곱한 결과를 그립니다. 시작점을 (0,1)로 이동하여 그렸습니다. \n",
    "plt.quiver(0, 1, ca[0], ca[1], angles='xy', scale_units='xy', scale=1, color='blue')\n",
    "plt.text(ca[0], ca[1]+1, '3a', size=15, color='blue')\n",
    "\n",
    "\n",
    "ax.set_xticks(range(-2, 15))\n",
    "ax.set_yticks(range(-3, 9))\n",
    "ax.grid()\n",
    "ax.set_axisbelow(True)\n",
    "ax.set_aspect('equal', adjustable='box')\n",
    "\n",
    "\n",
    "ax.spines['left'].set_position('zero')\n",
    "ax.spines['bottom'].set_position('zero')\n",
    "ax.spines['right'].set_color('none')\n",
    "ax.spines['top'].set_color('none')\n",
    "\n",
    "\n",
    "plt.show()"
   ]
  },
  {
   "cell_type": "markdown",
   "id": "2e0248a6",
   "metadata": {},
   "source": [
    "### 내적"
   ]
  },
  {
   "cell_type": "code",
   "execution_count": 44,
   "id": "aed4c19f",
   "metadata": {},
   "outputs": [
    {
     "data": {
      "text/plain": [
       "8"
      ]
     },
     "execution_count": 44,
     "metadata": {},
     "output_type": "execute_result"
    }
   ],
   "source": [
    "import numpy as np\n",
    "\n",
    "a = np.array([1,2])\n",
    "b = np.array([2,3])\n",
    "np.dot(a,b)"
   ]
  },
  {
   "cell_type": "code",
   "execution_count": null,
   "id": "cc200234",
   "metadata": {},
   "outputs": [],
   "source": []
  },
  {
   "cell_type": "code",
   "execution_count": null,
   "id": "10615428",
   "metadata": {},
   "outputs": [],
   "source": []
  },
  {
   "cell_type": "code",
   "execution_count": null,
   "id": "69bbdd3f",
   "metadata": {},
   "outputs": [],
   "source": []
  },
  {
   "cell_type": "code",
   "execution_count": null,
   "id": "3994a6cd",
   "metadata": {},
   "outputs": [],
   "source": []
  },
  {
   "cell_type": "code",
   "execution_count": null,
   "id": "73507da7",
   "metadata": {},
   "outputs": [],
   "source": []
  },
  {
   "cell_type": "code",
   "execution_count": null,
   "id": "68cab8e1",
   "metadata": {},
   "outputs": [],
   "source": []
  },
  {
   "cell_type": "code",
   "execution_count": null,
   "id": "28799a8c",
   "metadata": {},
   "outputs": [],
   "source": []
  }
 ],
 "metadata": {
  "kernelspec": {
   "display_name": "Python 3 (ipykernel)",
   "language": "python",
   "name": "python3"
  },
  "language_info": {
   "codemirror_mode": {
    "name": "ipython",
    "version": 3
   },
   "file_extension": ".py",
   "mimetype": "text/x-python",
   "name": "python",
   "nbconvert_exporter": "python",
   "pygments_lexer": "ipython3",
   "version": "3.10.9"
  }
 },
 "nbformat": 4,
 "nbformat_minor": 5
}
