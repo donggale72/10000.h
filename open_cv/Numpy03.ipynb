{
 "cells": [
  {
   "cell_type": "code",
   "execution_count": 1,
   "id": "2bd9eaca",
   "metadata": {},
   "outputs": [],
   "source": [
    "import numpy as np"
   ]
  },
  {
   "cell_type": "markdown",
   "id": "21d55626",
   "metadata": {},
   "source": [
    "### 깊은복사, 얕은복사, 대입"
   ]
  },
  {
   "cell_type": "markdown",
   "id": "0a877dc8",
   "metadata": {},
   "source": [
    "#### 대입\n",
    "- A와 B는 하나의 넘파이 배열을 가리킴"
   ]
  },
  {
   "cell_type": "code",
   "execution_count": 3,
   "id": "fe5a1778",
   "metadata": {},
   "outputs": [
    {
     "data": {
      "text/plain": [
       "array([ 0,  1,  2,  3,  4,  5,  6,  7,  8,  9, 10, 11])"
      ]
     },
     "execution_count": 3,
     "metadata": {},
     "output_type": "execute_result"
    }
   ],
   "source": [
    "A = np.arange(12)\n",
    "A"
   ]
  },
  {
   "cell_type": "code",
   "execution_count": 4,
   "id": "ef41385d",
   "metadata": {},
   "outputs": [],
   "source": [
    "B = A"
   ]
  },
  {
   "cell_type": "code",
   "execution_count": 5,
   "id": "7be0076b",
   "metadata": {},
   "outputs": [
    {
     "data": {
      "text/plain": [
       "array([ True,  True,  True,  True,  True,  True,  True,  True,  True,\n",
       "        True,  True,  True])"
      ]
     },
     "execution_count": 5,
     "metadata": {},
     "output_type": "execute_result"
    }
   ],
   "source": [
    "A == B"
   ]
  },
  {
   "cell_type": "code",
   "execution_count": 6,
   "id": "bc6eb673",
   "metadata": {},
   "outputs": [
    {
     "data": {
      "text/plain": [
       "True"
      ]
     },
     "execution_count": 6,
     "metadata": {},
     "output_type": "execute_result"
    }
   ],
   "source": [
    "A is B"
   ]
  },
  {
   "cell_type": "code",
   "execution_count": 7,
   "id": "b288737f",
   "metadata": {},
   "outputs": [
    {
     "data": {
      "text/plain": [
       "array([100,   1,   2,   3,   4,   5,   6,   7,   8,   9,  10,  11])"
      ]
     },
     "execution_count": 7,
     "metadata": {},
     "output_type": "execute_result"
    }
   ],
   "source": [
    "A[0] = 100\n",
    "B"
   ]
  },
  {
   "cell_type": "markdown",
   "id": "f735ad7e",
   "metadata": {},
   "source": [
    "### 깊은복사"
   ]
  },
  {
   "cell_type": "code",
   "execution_count": 8,
   "id": "48e3ed12",
   "metadata": {},
   "outputs": [],
   "source": [
    "A = np.arange(12)"
   ]
  },
  {
   "cell_type": "code",
   "execution_count": 9,
   "id": "501422fa",
   "metadata": {},
   "outputs": [
    {
     "data": {
      "text/plain": [
       "array([ 0,  1,  2,  3,  4,  5,  6,  7,  8,  9, 10, 11])"
      ]
     },
     "execution_count": 9,
     "metadata": {},
     "output_type": "execute_result"
    }
   ],
   "source": [
    "A"
   ]
  },
  {
   "cell_type": "code",
   "execution_count": 10,
   "id": "36845d15",
   "metadata": {},
   "outputs": [],
   "source": [
    "B = A.copy()"
   ]
  },
  {
   "cell_type": "code",
   "execution_count": 11,
   "id": "c6807c66",
   "metadata": {},
   "outputs": [
    {
     "data": {
      "text/plain": [
       "array([100,   1,   2,   3,   4,   5,   6,   7,   8,   9,  10,  11])"
      ]
     },
     "execution_count": 11,
     "metadata": {},
     "output_type": "execute_result"
    }
   ],
   "source": [
    "A[0]= 100\n",
    "A"
   ]
  },
  {
   "cell_type": "code",
   "execution_count": 12,
   "id": "43fc5d24",
   "metadata": {},
   "outputs": [
    {
     "data": {
      "text/plain": [
       "array([ 0,  1,  2,  3,  4,  5,  6,  7,  8,  9, 10, 11])"
      ]
     },
     "execution_count": 12,
     "metadata": {},
     "output_type": "execute_result"
    }
   ],
   "source": [
    "B"
   ]
  },
  {
   "cell_type": "code",
   "execution_count": 13,
   "id": "a917c60a",
   "metadata": {},
   "outputs": [],
   "source": [
    "C = A.view()"
   ]
  },
  {
   "cell_type": "code",
   "execution_count": 14,
   "id": "0d929136",
   "metadata": {},
   "outputs": [],
   "source": [
    "A[0] = 200"
   ]
  },
  {
   "cell_type": "code",
   "execution_count": 15,
   "id": "ac74511a",
   "metadata": {},
   "outputs": [
    {
     "data": {
      "text/plain": [
       "array([200,   1,   2,   3,   4,   5,   6,   7,   8,   9,  10,  11])"
      ]
     },
     "execution_count": 15,
     "metadata": {},
     "output_type": "execute_result"
    }
   ],
   "source": [
    "C"
   ]
  },
  {
   "cell_type": "markdown",
   "id": "310f6276",
   "metadata": {},
   "source": [
    "### 브로드 캐스팅\n",
    "- 배열은 크기가 같은 배열끼리 연산\n",
    "- 배열의 크기가 다를때 연산이 되는지 여부 확인"
   ]
  },
  {
   "cell_type": "markdown",
   "id": "2e3dca68",
   "metadata": {},
   "source": [
    "- 배열의 크기가 다를때 연산\n",
    "\n",
    "A.shape =         (2,3,4,5)\n",
    "\n",
    "B.shape = (5,) -> (1,1,1,5)"
   ]
  },
  {
   "cell_type": "code",
   "execution_count": 16,
   "id": "712b01e8",
   "metadata": {},
   "outputs": [
    {
     "data": {
      "text/plain": [
       "(2, 3, 4, 5)"
      ]
     },
     "execution_count": 16,
     "metadata": {},
     "output_type": "execute_result"
    }
   ],
   "source": [
    "A = np.arange(120).reshape(2,3,4,5)\n",
    "A.shape"
   ]
  },
  {
   "cell_type": "code",
   "execution_count": 17,
   "id": "b5f79bba",
   "metadata": {},
   "outputs": [
    {
     "data": {
      "text/plain": [
       "(5,)"
      ]
     },
     "execution_count": 17,
     "metadata": {},
     "output_type": "execute_result"
    }
   ],
   "source": [
    "B = np.arange(5)\n",
    "B.shape"
   ]
  },
  {
   "cell_type": "code",
   "execution_count": 18,
   "id": "401a65b7",
   "metadata": {},
   "outputs": [
    {
     "data": {
      "text/plain": [
       "array([[[[  0,   2,   4,   6,   8],\n",
       "         [  5,   7,   9,  11,  13],\n",
       "         [ 10,  12,  14,  16,  18],\n",
       "         [ 15,  17,  19,  21,  23]],\n",
       "\n",
       "        [[ 20,  22,  24,  26,  28],\n",
       "         [ 25,  27,  29,  31,  33],\n",
       "         [ 30,  32,  34,  36,  38],\n",
       "         [ 35,  37,  39,  41,  43]],\n",
       "\n",
       "        [[ 40,  42,  44,  46,  48],\n",
       "         [ 45,  47,  49,  51,  53],\n",
       "         [ 50,  52,  54,  56,  58],\n",
       "         [ 55,  57,  59,  61,  63]]],\n",
       "\n",
       "\n",
       "       [[[ 60,  62,  64,  66,  68],\n",
       "         [ 65,  67,  69,  71,  73],\n",
       "         [ 70,  72,  74,  76,  78],\n",
       "         [ 75,  77,  79,  81,  83]],\n",
       "\n",
       "        [[ 80,  82,  84,  86,  88],\n",
       "         [ 85,  87,  89,  91,  93],\n",
       "         [ 90,  92,  94,  96,  98],\n",
       "         [ 95,  97,  99, 101, 103]],\n",
       "\n",
       "        [[100, 102, 104, 106, 108],\n",
       "         [105, 107, 109, 111, 113],\n",
       "         [110, 112, 114, 116, 118],\n",
       "         [115, 117, 119, 121, 123]]]])"
      ]
     },
     "execution_count": 18,
     "metadata": {},
     "output_type": "execute_result"
    }
   ],
   "source": [
    "A+B"
   ]
  },
  {
   "cell_type": "code",
   "execution_count": 20,
   "id": "d7fc62ce",
   "metadata": {},
   "outputs": [
    {
     "data": {
      "text/plain": [
       "(2, 1, 3, 1)"
      ]
     },
     "execution_count": 20,
     "metadata": {},
     "output_type": "execute_result"
    }
   ],
   "source": [
    "A = np.arange(6).reshape(2,1,3,1)\n",
    "A.shape"
   ]
  },
  {
   "cell_type": "code",
   "execution_count": 21,
   "id": "89a0e2d3",
   "metadata": {},
   "outputs": [
    {
     "data": {
      "text/plain": [
       "(3,)"
      ]
     },
     "execution_count": 21,
     "metadata": {},
     "output_type": "execute_result"
    }
   ],
   "source": [
    "B = np.arange(3)\n",
    "B.shape    #(1,1,1,3)"
   ]
  },
  {
   "cell_type": "code",
   "execution_count": 22,
   "id": "e3fd7638",
   "metadata": {},
   "outputs": [
    {
     "data": {
      "text/plain": [
       "array([[[[0, 1, 2],\n",
       "         [1, 2, 3],\n",
       "         [2, 3, 4]]],\n",
       "\n",
       "\n",
       "       [[[3, 4, 5],\n",
       "         [4, 5, 6],\n",
       "         [5, 6, 7]]]])"
      ]
     },
     "execution_count": 22,
     "metadata": {},
     "output_type": "execute_result"
    }
   ],
   "source": [
    "A+B"
   ]
  },
  {
   "cell_type": "code",
   "execution_count": 23,
   "id": "bdfb9ace",
   "metadata": {},
   "outputs": [
    {
     "data": {
      "text/plain": [
       "(2, 1)"
      ]
     },
     "execution_count": 23,
     "metadata": {},
     "output_type": "execute_result"
    }
   ],
   "source": [
    "A = np.arange(2).reshape(2,1)\n",
    "A.shape"
   ]
  },
  {
   "cell_type": "code",
   "execution_count": 25,
   "id": "6533abee",
   "metadata": {},
   "outputs": [
    {
     "data": {
      "text/plain": [
       "(8, 4, 3)"
      ]
     },
     "execution_count": 25,
     "metadata": {},
     "output_type": "execute_result"
    }
   ],
   "source": [
    "B = np.arange(96).reshape(8,4,3)\n",
    "B.shape"
   ]
  },
  {
   "cell_type": "code",
   "execution_count": 26,
   "id": "68d08b7f",
   "metadata": {},
   "outputs": [
    {
     "ename": "ValueError",
     "evalue": "operands could not be broadcast together with shapes (2,1) (8,4,3) ",
     "output_type": "error",
     "traceback": [
      "\u001b[1;31m---------------------------------------------------------------------------\u001b[0m",
      "\u001b[1;31mValueError\u001b[0m                                Traceback (most recent call last)",
      "Cell \u001b[1;32mIn[26], line 1\u001b[0m\n\u001b[1;32m----> 1\u001b[0m \u001b[43mA\u001b[49m\u001b[38;5;241;43m+\u001b[39;49m\u001b[43mB\u001b[49m\n",
      "\u001b[1;31mValueError\u001b[0m: operands could not be broadcast together with shapes (2,1) (8,4,3) "
     ]
    }
   ],
   "source": [
    "A+B"
   ]
  },
  {
   "cell_type": "code",
   "execution_count": null,
   "id": "f9a1ccd1",
   "metadata": {},
   "outputs": [],
   "source": []
  }
 ],
 "metadata": {
  "kernelspec": {
   "display_name": "Python 3 (ipykernel)",
   "language": "python",
   "name": "python3"
  },
  "language_info": {
   "codemirror_mode": {
    "name": "ipython",
    "version": 3
   },
   "file_extension": ".py",
   "mimetype": "text/x-python",
   "name": "python",
   "nbconvert_exporter": "python",
   "pygments_lexer": "ipython3",
   "version": "3.10.9"
  }
 },
 "nbformat": 4,
 "nbformat_minor": 5
}
