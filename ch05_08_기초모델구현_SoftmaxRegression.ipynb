{
  "nbformat": 4,
  "nbformat_minor": 0,
  "metadata": {
    "colab": {
      "provenance": [],
      "include_colab_link": true
    },
    "kernelspec": {
      "name": "python3",
      "display_name": "Python 3"
    },
    "language_info": {
      "name": "python"
    }
  },
  "cells": [
    {
      "cell_type": "markdown",
      "metadata": {
        "id": "view-in-github",
        "colab_type": "text"
      },
      "source": [
        "<a href=\"https://colab.research.google.com/github/donggale72/10000.html/blob/main/ch05_08_%EA%B8%B0%EC%B4%88%EB%AA%A8%EB%8D%B8%EA%B5%AC%ED%98%84_SoftmaxRegression.ipynb\" target=\"_parent\"><img src=\"https://colab.research.google.com/assets/colab-badge.svg\" alt=\"Open In Colab\"/></a>"
      ]
    },
    {
      "cell_type": "markdown",
      "metadata": {
        "id": "wWpXZc2fi39U"
      },
      "source": [
        "# ch05.08. 기초모델 구현 - Softmax Regression\n",
        "---\n",
        "* 날짜:\n",
        "* 이름:\n",
        "\n",
        "## 학습내용\n",
        "    - 소프트맥스 회귀 프로세스를 이해한다.\n",
        "    - 소프트맥스 함수를 구현한다."
      ]
    },
    {
      "cell_type": "markdown",
      "metadata": {
        "id": "kByKdJPApy6P"
      },
      "source": [
        "```\n",
        "import numpy as np\n",
        "import matplotlib.pyplot as plt\n",
        "```"
      ]
    },
    {
      "cell_type": "code",
      "execution_count": null,
      "metadata": {
        "id": "rJvcz-JikHbE"
      },
      "outputs": [],
      "source": [
        "import numpy as np\n",
        "import pandas as pd\n",
        "import matplotlib.pyplot as plt\n",
        "import seaborn as sns\n",
        "import sys\n",
        "sys.path.append('/content/drive/MyDrive/데이터사이언스과정/05.머신러닝기반데이터분석')"
      ]
    },
    {
      "cell_type": "code",
      "source": [
        "from google.colab import drive\n",
        "drive.mount('/content/drive')"
      ],
      "metadata": {
        "colab": {
          "base_uri": "https://localhost:8080/"
        },
        "id": "m9PtH2axfxeZ",
        "outputId": "78f8511a-dbb3-4cee-9e2a-d334cc2de994"
      },
      "execution_count": null,
      "outputs": [
        {
          "output_type": "stream",
          "name": "stdout",
          "text": [
            "Drive already mounted at /content/drive; to attempt to forcibly remount, call drive.mount(\"/content/drive\", force_remount=True).\n"
          ]
        }
      ]
    },
    {
      "cell_type": "code",
      "source": [
        "Z=np.arange(1,16).reshape(5,3)\n",
        "\n",
        "# np.exp(Z) /np.sum(np.exp(Z))\n",
        "분자 = np.exp(Z)\n",
        "분모 = np.expand_dims(np.sum(분자, axis=1), 1)\n",
        "\n",
        "print(분자, 분자.shape)\n",
        "print(분모, 분모.shape)\n",
        "\n",
        "분자 / 분모"
      ],
      "metadata": {
        "colab": {
          "base_uri": "https://localhost:8080/"
        },
        "id": "Ub28P6_SLHOc",
        "outputId": "b4ec3c5c-7811-4cd0-8c71-e6e0549206bb"
      },
      "execution_count": null,
      "outputs": [
        {
          "output_type": "stream",
          "name": "stdout",
          "text": [
            "[[2.71828183e+00 7.38905610e+00 2.00855369e+01]\n",
            " [5.45981500e+01 1.48413159e+02 4.03428793e+02]\n",
            " [1.09663316e+03 2.98095799e+03 8.10308393e+03]\n",
            " [2.20264658e+04 5.98741417e+04 1.62754791e+05]\n",
            " [4.42413392e+05 1.20260428e+06 3.26901737e+06]] (5, 3)\n",
            "[[3.01928749e+01]\n",
            " [6.06440103e+02]\n",
            " [1.21806751e+04]\n",
            " [2.44655399e+05]\n",
            " [4.91403505e+06]] (5, 1)\n"
          ]
        },
        {
          "output_type": "execute_result",
          "data": {
            "text/plain": [
              "array([[0.09003057, 0.24472847, 0.66524096],\n",
              "       [0.09003057, 0.24472847, 0.66524096],\n",
              "       [0.09003057, 0.24472847, 0.66524096],\n",
              "       [0.09003057, 0.24472847, 0.66524096],\n",
              "       [0.09003057, 0.24472847, 0.66524096]])"
            ]
          },
          "metadata": {},
          "execution_count": 9
        }
      ]
    },
    {
      "cell_type": "markdown",
      "source": [
        "## 클래스 작성\n",
        "---"
      ],
      "metadata": {
        "id": "uwMdGM259v98"
      }
    },
    {
      "cell_type": "code",
      "source": [
        "class SoftmaxRegressionGD():\n",
        "  def __init__(self, lr=0.001, random_state=1):\n",
        "    self.lr=lr\n",
        "    self.seed = np.random.RandomState(random_state)\n",
        "\n",
        "  def init_weights(self, X, y):\n",
        "    size=X.shape[1]\n",
        "    y_size = y.shape[1]\n",
        "    self.w = self.seed.normal(0,0.01,size=(size, y_size))\n",
        "    self.b = self.seed.normal(0,0.01, size=y_size)\n",
        "  \n",
        "  def model(self, X): #모형\n",
        "    z=np.dot(X, self.w)+ self.b\n",
        "    y_hat =self.softmax(z)\n",
        "    return y_hat\n",
        "    \n",
        "\n",
        "  def predict(self, X):# 예측값 1 또는 0\n",
        "    y_hat= self.model(X)\n",
        "    y_pred = np.argmax(y_hat, axis=1)\n",
        "    return y_pred\n",
        "\n",
        "  def loss(self, y, y_hat):# 손실함수\n",
        "    L = -np.log(y_hat[np.arange(y_hat.shape[0]), np.argmax(y_hat, axis=1)]).sum() / y.shape[0]\n",
        "    return L\n",
        "\n",
        "  def softmax(self, X): #다항 로지스틱 함수(소프트맥스)\n",
        "    return np.exp(X)/ np.sum(np.exp(X), axis=1, keepdims=True)\n",
        "    \n",
        "\n",
        "  def accuracy(self, y,y_pred): #정확도\n",
        "    return np.count_nonzero(np.argmax(y,axis=1)==y_pred)/y.shape[0]\n",
        "\n",
        "  def evaluate(self, X, y): #평가\n",
        "    y_hat=self.model(X)\n",
        "    loss = self.loss(y,y_hat)\n",
        "    y_pred = self.predict(X)\n",
        "    acc=self.accuracy(y,y_pred)\n",
        "    return loss, acc\n",
        "\n",
        "  def fit(self, X, y, epochs=10, show_params=False):\n",
        "\n",
        "    self.init_weights(X,y) # 가중치 초기화\n",
        "    self.history=dict(loss=[], acc=[]) # history 초기화\n",
        "\n",
        "    for epoch in range(epochs):    \n",
        "      # 최적화 1\n",
        "      \n",
        "      #for xi, yi in zip(X, y):\n",
        "        #y_hat=self.model(xi)\n",
        "        #self.w[:-1]+=self.lr*np.sum((yi-y_hat)*xi)\n",
        "        #self.w[-1]+=self.lr*np.sum(yi-y_hat)\n",
        "\n",
        "      # 최적화 2\n",
        "      y_hat = self.model(X)\n",
        "      grad_b = np.sum((y_hat-y)) / X.shape[0]\n",
        "      self.w -= self.lr * np.dot(X.T, (y_hat-y))/y.shape[0]\n",
        "      self.b -= self.lr * np.sum(y_hat-y)/y.shape[0]\n",
        "\n",
        "      \n",
        "      # 평가 및 결과 저장\n",
        "      loss, acc = self.evaluate(X, y)\n",
        "      self.history['loss'].append(loss)\n",
        "      self.history['acc'].append(acc)\n",
        "      \n",
        "      if show_params: print(self.w)\n",
        "      if epoch % 100 ==0:\n",
        "        print(f'[Epoch {epoch}] loss: {np.round(loss,2)}  acc: {np.round(acc,2)}')\n",
        "\n",
        "  # 데이터 흐름 시각화\n",
        "  def draw_dflow(self, X, y, title='', figsize=(8,4)):\n",
        "    plt.figure(figsize=figsize)\n",
        "    plt.title(title)\n",
        "    \n",
        "    y_hat = self.model(X)\n",
        "    y_pred = self.predict(X)\n",
        "    plt.plot(np.argmax(y,axis=1), label='y', marker='o')\n",
        "    plt.plot(y_pred, label='$\\logit$', marker='.', linestyle='--')\n",
        "    plt.legend()\n",
        "    plt.show()\n",
        "\n",
        "  # 학습 곡선 시각화\n",
        "  def draw_lcurve(self, title='', figsize=(8,4)):\n",
        "    plt.figure(figsize=figsize)\n",
        "    plt.title(title)\n",
        "    plt.plot(self.history['acc'], label='acc', marker='o')\n",
        "    plt.plot(self.history['loss'], label='loss', marker='o')\n",
        "    plt.xlabel('epoch')\n",
        "    plt.legend()\n",
        "    plt.show()\n",
        "\n",
        "\n",
        "\n",
        "\n",
        "\n",
        "\n",
        "  "
      ],
      "metadata": {
        "id": "5mAt5khrW_Km"
      },
      "execution_count": null,
      "outputs": []
    },
    {
      "cell_type": "markdown",
      "source": [
        "## iris 데이터로 분류 진행\n",
        "---"
      ],
      "metadata": {
        "id": "p8-pUaTb04zO"
      }
    },
    {
      "cell_type": "markdown",
      "source": [
        "### **데이터 로드**"
      ],
      "metadata": {
        "id": "yh-ww3jO9392"
      }
    },
    {
      "cell_type": "code",
      "source": [
        "from sklearn.datasets import load_iris\n",
        "from sklearn.model_selection import train_test_split\n",
        "from sklearn.preprocessing import OneHotEncoder\n",
        "\n",
        "def iris_loader(n_class, test_size=0.2, rs=1):\n",
        "  iris = load_iris()\n",
        "  X = iris.data\n",
        "  y = iris.target\n",
        "  print(X.shape, y.shape, X[0], y[0])\n",
        "  \n",
        "  if n_class==2:\n",
        "    X = X[y!=2]\n",
        "    y = y[y!=2]\n",
        "    y = np.where(y==1, 1, 0)\n",
        "  if n_class==3:\n",
        "    ohe = OneHotEncoder(sparse=False)\n",
        "    y = ohe.fit_transform(np.expand_dims(y,1))\n",
        "  \n",
        "  X_train, X_test, y_train, y_test = train_test_split(X,y, random_state=rs)\n",
        "   \n",
        "  print(X_train.shape, X_test.shape, y_train.shape, y_test.shape)\n",
        "  return X_train, X_test, y_train, y_test"
      ],
      "metadata": {
        "id": "Oq9lGiY203kw"
      },
      "execution_count": null,
      "outputs": []
    },
    {
      "cell_type": "code",
      "source": [
        "X_train, X_test, y_train, y_test = iris_loader(3)"
      ],
      "metadata": {
        "colab": {
          "base_uri": "https://localhost:8080/"
        },
        "id": "YPcZO8JogRvP",
        "outputId": "712005bb-74ae-4c20-b7b3-f2dfc53ea170"
      },
      "execution_count": null,
      "outputs": [
        {
          "output_type": "stream",
          "name": "stdout",
          "text": [
            "(150, 4) (150,) [5.1 3.5 1.4 0.2] 0\n",
            "(112, 4) (38, 4) (112, 3) (38, 3)\n"
          ]
        }
      ]
    },
    {
      "cell_type": "code",
      "source": [
        "model.w, model.b"
      ],
      "metadata": {
        "colab": {
          "base_uri": "https://localhost:8080/"
        },
        "id": "Y9hMLSvixjXA",
        "outputId": "9a336ef7-9f79-4d0d-8b7d-7d434214ad2e"
      },
      "execution_count": null,
      "outputs": [
        {
          "output_type": "execute_result",
          "data": {
            "text/plain": [
              "(array([[ 0.01624345, -0.00611756, -0.00528172],\n",
              "        [-0.01072969,  0.00865408, -0.02301539],\n",
              "        [ 0.01744812, -0.00761207,  0.00319039],\n",
              "        [-0.0024937 ,  0.01462108, -0.02060141]]),\n",
              " array([-0.00322417, -0.00384054,  0.01133769]))"
            ]
          },
          "metadata": {},
          "execution_count": 72
        }
      ]
    },
    {
      "cell_type": "markdown",
      "source": [
        "### **학습전 성능 평가**"
      ],
      "metadata": {
        "id": "3LqoB51790s0"
      }
    },
    {
      "cell_type": "code",
      "source": [
        "model =SoftmaxRegressionGD(lr = 0.1)\n",
        "\n",
        "model.init_weights(X_train, y_train)\n",
        "model.draw_dflow(X_train, y_train, figsize=(16,4))\n",
        "print('성능: ', model.evaluate(X_train, y_train))"
      ],
      "metadata": {
        "id": "TBW5bD_H8qqk",
        "colab": {
          "base_uri": "https://localhost:8080/",
          "height": 206
        },
        "outputId": "23161a3d-6d45-414c-d3ab-85f9ea8188f7"
      },
      "execution_count": null,
      "outputs": [
        {
          "output_type": "display_data",
          "data": {
            "text/plain": [
              "<Figure size 1152x288 with 1 Axes>"
            ],
            "image/png": "[encoded data removed]"
          },
          "metadata": {
            "needs_background": "light"
          }
        },
        {
          "output_type": "stream",
          "name": "stdout",
          "text": [
            "성능:  (0.979699225186024, 0.33035714285714285)\n"
          ]
        }
      ]
    },
    {
      "cell_type": "markdown",
      "source": [
        "### **학습**"
      ],
      "metadata": {
        "id": "s0Z1FRSQ-CVf"
      }
    },
    {
      "cell_type": "code",
      "source": [
        "history = model.fit(X_train, y_train, epochs=501)"
      ],
      "metadata": {
        "id": "IUKelQQChXTK"
      },
      "execution_count": null,
      "outputs": []
    },
    {
      "cell_type": "markdown",
      "source": [
        "### **학습 후 성능평가**"
      ],
      "metadata": {
        "id": "rcyTrA6o-ERb"
      }
    },
    {
      "cell_type": "code",
      "source": [
        "print('성능: ', model.evaluate(X_train, y_train))\n",
        "model.draw_dflow(X_train, y_train, figsize=(16,4))"
      ],
      "metadata": {
        "id": "Ub6XY-t0KWx2"
      },
      "execution_count": null,
      "outputs": []
    },
    {
      "cell_type": "markdown",
      "source": [
        "### **테스트셋 성능평가**"
      ],
      "metadata": {
        "id": "rJtmb1t_-GIF"
      }
    },
    {
      "cell_type": "code",
      "source": [
        "print('성능: ', model.evaluate(X_test, y_test))\n",
        "model.draw_dflow(X_test, y_test, figsize=(16,4))"
      ],
      "metadata": {
        "id": "h0H_AlEIDw59"
      },
      "execution_count": null,
      "outputs": []
    },
    {
      "cell_type": "code",
      "source": [
        "model.draw_lcurve()"
      ],
      "metadata": {
        "id": "Yzrv09shgcl_"
      },
      "execution_count": null,
      "outputs": []
    },
    {
      "cell_type": "code",
      "source": [],
      "metadata": {
        "id": "8taVD08tq1WG"
      },
      "execution_count": null,
      "outputs": []
    }
  ]
}