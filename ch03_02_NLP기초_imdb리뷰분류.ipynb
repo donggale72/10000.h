{
  "nbformat": 4,
  "nbformat_minor": 0,
  "metadata": {
    "colab": {
      "provenance": [],
      "include_colab_link": true
    },
    "kernelspec": {
      "name": "python3",
      "display_name": "Python 3"
    },
    "language_info": {
      "name": "python"
    },
    "gpuClass": "standard"
  },
  "cells": [
    {
      "cell_type": "markdown",
      "metadata": {
        "id": "view-in-github",
        "colab_type": "text"
      },
      "source": [
        "<a href=\"https://colab.research.google.com/github/donggale72/10000.html/blob/main/ch03_02_NLP%EA%B8%B0%EC%B4%88_imdb%EB%A6%AC%EB%B7%B0%EB%B6%84%EB%A5%98.ipynb\" target=\"_parent\"><img src=\"https://colab.research.google.com/assets/colab-badge.svg\" alt=\"Open In Colab\"/></a>"
      ]
    },
    {
      "cell_type": "markdown",
      "source": [
        "# ch03.02 NLP기초 - imdb 리뷰 분류\n",
        "---\n",
        "\n",
        "* 날짜:\n",
        "* 이름:\n",
        "\n",
        "## 학습내용\n",
        "    - 텍스트 전처리 과정을 이해한다.\n",
        "      * 텍스트 토큰화\n",
        "      * 텍스트 인덱싱\n",
        "      * 원-핫 인코딩\n",
        "      * 텍스트 임베딩\n",
        "    - 간단한 문장을 분류하는 딥러닝 모델을 구현한다.\n",
        "\n"
      ],
      "metadata": {
        "id": "sWs2kEC1_b-P"
      }
    },
    {
      "cell_type": "markdown",
      "source": [
        "```\n",
        "! git clone https://github.com/yebiny/SkillTreePython-DeepLearning\n",
        "```"
      ],
      "metadata": {
        "id": "zml97VsFlWC1"
      }
    },
    {
      "cell_type": "code",
      "execution_count": null,
      "metadata": {
        "id": "lqjonRF6KbGY",
        "colab": {
          "base_uri": "https://localhost:8080/"
        },
        "outputId": "f233ccbe-644b-4265-c6b5-edd4a9524bac"
      },
      "outputs": [
        {
          "output_type": "stream",
          "name": "stdout",
          "text": [
            "Cloning into 'SkillTreePython-DeepLearning'...\n",
            "remote: Enumerating objects: 695, done.\u001b[K\n",
            "remote: Counting objects: 100% (268/268), done.\u001b[K\n",
            "remote: Compressing objects: 100% (112/112), done.\u001b[K\n",
            "remote: Total 695 (delta 163), reused 255 (delta 155), pack-reused 427\u001b[K\n",
            "Receiving objects: 100% (695/695), 38.00 MiB | 23.74 MiB/s, done.\n",
            "Resolving deltas: 100% (356/356), done.\n"
          ]
        }
      ],
      "source": [
        "! git clone https://github.com/yebiny/SkillTreePython-DeepLearning"
      ]
    },
    {
      "cell_type": "markdown",
      "source": [
        "```\n",
        "import sys\n",
        "sys.path.append('/content/SkillTreePython-DeepLearning/scripts')\n",
        "from import_lib import *\n",
        "```"
      ],
      "metadata": {
        "id": "iDliBVhLlYiY"
      }
    },
    {
      "cell_type": "code",
      "source": [
        "import sys\n",
        "sys.path.append('/content/SkillTreePython-DeepLearning/scripts')\n",
        "from import_lib import *"
      ],
      "metadata": {
        "id": "InMFlAq4Xwge"
      },
      "execution_count": null,
      "outputs": []
    },
    {
      "cell_type": "markdown",
      "source": [
        "## FCN 모델을 이용한 영화리뷰 분류\n",
        "---"
      ],
      "metadata": {
        "id": "VU3BLoJCGSlV"
      }
    },
    {
      "cell_type": "markdown",
      "source": [
        "### **| 데이터 처리**"
      ],
      "metadata": {
        "id": "UiHqcR2ANSyg"
      }
    },
    {
      "cell_type": "code",
      "execution_count": null,
      "metadata": {
        "id": "VVsT77Gieb4m",
        "colab": {
          "base_uri": "https://localhost:8080/"
        },
        "outputId": "f1d8b0aa-48c7-4369-e872-a31afceadd82"
      },
      "outputs": [
        {
          "output_type": "stream",
          "name": "stdout",
          "text": [
            "Downloading data from https://storage.googleapis.com/tensorflow/tf-keras-datasets/imdb.npz\n",
            "17465344/17464789 [==============================] - 0s 0us/step\n",
            "17473536/17464789 [==============================] - 0s 0us/step\n",
            "(25000,) (25000,) (25000,) (25000,)\n"
          ]
        }
      ],
      "source": [
        "from tensorflow.keras.datasets import imdb\n",
        "# FCN : Fully connected network (Dense layer)\n",
        "max_features = 500 # 많은 단어를 사용할 수록 성능 향상? -> 다차원 데이터를 다루기 위해서는 FCN으로는 어렵다.\n",
        "max_len = 100 # 문장안에 존재할 최대 단어수\n",
        "# 문장 -> (단어의 개수 , 각 단어 벡터길이)\n",
        "(x_train, y_train), (x_test, y_test) = imdb.load_data(num_words = max_features ) # 몇개의 단어를 사용할 것인가 \n",
        "print(x_train.shape, y_train.shape, x_test.shape, y_test.shape)"
      ]
    },
    {
      "cell_type": "code",
      "source": [
        "print('첫번째 리뷰:', x_train[0], )\n",
        "print('첫번째 리뷰의 단어 개수:', len(x_train[0]))\n",
        "print('첫번째 리뷰의 클래스:', y_train[0])"
      ],
      "metadata": {
        "id": "30OhC62r3LUA",
        "colab": {
          "base_uri": "https://localhost:8080/"
        },
        "outputId": "682e30f1-7934-4d7c-d365-4a6ee001955d"
      },
      "execution_count": null,
      "outputs": [
        {
          "output_type": "stream",
          "name": "stdout",
          "text": [
            "첫번째 리뷰: [1, 14, 22, 16, 43, 2, 2, 2, 2, 65, 458, 2, 66, 2, 4, 173, 36, 256, 5, 25, 100, 43, 2, 112, 50, 2, 2, 9, 35, 480, 284, 5, 150, 4, 172, 112, 167, 2, 336, 385, 39, 4, 172, 2, 2, 17, 2, 38, 13, 447, 4, 192, 50, 16, 6, 147, 2, 19, 14, 22, 4, 2, 2, 469, 4, 22, 71, 87, 12, 16, 43, 2, 38, 76, 15, 13, 2, 4, 22, 17, 2, 17, 12, 16, 2, 18, 2, 5, 62, 386, 12, 8, 316, 8, 106, 5, 4, 2, 2, 16, 480, 66, 2, 33, 4, 130, 12, 16, 38, 2, 5, 25, 124, 51, 36, 135, 48, 25, 2, 33, 6, 22, 12, 215, 28, 77, 52, 5, 14, 407, 16, 82, 2, 8, 4, 107, 117, 2, 15, 256, 4, 2, 7, 2, 5, 2, 36, 71, 43, 2, 476, 26, 400, 317, 46, 7, 4, 2, 2, 13, 104, 88, 4, 381, 15, 297, 98, 32, 2, 56, 26, 141, 6, 194, 2, 18, 4, 226, 22, 21, 134, 476, 26, 480, 5, 144, 30, 2, 18, 51, 36, 28, 224, 92, 25, 104, 4, 226, 65, 16, 38, 2, 88, 12, 16, 283, 5, 16, 2, 113, 103, 32, 15, 16, 2, 19, 178, 32]\n",
            "첫번째 리뷰의 단어 개수: 218\n",
            "첫번째 리뷰의 클래스: 1\n"
          ]
        }
      ]
    },
    {
      "cell_type": "code",
      "source": [
        "# 문장 안에 단어가 몇개씩 들어있는가?\n",
        "x_lens = [len(x) for x in x_train]\n",
        "_=plt.hist(x_lens, bins=50)"
      ],
      "metadata": {
        "id": "LR0PZndR34TE",
        "colab": {
          "base_uri": "https://localhost:8080/",
          "height": 265
        },
        "outputId": "7d177b7e-6983-42dd-abee-a456ccf2ac8f"
      },
      "execution_count": null,
      "outputs": [
        {
          "output_type": "display_data",
          "data": {
            "text/plain": [
              "<Figure size 432x288 with 1 Axes>"
            ],
            "image/png": "[encoded data removed]"
          },
          "metadata": {
            "needs_background": "light"
          }
        }
      ]
    },
    {
      "cell_type": "code",
      "source": [
        "# 딕셔너리\n",
        "word2index = imdb.get_word_index()\n",
        "#word2index"
      ],
      "metadata": {
        "id": "j_5TdG3l4A-V",
        "colab": {
          "base_uri": "https://localhost:8080/"
        },
        "outputId": "0cd396c7-b775-4d6e-af9e-b8a3a1dd64c8"
      },
      "execution_count": null,
      "outputs": [
        {
          "output_type": "stream",
          "name": "stdout",
          "text": [
            "Downloading data from https://storage.googleapis.com/tensorflow/tf-keras-datasets/imdb_word_index.json\n",
            "1646592/1641221 [==============================] - 0s 0us/step\n",
            "1654784/1641221 [==============================] - 0s 0us/step\n"
          ]
        }
      ]
    },
    {
      "cell_type": "code",
      "source": [
        "index2word = {}\n",
        "for word, idx in word2index.items():\n",
        "  index2word[idx+3]=word"
      ],
      "metadata": {
        "id": "Cl3Y75343_v7"
      },
      "execution_count": null,
      "outputs": []
    },
    {
      "cell_type": "code",
      "source": [
        "# 첫번째 리뷰 해석\n",
        "review = x_train[3]\n",
        "trans = []\n",
        "for index in review:\n",
        "  if index in index2word.keys():\n",
        "    trans.append(index2word[index])\n",
        "print(' '.join(x for x in trans))\n",
        "print(review)"
      ],
      "metadata": {
        "id": "7bnMqQnae6Cm",
        "colab": {
          "base_uri": "https://localhost:8080/"
        },
        "outputId": "4cfe8de8-f594-4199-d654-bf808864a255"
      },
      "execution_count": null,
      "outputs": [
        {
          "output_type": "stream",
          "name": "stdout",
          "text": [
            "the at the sort many years after the i can still see in my an my mother the of she makes the characters come her is that of an one to the on the a or so from where she lives br br of course it many years before she was but you guess from the way she it the same story is in the and of as i it with a friend one night in a in to give his version the to time br br down like this become part of our being who doesn't remember the our us when we were children they become our world and as we they maybe still as or as an fact and with role and br br my name is like my and his before him our himself to us and also the story that back through it that the of its in the of yet is in this is what gives it its special it has a and with some of the you will ever br br his in before his death he with part of him to be in the first to out in but he is on the a br br yet there is a him he to know the the behind his where does end and he wants to know the behind the death of his br br he is to make a last to the of one of most can the be or is it all in br br in this story about we the of old and the more of in doing so we each with as he lives the story of his own life br br the is probably the most and beautiful film of ever made like i got with the of on more but also like i this once i saw the picture the of and its like you might even the of the man to see a film that is true to this one is probably if you maybe on it enough you might even the of and the old of there are some that be but only\n",
            "[1, 4, 2, 2, 33, 2, 4, 2, 432, 111, 153, 103, 4, 2, 13, 70, 131, 67, 11, 61, 2, 2, 35, 2, 2, 61, 2, 452, 2, 4, 2, 7, 2, 59, 166, 4, 105, 216, 2, 41, 2, 9, 15, 7, 35, 2, 2, 31, 8, 4, 2, 23, 4, 2, 2, 6, 2, 42, 38, 39, 121, 59, 456, 10, 10, 7, 265, 12, 2, 111, 153, 159, 59, 16, 2, 21, 25, 2, 482, 39, 4, 96, 59, 2, 12, 4, 172, 65, 9, 2, 11, 2, 4, 2, 5, 2, 7, 2, 17, 13, 2, 12, 19, 6, 464, 31, 314, 11, 2, 6, 2, 2, 11, 8, 202, 27, 310, 4, 2, 2, 8, 2, 58, 10, 10, 2, 2, 180, 40, 14, 413, 173, 7, 263, 112, 37, 152, 377, 4, 2, 263, 2, 2, 178, 54, 75, 71, 476, 36, 413, 263, 2, 182, 5, 17, 75, 2, 2, 36, 279, 131, 2, 17, 2, 42, 17, 35, 2, 2, 192, 5, 2, 2, 19, 2, 217, 2, 2, 2, 2, 2, 5, 2, 10, 10, 61, 403, 9, 2, 40, 61, 2, 5, 27, 2, 159, 90, 263, 2, 2, 309, 8, 178, 5, 82, 2, 4, 65, 15, 2, 145, 143, 2, 12, 2, 2, 2, 2, 2, 15, 2, 4, 2, 2, 7, 2, 94, 2, 2, 2, 11, 2, 4, 2, 7, 2, 246, 2, 9, 2, 11, 2, 14, 9, 51, 408, 12, 94, 318, 2, 12, 47, 6, 2, 2, 5, 2, 2, 19, 49, 7, 4, 2, 2, 2, 25, 80, 126, 2, 10, 10, 2, 2, 2, 27, 2, 11, 2, 2, 159, 27, 341, 29, 2, 19, 2, 173, 7, 90, 2, 8, 30, 11, 4, 2, 86, 2, 8, 2, 46, 11, 2, 21, 29, 9, 2, 23, 4, 2, 2, 2, 6, 2, 2, 2, 10, 10, 246, 50, 9, 6, 2, 2, 2, 90, 29, 2, 8, 124, 4, 2, 4, 2, 496, 27, 2, 2, 2, 121, 127, 2, 130, 5, 29, 494, 8, 124, 4, 2, 496, 4, 341, 7, 27, 2, 10, 10, 29, 9, 2, 8, 97, 6, 236, 2, 2, 8, 4, 2, 7, 31, 7, 2, 91, 2, 2, 70, 4, 2, 30, 2, 42, 9, 12, 32, 11, 2, 10, 10, 11, 14, 65, 44, 2, 75, 2, 2, 2, 2, 2, 4, 2, 7, 154, 5, 4, 2, 53, 2, 2, 7, 2, 2, 11, 399, 38, 75, 257, 2, 19, 2, 17, 29, 456, 4, 65, 7, 27, 205, 113, 10, 10, 2, 4, 2, 2, 9, 242, 4, 91, 2, 2, 5, 2, 307, 22, 7, 2, 126, 93, 40, 2, 13, 188, 2, 2, 19, 4, 2, 7, 2, 2, 23, 53, 2, 21, 82, 40, 2, 13, 2, 14, 280, 13, 219, 4, 2, 431, 2, 2, 4, 2, 2, 2, 7, 2, 5, 94, 40, 25, 238, 60, 2, 4, 2, 2, 2, 7, 4, 2, 132, 8, 67, 6, 22, 15, 9, 283, 8, 2, 14, 31, 9, 242, 2, 48, 25, 279, 2, 23, 12, 2, 195, 25, 238, 60, 2, 2, 4, 2, 7, 2, 5, 4, 2, 154, 2, 7, 2, 50, 26, 49, 2, 15, 2, 30, 2, 21, 64, 2]\n"
          ]
        }
      ]
    },
    {
      "cell_type": "code",
      "source": [
        "print('imdb 데이터에 있는 모든 단어수 : ', len(word2index), len(index2word))\n",
        "print('우리가 사용할 단어수 :', max_features)\n",
        "# 빈도수 순으로 500개 단어에 대해서만 원핫"
      ],
      "metadata": {
        "colab": {
          "base_uri": "https://localhost:8080/"
        },
        "id": "O4mW4L3FIhDF",
        "outputId": "385c0633-9fe0-4e17-bed1-711f4fb6f5ee"
      },
      "execution_count": null,
      "outputs": [
        {
          "output_type": "stream",
          "name": "stdout",
          "text": [
            "imdb 데이터에 있는 모든 단어수 :  88584 88584\n",
            "우리가 사용할 단어수 : 500\n"
          ]
        }
      ]
    },
    {
      "cell_type": "code",
      "source": [
        "print('빈도가 높은 단어:', index2word[4], index2word[5], index2word[6])"
      ],
      "metadata": {
        "colab": {
          "base_uri": "https://localhost:8080/"
        },
        "id": "LOGceIeZJHpT",
        "outputId": "1e23e09f-af04-4329-c8e2-a1607caac814"
      },
      "execution_count": null,
      "outputs": [
        {
          "output_type": "stream",
          "name": "stdout",
          "text": [
            "빈도가 높은 단어: the and a\n"
          ]
        }
      ]
    },
    {
      "cell_type": "code",
      "source": [
        "from tensorflow.keras.datasets import imdb\n",
        "# FCN : Fully connected network (Dense layer)\n",
        "max_features = 500 # 많은 단어를 사용할 수록 성능 향상? -> 다차원 데이터를 다루기 위해서는 FCN으로는 어렵다.\n",
        "max_len = 100 # 문장안에 존재할 최대 단어수\n",
        "# 문장 -> (단어의 개수 , 각 단어 벡터길이)\n",
        "(x_train, y_train), (x_test, y_test) = imdb.load_data(num_words = max_features ) # 몇개의 단어를 사용할 것인가 \n",
        "print(x_train.shape, y_train.shape, x_test.shape, y_test.shape)\n",
        "\n",
        "print('패딩 전:', x_train.shape, y_test.shape)\n",
        "x_train = preprocessing.sequence.pad_sequences(x_train, maxlen=max_len)\n",
        "x_test = preprocessing.sequence.pad_sequences(x_test, maxlen=max_len)\n",
        "print('패딩 후:', x_train.shape, x_test.shape)"
      ],
      "metadata": {
        "colab": {
          "base_uri": "https://localhost:8080/"
        },
        "id": "sgcRPjNqJdIV",
        "outputId": "427b7dca-2247-4431-b4e5-b18e0dfacfab"
      },
      "execution_count": null,
      "outputs": [
        {
          "output_type": "stream",
          "name": "stdout",
          "text": [
            "(25000,) (25000,) (25000,) (25000,)\n",
            "패딩 전: (25000,) (25000,)\n",
            "패딩 후: (25000, 100) (25000, 100)\n"
          ]
        }
      ]
    },
    {
      "cell_type": "code",
      "source": [
        "x_train[0]"
      ],
      "metadata": {
        "id": "utrzF0TyKVNC"
      },
      "execution_count": null,
      "outputs": []
    },
    {
      "cell_type": "markdown",
      "source": [
        "### **| 모델 학습**"
      ],
      "metadata": {
        "id": "x0b-joGlMQMw"
      }
    },
    {
      "cell_type": "code",
      "source": [
        "def create_model(max_len, max_features, emb_dims):\n",
        "  x = layers.Input(shape=max_len)\n",
        "  y = layers.Embedding(max_features, emb_dims)(x)\n",
        "  y = layers.Flatten()(y)\n",
        "  y = layers.Dense(32, activation='relu')(y)\n",
        "  y = layers.Dense(1, activation='sigmoid')(y) # 이진분류\n",
        "  return models.Model(x,y)"
      ],
      "metadata": {
        "id": "vhX0O85KMfJQ"
      },
      "execution_count": null,
      "outputs": []
    },
    {
      "cell_type": "code",
      "source": [
        "model = create_model(max_len, max_features, 100)\n",
        "model.summary()"
      ],
      "metadata": {
        "id": "W3sT2c6Qf9EW",
        "colab": {
          "base_uri": "https://localhost:8080/"
        },
        "outputId": "b2d0f8ef-f0ed-45c2-a0e5-66fd534125b0"
      },
      "execution_count": null,
      "outputs": [
        {
          "output_type": "stream",
          "name": "stdout",
          "text": [
            "Model: \"model\"\n",
            "_________________________________________________________________\n",
            " Layer (type)                Output Shape              Param #   \n",
            "=================================================================\n",
            " input_2 (InputLayer)        [(None, 100)]             0         \n",
            "                                                                 \n",
            " embedding_1 (Embedding)     (None, 100, 100)          50000     \n",
            "                                                                 \n",
            " flatten_1 (Flatten)         (None, 10000)             0         \n",
            "                                                                 \n",
            " dense (Dense)               (None, 32)                320032    \n",
            "                                                                 \n",
            " dense_1 (Dense)             (None, 1)                 33        \n",
            "                                                                 \n",
            "=================================================================\n",
            "Total params: 370,065\n",
            "Trainable params: 370,065\n",
            "Non-trainable params: 0\n",
            "_________________________________________________________________\n"
          ]
        }
      ]
    },
    {
      "cell_type": "code",
      "source": [
        "model.compile(optimizer='adam',\n",
        "              loss = 'binary_crossentropy',\n",
        "              metrics=['acc'])\n",
        "history = model.fit(x_train, y_train,\n",
        "                    epochs=20,\n",
        "                    batch_size=32,\n",
        "                    validation_split=0.2)"
      ],
      "metadata": {
        "id": "O9x4UJtINbfQ",
        "colab": {
          "base_uri": "https://localhost:8080/"
        },
        "outputId": "825dd281-7261-4b20-be5f-9a5c7056ec8d"
      },
      "execution_count": null,
      "outputs": [
        {
          "output_type": "stream",
          "name": "stdout",
          "text": [
            "Epoch 1/20\n",
            "625/625 [==============================] - 4s 6ms/step - loss: 0.5202 - acc: 0.7284 - val_loss: 0.4496 - val_acc: 0.7874\n",
            "Epoch 2/20\n",
            "625/625 [==============================] - 4s 6ms/step - loss: 0.3521 - acc: 0.8452 - val_loss: 0.4876 - val_acc: 0.7828\n",
            "Epoch 3/20\n",
            "625/625 [==============================] - 4s 6ms/step - loss: 0.2107 - acc: 0.9153 - val_loss: 0.6107 - val_acc: 0.7582\n",
            "Epoch 4/20\n",
            "625/625 [==============================] - 4s 6ms/step - loss: 0.0933 - acc: 0.9667 - val_loss: 0.8172 - val_acc: 0.7542\n",
            "Epoch 5/20\n",
            "625/625 [==============================] - 4s 6ms/step - loss: 0.0430 - acc: 0.9861 - val_loss: 1.0484 - val_acc: 0.7528\n",
            "Epoch 6/20\n",
            "625/625 [==============================] - 4s 6ms/step - loss: 0.0257 - acc: 0.9923 - val_loss: 1.2601 - val_acc: 0.7482\n",
            "Epoch 7/20\n",
            "625/625 [==============================] - 4s 6ms/step - loss: 0.0333 - acc: 0.9895 - val_loss: 1.3277 - val_acc: 0.7394\n",
            "Epoch 8/20\n",
            "625/625 [==============================] - 4s 6ms/step - loss: 0.0283 - acc: 0.9902 - val_loss: 1.5370 - val_acc: 0.7448\n",
            "Epoch 9/20\n",
            "625/625 [==============================] - 4s 6ms/step - loss: 0.0155 - acc: 0.9949 - val_loss: 1.6708 - val_acc: 0.7442\n",
            "Epoch 10/20\n",
            "625/625 [==============================] - 4s 6ms/step - loss: 0.0128 - acc: 0.9959 - val_loss: 1.8309 - val_acc: 0.7370\n",
            "Epoch 11/20\n",
            "625/625 [==============================] - 4s 6ms/step - loss: 0.0203 - acc: 0.9931 - val_loss: 1.7075 - val_acc: 0.7408\n",
            "Epoch 12/20\n",
            "625/625 [==============================] - 4s 6ms/step - loss: 0.0266 - acc: 0.9905 - val_loss: 1.7558 - val_acc: 0.7350\n",
            "Epoch 13/20\n",
            "625/625 [==============================] - 4s 6ms/step - loss: 0.0130 - acc: 0.9959 - val_loss: 1.9117 - val_acc: 0.7310\n",
            "Epoch 14/20\n",
            "625/625 [==============================] - 4s 6ms/step - loss: 0.0056 - acc: 0.9987 - val_loss: 2.1296 - val_acc: 0.7416\n",
            "Epoch 15/20\n",
            "625/625 [==============================] - 4s 6ms/step - loss: 0.0090 - acc: 0.9970 - val_loss: 2.0984 - val_acc: 0.7424\n",
            "Epoch 16/20\n",
            "625/625 [==============================] - 4s 6ms/step - loss: 0.0214 - acc: 0.9938 - val_loss: 2.0046 - val_acc: 0.7360\n",
            "Epoch 17/20\n",
            "625/625 [==============================] - 4s 6ms/step - loss: 0.0171 - acc: 0.9941 - val_loss: 2.1714 - val_acc: 0.7402\n",
            "Epoch 18/20\n",
            "625/625 [==============================] - 4s 6ms/step - loss: 0.0115 - acc: 0.9963 - val_loss: 2.2563 - val_acc: 0.7386\n",
            "Epoch 19/20\n",
            "625/625 [==============================] - 4s 6ms/step - loss: 0.0051 - acc: 0.9987 - val_loss: 2.2961 - val_acc: 0.7442\n",
            "Epoch 20/20\n",
            "625/625 [==============================] - 4s 6ms/step - loss: 0.0034 - acc: 0.9991 - val_loss: 2.3997 - val_acc: 0.7416\n"
          ]
        }
      ]
    },
    {
      "cell_type": "code",
      "source": [
        "from plot_result import plot_lcurve\n",
        "plot_lcurve([history], [''], ['dodgerblue'])"
      ],
      "metadata": {
        "colab": {
          "base_uri": "https://localhost:8080/",
          "height": 282
        },
        "id": "pQPmcDkNOWwc",
        "outputId": "0bcc548b-327c-499c-99c8-d73a7b63b6b5"
      },
      "execution_count": null,
      "outputs": [
        {
          "output_type": "display_data",
          "data": {
            "text/plain": [
              "<Figure size 864x288 with 2 Axes>"
            ],
            "image/png": "[encoded data removed]"
          },
          "metadata": {
            "needs_background": "light"
          }
        }
      ]
    },
    {
      "cell_type": "markdown",
      "source": [
        "## 사전 훈련된 Embedding 사용하기\n",
        "---\n",
        "\n"
      ],
      "metadata": {
        "id": "l3K7QrTBGI5f"
      }
    },
    {
      "cell_type": "markdown",
      "source": [
        "### **| GloVe 단어 임베딩 내려받기**\n",
        "\n",
        "```\n",
        "https://drive.google.com/u/0/uc?id=1ams5_zp8NrfmbxSzTDCglRpAvjFGi5JY&export=download\n",
        "```"
      ],
      "metadata": {
        "id": "Z6Ob1lPINhu4"
      }
    },
    {
      "cell_type": "code",
      "source": [
        "! gdown https://drive.google.com/u/0/uc?id=1ams5_zp8NrfmbxSzTDCglRpAvjFGi5JY&export=download"
      ],
      "metadata": {
        "id": "HCDADTlSqbYZ",
        "colab": {
          "base_uri": "https://localhost:8080/"
        },
        "outputId": "961fc379-c600-47f6-b9df-9cd570909670"
      },
      "execution_count": null,
      "outputs": [
        {
          "output_type": "stream",
          "name": "stdout",
          "text": [
            "Downloading...\n",
            "From: https://drive.google.com/u/0/uc?id=1ams5_zp8NrfmbxSzTDCglRpAvjFGi5JY\n",
            "To: /content/glove.6B.zip\n",
            "100% 862M/862M [00:10<00:00, 84.3MB/s]\n"
          ]
        }
      ]
    },
    {
      "cell_type": "code",
      "source": [
        "! unzip /content/glove.6B.zip"
      ],
      "metadata": {
        "id": "37gKeekxmmHI",
        "colab": {
          "base_uri": "https://localhost:8080/"
        },
        "outputId": "ad89bad3-18ac-4adc-ae61-3238c2dd8e9d"
      },
      "execution_count": null,
      "outputs": [
        {
          "output_type": "stream",
          "name": "stdout",
          "text": [
            "Archive:  /content/glove.6B.zip\n",
            "  inflating: glove.6B.50d.txt        \n",
            "  inflating: glove.6B.100d.txt       \n",
            "  inflating: glove.6B.200d.txt       \n",
            "  inflating: glove.6B.300d.txt       \n"
          ]
        }
      ]
    },
    {
      "cell_type": "code",
      "source": [
        "word2embedding = {}\n",
        "f = open('/content/glove.6B.100d.txt', encoding='utf8')\n",
        "for line in f:\n",
        "  word = line.split()[0] # 가장 첫번째가 단어,\n",
        "  vec = line.split()[1:] # 그 후는 단어에 대한 벡터\n",
        "  vec = np.asarray(vec, dtype='float32') # 문자-> 실수\n",
        "  #print(word, len(vec), vec)\n",
        "  #break\n",
        "  word2embedding[word] = vec\n",
        "f.close()"
      ],
      "metadata": {
        "id": "ClAAbJ56mItI"
      },
      "execution_count": null,
      "outputs": []
    },
    {
      "cell_type": "code",
      "source": [
        "word2embedding['the']"
      ],
      "metadata": {
        "colab": {
          "base_uri": "https://localhost:8080/"
        },
        "id": "htQwchYwQfdS",
        "outputId": "1da52dcb-af50-4985-f0c7-8ca44cf3c931"
      },
      "execution_count": null,
      "outputs": [
        {
          "output_type": "execute_result",
          "data": {
            "text/plain": [
              "array([-0.038194, -0.24487 ,  0.72812 , -0.39961 ,  0.083172,  0.043953,\n",
              "       -0.39141 ,  0.3344  , -0.57545 ,  0.087459,  0.28787 , -0.06731 ,\n",
              "        0.30906 , -0.26384 , -0.13231 , -0.20757 ,  0.33395 , -0.33848 ,\n",
              "       -0.31743 , -0.48336 ,  0.1464  , -0.37304 ,  0.34577 ,  0.052041,\n",
              "        0.44946 , -0.46971 ,  0.02628 , -0.54155 , -0.15518 , -0.14107 ,\n",
              "       -0.039722,  0.28277 ,  0.14393 ,  0.23464 , -0.31021 ,  0.086173,\n",
              "        0.20397 ,  0.52624 ,  0.17164 , -0.082378, -0.71787 , -0.41531 ,\n",
              "        0.20335 , -0.12763 ,  0.41367 ,  0.55187 ,  0.57908 , -0.33477 ,\n",
              "       -0.36559 , -0.54857 , -0.062892,  0.26584 ,  0.30205 ,  0.99775 ,\n",
              "       -0.80481 , -3.0243  ,  0.01254 , -0.36942 ,  2.2167  ,  0.72201 ,\n",
              "       -0.24978 ,  0.92136 ,  0.034514,  0.46745 ,  1.1079  , -0.19358 ,\n",
              "       -0.074575,  0.23353 , -0.052062, -0.22044 ,  0.057162, -0.15806 ,\n",
              "       -0.30798 , -0.41625 ,  0.37972 ,  0.15006 , -0.53212 , -0.2055  ,\n",
              "       -1.2526  ,  0.071624,  0.70565 ,  0.49744 , -0.42063 ,  0.26148 ,\n",
              "       -1.538   , -0.30223 , -0.073438, -0.28312 ,  0.37104 , -0.25217 ,\n",
              "        0.016215, -0.017099, -0.38984 ,  0.87424 , -0.72569 , -0.51058 ,\n",
              "       -0.52028 , -0.1459  ,  0.8278  ,  0.27062 ], dtype=float32)"
            ]
          },
          "metadata": {},
          "execution_count": 51
        }
      ]
    },
    {
      "cell_type": "code",
      "source": [
        "len(word2embedding) # 40만개의 단어"
      ],
      "metadata": {
        "colab": {
          "base_uri": "https://localhost:8080/"
        },
        "id": "z8w9cLWjRfG8",
        "outputId": "87143a0f-fa90-4d75-8962-d607ed943ba3"
      },
      "execution_count": null,
      "outputs": [
        {
          "output_type": "execute_result",
          "data": {
            "text/plain": [
              "400000"
            ]
          },
          "metadata": {},
          "execution_count": 52
        }
      ]
    },
    {
      "cell_type": "markdown",
      "source": [
        "### **| 임베딩 매트릭스 제작**\n"
      ],
      "metadata": {
        "id": "-0voM702NyN_"
      }
    },
    {
      "cell_type": "code",
      "source": [
        "print('imdb 딕셔너리의 모든 단어 수 :', len(word2index))\n",
        "print('우리 모델에서 사용할 모든 단어 수 :', max_features)\n",
        "print('glove 임베딩 에 있는 모든 단어 수 : ', len(word2embedding))"
      ],
      "metadata": {
        "id": "Qd2meCF_2brf",
        "colab": {
          "base_uri": "https://localhost:8080/"
        },
        "outputId": "2834be51-0646-49b5-b006-71ea9f401d31"
      },
      "execution_count": null,
      "outputs": [
        {
          "output_type": "stream",
          "name": "stdout",
          "text": [
            "imdb 딕셔너리의 모든 단어 수 : 88584\n",
            "우리 모델에서 사용할 모든 단어 수 : 500\n",
            "glove 임베딩 에 있는 모든 단어 수 :  400000\n"
          ]
        }
      ]
    },
    {
      "cell_type": "code",
      "source": [
        "embed_mx = np.zeros((max_features, 100))\n",
        "# 매트릭스의 크기 : (500, 100)\n",
        "embed_mx.shape"
      ],
      "metadata": {
        "colab": {
          "base_uri": "https://localhost:8080/"
        },
        "id": "XUHmo105TRFF",
        "outputId": "73d19b15-7d88-475d-dd4a-9cdc1cdff080"
      },
      "execution_count": null,
      "outputs": [
        {
          "output_type": "execute_result",
          "data": {
            "text/plain": [
              "(500, 100)"
            ]
          },
          "metadata": {},
          "execution_count": 66
        }
      ]
    },
    {
      "cell_type": "code",
      "source": [
        "for idx in range(4, 504):\n",
        "  word = index2word[idx]\n",
        "  embed = word2embedding.get(word) # 딕셔너리.get 함수는 없으면 None값 반환\n",
        "  #print(word, embed)\n",
        "  if embed is not None:\n",
        "    embed_mx[idx-4] = embed"
      ],
      "metadata": {
        "id": "11HaKUORnLau"
      },
      "execution_count": null,
      "outputs": []
    },
    {
      "cell_type": "markdown",
      "source": [
        "### **| 임베딩 매트릭스 적용하기**"
      ],
      "metadata": {
        "id": "0NdnxekRN5x3"
      }
    },
    {
      "cell_type": "code",
      "source": [
        "model = create_model(max_len, max_features, 100)\n",
        "model.summary()"
      ],
      "metadata": {
        "id": "GgAXH_T7OBqQ",
        "colab": {
          "base_uri": "https://localhost:8080/"
        },
        "outputId": "406276bb-c487-48a7-cc15-33754aa49685"
      },
      "execution_count": null,
      "outputs": [
        {
          "output_type": "stream",
          "name": "stdout",
          "text": [
            "Model: \"model_2\"\n",
            "_________________________________________________________________\n",
            " Layer (type)                Output Shape              Param #   \n",
            "=================================================================\n",
            " input_4 (InputLayer)        [(None, 100)]             0         \n",
            "                                                                 \n",
            " embedding_3 (Embedding)     (None, 100, 100)          50000     \n",
            "                                                                 \n",
            " flatten_3 (Flatten)         (None, 10000)             0         \n",
            "                                                                 \n",
            " dense_4 (Dense)             (None, 32)                320032    \n",
            "                                                                 \n",
            " dense_5 (Dense)             (None, 1)                 33        \n",
            "                                                                 \n",
            "=================================================================\n",
            "Total params: 370,065\n",
            "Trainable params: 370,065\n",
            "Non-trainable params: 0\n",
            "_________________________________________________________________\n"
          ]
        }
      ]
    },
    {
      "cell_type": "code",
      "source": [
        "model.layers[1].set_weights([embed_mx]) # 가중치를 Glove 값으로 초기화"
      ],
      "metadata": {
        "id": "2XBq_2UYzhgO"
      },
      "execution_count": null,
      "outputs": []
    },
    {
      "cell_type": "code",
      "source": [
        "model.compile(optimizer='rmsprop',\n",
        "              loss = 'binary_crossentropy',\n",
        "              metrics=['acc'])\n",
        "history = model.fit(x_train, y_train,\n",
        "                    epochs=20,\n",
        "                    batch_size=32,\n",
        "                    validation_split=0.2)\n",
        "plot_lcurve([history], [''], ['dodgerblue'])"
      ],
      "metadata": {
        "colab": {
          "base_uri": "https://localhost:8080/",
          "height": 1000
        },
        "id": "xtICXYUxUgxM",
        "outputId": "e9ab5c89-c52f-4069-876d-18b5f02ba9fa"
      },
      "execution_count": null,
      "outputs": [
        {
          "output_type": "stream",
          "name": "stdout",
          "text": [
            "Epoch 1/20\n",
            "625/625 [==============================] - 5s 7ms/step - loss: 0.7147 - acc: 0.5013 - val_loss: 0.6932 - val_acc: 0.4938\n",
            "Epoch 2/20\n",
            "625/625 [==============================] - 4s 7ms/step - loss: 0.6940 - acc: 0.4949 - val_loss: 0.6931 - val_acc: 0.5064\n",
            "Epoch 3/20\n",
            "625/625 [==============================] - 4s 7ms/step - loss: 0.6937 - acc: 0.5027 - val_loss: 0.6932 - val_acc: 0.4940\n",
            "Epoch 4/20\n",
            "625/625 [==============================] - 4s 7ms/step - loss: 0.6925 - acc: 0.5278 - val_loss: 0.6800 - val_acc: 0.5604\n",
            "Epoch 5/20\n",
            "625/625 [==============================] - 4s 7ms/step - loss: 0.6127 - acc: 0.6658 - val_loss: 0.5506 - val_acc: 0.7180\n",
            "Epoch 6/20\n",
            "625/625 [==============================] - 4s 7ms/step - loss: 0.4768 - acc: 0.7714 - val_loss: 0.4853 - val_acc: 0.7618\n",
            "Epoch 7/20\n",
            "625/625 [==============================] - 4s 7ms/step - loss: 0.4129 - acc: 0.8087 - val_loss: 0.4746 - val_acc: 0.7734\n",
            "Epoch 8/20\n",
            "625/625 [==============================] - 4s 7ms/step - loss: 0.3772 - acc: 0.8286 - val_loss: 0.4755 - val_acc: 0.7766\n",
            "Epoch 9/20\n",
            "625/625 [==============================] - 4s 7ms/step - loss: 0.3466 - acc: 0.8467 - val_loss: 0.5099 - val_acc: 0.7662\n",
            "Epoch 10/20\n",
            "625/625 [==============================] - 4s 7ms/step - loss: 0.3146 - acc: 0.8631 - val_loss: 0.5074 - val_acc: 0.7756\n",
            "Epoch 11/20\n",
            "625/625 [==============================] - 4s 7ms/step - loss: 0.2797 - acc: 0.8803 - val_loss: 0.5457 - val_acc: 0.7700\n",
            "Epoch 12/20\n",
            "625/625 [==============================] - 4s 7ms/step - loss: 0.2411 - acc: 0.9007 - val_loss: 0.5805 - val_acc: 0.7646\n",
            "Epoch 13/20\n",
            "625/625 [==============================] - 4s 7ms/step - loss: 0.2025 - acc: 0.9212 - val_loss: 0.6709 - val_acc: 0.7602\n",
            "Epoch 14/20\n",
            "625/625 [==============================] - 5s 7ms/step - loss: 0.1609 - acc: 0.9395 - val_loss: 0.7674 - val_acc: 0.7498\n",
            "Epoch 15/20\n",
            "625/625 [==============================] - 4s 7ms/step - loss: 0.1240 - acc: 0.9554 - val_loss: 0.8027 - val_acc: 0.7524\n",
            "Epoch 16/20\n",
            "625/625 [==============================] - 4s 7ms/step - loss: 0.0911 - acc: 0.9703 - val_loss: 1.0245 - val_acc: 0.7370\n",
            "Epoch 17/20\n",
            "625/625 [==============================] - 4s 7ms/step - loss: 0.0659 - acc: 0.9791 - val_loss: 1.0791 - val_acc: 0.7396\n",
            "Epoch 18/20\n",
            "625/625 [==============================] - 4s 7ms/step - loss: 0.0449 - acc: 0.9862 - val_loss: 1.5690 - val_acc: 0.7174\n",
            "Epoch 19/20\n",
            "625/625 [==============================] - 4s 7ms/step - loss: 0.0295 - acc: 0.9908 - val_loss: 1.4060 - val_acc: 0.7478\n",
            "Epoch 20/20\n",
            "625/625 [==============================] - 4s 7ms/step - loss: 0.0197 - acc: 0.9941 - val_loss: 1.5033 - val_acc: 0.7400\n"
          ]
        },
        {
          "output_type": "display_data",
          "data": {
            "text/plain": [
              "<Figure size 864x288 with 2 Axes>"
            ],
            "image/png": "[encoded data removed]"
          },
          "metadata": {
            "needs_background": "light"
          }
        }
      ]
    },
    {
      "cell_type": "markdown",
      "source": [
        "## 추가 학습 : 규제 적용하기\n",
        "---"
      ],
      "metadata": {
        "id": "UcW36RYhGOTv"
      }
    },
    {
      "cell_type": "code",
      "source": [
        "def create_regular_model(max_len, max_features, emb_dims):\n",
        "  x = layers.Input(shape=max_len)\n",
        "  y = layers.Embedding(max_features, emb_dims)(x)\n",
        "  y = layers.Flatten()(y)\n",
        "  y = layers.Dense(32, activation='relu', kernel_regularizer=tf.keras.regularizers.l2(0.1))(y)\n",
        "  y = layers.Dense(1, activation='sigmoid')(y) # 이진분류\n",
        "  return models.Model(x,y)\n",
        "\n",
        "model = create_regular_model(max_len, max_features, 100)\n",
        "model.summary()\n",
        "model.layers[1].set_weights([embed_mx]) # 가중치를 Glove 값으로 초기화\n",
        "\n",
        "model.compile(optimizer='rmsprop',\n",
        "              loss = 'binary_crossentropy',\n",
        "              metrics=['acc'])\n",
        "history = model.fit(x_train, y_train,\n",
        "                    epochs=20,\n",
        "                    batch_size=32,\n",
        "                    validation_split=0.2)\n",
        "plot_lcurve([history], [''], ['dodgerblue'])"
      ],
      "metadata": {
        "id": "JQJWF1-z8MvW",
        "colab": {
          "base_uri": "https://localhost:8080/",
          "height": 1000
        },
        "outputId": "acc47306-7f87-41ec-ba6d-bc65a7bfc309"
      },
      "execution_count": null,
      "outputs": [
        {
          "output_type": "stream",
          "name": "stdout",
          "text": [
            "Model: \"model_3\"\n",
            "_________________________________________________________________\n",
            " Layer (type)                Output Shape              Param #   \n",
            "=================================================================\n",
            " input_5 (InputLayer)        [(None, 100)]             0         \n",
            "                                                                 \n",
            " embedding_4 (Embedding)     (None, 100, 100)          50000     \n",
            "                                                                 \n",
            " flatten_4 (Flatten)         (None, 10000)             0         \n",
            "                                                                 \n",
            " dense_6 (Dense)             (None, 32)                320032    \n",
            "                                                                 \n",
            " dense_7 (Dense)             (None, 1)                 33        \n",
            "                                                                 \n",
            "=================================================================\n",
            "Total params: 370,065\n",
            "Trainable params: 370,065\n",
            "Non-trainable params: 0\n",
            "_________________________________________________________________\n",
            "Epoch 1/20\n",
            "625/625 [==============================] - 6s 8ms/step - loss: 1.0440 - acc: 0.5063 - val_loss: 0.9888 - val_acc: 0.4940\n",
            "Epoch 2/20\n",
            "625/625 [==============================] - 5s 8ms/step - loss: 0.7859 - acc: 0.5714 - val_loss: 0.8265 - val_acc: 0.5164\n",
            "Epoch 3/20\n",
            "625/625 [==============================] - 5s 8ms/step - loss: 0.7497 - acc: 0.6564 - val_loss: 0.7698 - val_acc: 0.6504\n",
            "Epoch 4/20\n",
            "625/625 [==============================] - 5s 8ms/step - loss: 0.7064 - acc: 0.7123 - val_loss: 0.6449 - val_acc: 0.7468\n",
            "Epoch 5/20\n",
            "625/625 [==============================] - 5s 8ms/step - loss: 0.6610 - acc: 0.7380 - val_loss: 0.6441 - val_acc: 0.7484\n",
            "Epoch 6/20\n",
            "625/625 [==============================] - 5s 8ms/step - loss: 0.6258 - acc: 0.7580 - val_loss: 0.6364 - val_acc: 0.7396\n",
            "Epoch 7/20\n",
            "625/625 [==============================] - 5s 8ms/step - loss: 0.6013 - acc: 0.7689 - val_loss: 0.6044 - val_acc: 0.7696\n",
            "Epoch 8/20\n",
            "625/625 [==============================] - 5s 8ms/step - loss: 0.5835 - acc: 0.7776 - val_loss: 0.6402 - val_acc: 0.7476\n",
            "Epoch 9/20\n",
            "625/625 [==============================] - 5s 8ms/step - loss: 0.5692 - acc: 0.7819 - val_loss: 0.5943 - val_acc: 0.7582\n",
            "Epoch 10/20\n",
            "625/625 [==============================] - 5s 8ms/step - loss: 0.5591 - acc: 0.7875 - val_loss: 0.5956 - val_acc: 0.7556\n",
            "Epoch 11/20\n",
            "625/625 [==============================] - 5s 8ms/step - loss: 0.5458 - acc: 0.7924 - val_loss: 0.5607 - val_acc: 0.7834\n",
            "Epoch 12/20\n",
            "625/625 [==============================] - 5s 8ms/step - loss: 0.5371 - acc: 0.7979 - val_loss: 0.5741 - val_acc: 0.7714\n",
            "Epoch 13/20\n",
            "625/625 [==============================] - 5s 8ms/step - loss: 0.5361 - acc: 0.7964 - val_loss: 0.5802 - val_acc: 0.7606\n",
            "Epoch 14/20\n",
            "625/625 [==============================] - 5s 8ms/step - loss: 0.5315 - acc: 0.8016 - val_loss: 0.5831 - val_acc: 0.7668\n",
            "Epoch 15/20\n",
            "625/625 [==============================] - 5s 7ms/step - loss: 0.5284 - acc: 0.8045 - val_loss: 0.5742 - val_acc: 0.7712\n",
            "Epoch 16/20\n",
            "625/625 [==============================] - 5s 8ms/step - loss: 0.5269 - acc: 0.8055 - val_loss: 0.5712 - val_acc: 0.7768\n",
            "Epoch 17/20\n",
            "625/625 [==============================] - 5s 8ms/step - loss: 0.5205 - acc: 0.8076 - val_loss: 0.5799 - val_acc: 0.7678\n",
            "Epoch 18/20\n",
            "625/625 [==============================] - 5s 8ms/step - loss: 0.5202 - acc: 0.8091 - val_loss: 0.5826 - val_acc: 0.7728\n",
            "Epoch 19/20\n",
            "625/625 [==============================] - 5s 8ms/step - loss: 0.5178 - acc: 0.8123 - val_loss: 0.5734 - val_acc: 0.7734\n",
            "Epoch 20/20\n",
            "625/625 [==============================] - 5s 8ms/step - loss: 0.5150 - acc: 0.8135 - val_loss: 0.5755 - val_acc: 0.7778\n"
          ]
        },
        {
          "output_type": "display_data",
          "data": {
            "text/plain": [
              "<Figure size 864x288 with 2 Axes>"
            ],
            "image/png": "[encoded data removed]"
          },
          "metadata": {
            "needs_background": "light"
          }
        }
      ]
    },
    {
      "cell_type": "code",
      "source": [],
      "metadata": {
        "id": "VQPAVyEU668I"
      },
      "execution_count": null,
      "outputs": []
    }
  ]
}